{
 "cells": [
  {
   "cell_type": "code",
   "execution_count": 1,
   "metadata": {},
   "outputs": [],
   "source": [
    "import numpy as np\n",
    "import sys\n",
    "sys.path.insert(1,'../src')\n",
    "from _generate_time_series import *\n",
    "from _shear_frame import *\n",
    "from utils_OB import *\n",
    "from _clustering import *\n",
    "import _tracking as tk\n",
    "from utils_JK import *\n",
    "import seaborn as sns\n",
    "sns.set_theme(context='paper',font_scale=1.0, style = 'ticks', color_codes='deep')\n",
    "\n",
    "%load_ext autoreload\n",
    "%autoreload 2"
   ]
  },
  {
   "cell_type": "code",
   "execution_count": 3,
   "metadata": {},
   "outputs": [],
   "source": [
    "path='../Numerical test case/test_3/'\n",
    "data_true = np.load(path+'test_results_flipped/test_3_true_flipped.npz',allow_pickle=True)\n",
    "true_f = data_true['arr_0']\n",
    "true_phi = data_true['arr_1']"
   ]
  },
  {
   "cell_type": "code",
   "execution_count": 7,
   "metadata": {},
   "outputs": [],
   "source": [
    "data = np.load(path+'test_results_flipped/test_3_run_'+str(3)+'_flipped.npz',allow_pickle=True)\n",
    "freqs_out = data['arr_0']\n",
    "phis_out = data['arr_1']"
   ]
  },
  {
   "cell_type": "code",
   "execution_count": 8,
   "metadata": {},
   "outputs": [
    {
     "name": "stdout",
     "output_type": "stream",
     "text": [
      "[0.         0.63979029 1.         0.         0.         0.        ]\n",
      "[0.         0.         0.         0.         0.72075922 1.        ]\n"
     ]
    }
   ],
   "source": [
    "freqs_out_above, freqs_out_below, phis_out_above, phis_out_below = divide_modes(freqs_out, phis_out, freq_lim=0.8)\n",
    "\n",
    "mode_traces_he_above = tk.perform_tracking_He2022(freqs_out_above, phis_out_above)\n",
    "mode_traces_he_below = tk.perform_tracking_He2022(freqs_out_below, phis_out_below)\n",
    "\n",
    "mode_traces_he_above_sorted = tk.sort_traces(mode_traces_he_above, true_f[0,2:], true_phi[2:,:,0])\n",
    "mode_traces_he_below_sorted = tk.sort_traces(mode_traces_he_below, true_f[0,:2], true_phi[:2,:,0])\n",
    "\n",
    "true_x=true_phi[1,:,0]\n",
    "true_x=np.insert(true_x,[0,2],[0,0])\n",
    "print(true_x)\n",
    "true_y=true_phi[0,:,0]\n",
    "true_y=np.insert(true_y,[0,2],[0,0])\n",
    "print(true_y)"
   ]
  },
  {
   "cell_type": "code",
   "execution_count": 29,
   "metadata": {},
   "outputs": [
    {
     "name": "stderr",
     "output_type": "stream",
     "text": [
      "C:\\Users\\olebj\\AppData\\Local\\Temp\\ipykernel_15228\\3044256358.py:62: UserWarning: FixedFormatter should only be used together with FixedLocator\n",
      "  ax.set_zticklabels(['','','First\\n floor','','Second\\nFloor'])\n",
      "C:\\Users\\olebj\\AppData\\Local\\Temp\\ipykernel_15228\\3044256358.py:72: UserWarning: constrained_layout not applied because axes sizes collapsed to zero.  Try making figure larger or axes decorations smaller.\n",
      "  fig.savefig(fname='he2022_modeshapes_3d.png',dpi=400,bbox_inches = 'tight')\n"
     ]
    }
   ],
   "source": [
    "### OBs testplot \n",
    "\n",
    "\n",
    "\n",
    "\n",
    "\n",
    "matplotlib.use('Qtagg')\n",
    "phi1=mode_traces_he_below[0].mode_shapes\n",
    "phi2=mode_traces_he_below[1].mode_shapes\n",
    "\n",
    "# print(phi1)\n",
    "subplot_kw={'projection':'3d'}\n",
    "fig,axs=plt.subplots(1,2,figsize=(6,3.3),subplot_kw=subplot_kw,layout='constrained')\n",
    "first_x=True\n",
    "first_y=True\n",
    "for phi in phi1:\n",
    "\n",
    "    MAC_x=MAC(true_phi[1,:,0],phi)\n",
    "    MAC_y=MAC(true_phi[0,:,0],phi)\n",
    "    if MAC_x >MAC_y:\n",
    "        c='C0'\n",
    "    else:c='C1'\n",
    "    phi=np.insert(phi,0,0)\n",
    "    phi=np.real(np.insert(phi,3,0))\n",
    "    # print(phi)\n",
    "\n",
    "\n",
    "    lines=axs[0].plot(phi[:3],\n",
    "                phi[3:],\n",
    "                zs=[0,1,2],color=c,alpha=0.3,label='Mode shapes closer to\\n analytical mode shape in y-direction',marker='.',markersize=1.5)\n",
    "\n",
    "an_x=axs[0].plot(true_x[:3],\n",
    "            true_x[3:],\n",
    "            zs=[0,1,2],color='C0',linewidth=5,label='Analytical x-direction',marker='o',markeredgecolor='black')\n",
    " \n",
    "\n",
    "\n",
    "for phi in phi2:\n",
    "    MAC_x=MAC(true_phi[1,:,0],phi)\n",
    "    MAC_y=MAC(true_phi[0,:,0],phi)\n",
    "    if MAC_x >MAC_y:\n",
    "        c='C0'\n",
    "    else:c='C1'\n",
    "\n",
    "    phi=np.insert(phi,0,0)\n",
    "    phi=np.real(np.insert(phi,3,0))\n",
    "    # print(phi)\n",
    "    lines_2=axs[1].plot(phi[:3],\n",
    "                phi[3:],\n",
    "                zs=[0,1,2],color=c,alpha=0.3,label='Mode shapes closer to\\n analytical mode shape in x-direction',marker='.',markersize=1.5)\n",
    "    \n",
    "an_y=axs[1].plot(true_y[:3],\n",
    "        true_y[3:],\n",
    "        zs=[0,1,2],color='C1',linewidth=5,label='Analytical y-direction',marker='o',markeredgecolor='black')\n",
    "axs[0].set_title('Mode shapes in the first trace\\nRepresenting first mode in x-direction', y = 1.1)\n",
    "axs[1].set_title('Mode shapes in the second trace\\nRepresenting first mode in y-direction', y = 1.1)\n",
    "# axs[0].plot([0,0,0],[0,0,0],zs=[-0.001,0.999,1.999],linewidth=5,color='grey')\n",
    "\n",
    "for ax in axs:\n",
    "    ax.set_xticklabels([])\n",
    "    ax.set_yticklabels([])\n",
    "    ax.set_zticklabels(['','','First\\n floor','','Second\\nFloor'])\n",
    "    ax.view_init(elev=25, azim=45, roll=0)\n",
    "    ax.set_xlabel('X-axis',labelpad=-15)\n",
    "    ax.set_ylabel('Y-axis',labelpad=-15)\n",
    "        \n",
    "    ax.set_box_aspect(aspect=(1,1,1.3),zoom=1.15)\n",
    "\n",
    "fig.legend(handles=[lines_2[0],an_x[0],lines[0],an_y[0]],loc='lower center',ncols=2, bbox_to_anchor=(0.5, -0.06))\n",
    "# fig.suptitle('Mode shape content plotted as deformations in the frame')\n",
    "# fig.subplots_adjust(left=0,bottom=0,top=1,right=1,hspace=0)\n",
    "fig.savefig(fname='he2022_modeshapes_3d.png',dpi=400,bbox_inches = 'tight')\n",
    "fig.show()"
   ]
  },
  {
   "cell_type": "code",
   "execution_count": null,
   "metadata": {},
   "outputs": [],
   "source": []
  },
  {
   "cell_type": "code",
   "execution_count": null,
   "metadata": {},
   "outputs": [],
   "source": []
  }
 ],
 "metadata": {
  "kernelspec": {
   "display_name": "base",
   "language": "python",
   "name": "python3"
  },
  "language_info": {
   "codemirror_mode": {
    "name": "ipython",
    "version": 3
   },
   "file_extension": ".py",
   "mimetype": "text/x-python",
   "name": "python",
   "nbconvert_exporter": "python",
   "pygments_lexer": "ipython3",
   "version": "3.9.12"
  },
  "orig_nbformat": 4
 },
 "nbformat": 4,
 "nbformat_minor": 2
}
