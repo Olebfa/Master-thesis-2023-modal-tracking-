{
 "cells": [
  {
   "cell_type": "code",
   "execution_count": 4,
   "metadata": {},
   "outputs": [
    {
     "name": "stdout",
     "output_type": "stream",
     "text": [
      "The autoreload extension is already loaded. To reload it, use:\n",
      "  %reload_ext autoreload\n"
     ]
    }
   ],
   "source": [
    "import sys \n",
    "import os\n",
    "path='../../src'\n",
    "if path not in sys.path:\n",
    "    sys.path.insert(1,path)\n",
    "from mode_visulizer import *\n",
    "from preposessing import *\n",
    "import numpy as np\n",
    "%load_ext autoreload\n",
    "%autoreload 2"
   ]
  },
  {
   "cell_type": "code",
   "execution_count": 6,
   "metadata": {},
   "outputs": [],
   "source": [
    "names=os.listdir('../../../5hz_resampled_int_trans_clustered/')\n",
    "tss=[]\n",
    "for name in names[1000:1010]:\n",
    "    tss.append(import_converted_ts('../../../5hz_resampled_int_trans_clustered/',\n",
    "                                   name))\n",
    "ts=tss[3]\n",
    "plot=mode_plot(ts.PHI_median)\n",
    "\n",
    "freqs=np.asarray(ts.lambds_median[:5])/2/np.pi\n",
    "damps=(np.asarray(ts.xi_auto[:5],dtype=object))\n",
    "damps_med=[np.median(i) for i in damps]\n",
    "\n",
    "\n",
    "plot.gan_report_figures_for_freqs(freqs,damps_med)"
   ]
  }
 ],
 "metadata": {
  "kernelspec": {
   "display_name": "base",
   "language": "python",
   "name": "python3"
  },
  "language_info": {
   "codemirror_mode": {
    "name": "ipython",
    "version": 3
   },
   "file_extension": ".py",
   "mimetype": "text/x-python",
   "name": "python",
   "nbconvert_exporter": "python",
   "pygments_lexer": "ipython3",
   "version": "3.9.12"
  },
  "orig_nbformat": 4
 },
 "nbformat": 4,
 "nbformat_minor": 2
}
