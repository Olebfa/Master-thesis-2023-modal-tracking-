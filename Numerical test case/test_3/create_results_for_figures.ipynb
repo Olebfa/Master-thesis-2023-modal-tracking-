{
 "cells": [
  {
   "cell_type": "code",
   "execution_count": 2,
   "metadata": {},
   "outputs": [],
   "source": [
    "import numpy as np\n",
    "import sys\n",
    "sys.path.insert(1,'../../src')\n",
    "from _generate_time_series import *\n",
    "from _shear_frame import *\n",
    "from utils_OB import *\n",
    "from _clustering import *\n",
    "import _tracking as tk\n",
    "from utils_JK import *\n",
    "import seaborn as sns\n",
    "sns.set_theme(context='paper',font_scale=1.0, style = 'ticks', color_codes='deep')\n",
    "\n",
    "%load_ext autoreload\n",
    "%autoreload 2"
   ]
  },
  {
   "cell_type": "code",
   "execution_count": 3,
   "metadata": {},
   "outputs": [],
   "source": [
    "data_true = np.load('./test_results_flipped/test_3_true_flipped.npz',allow_pickle=True)\n",
    "true_f = data_true['arr_0']\n",
    "true_phi = data_true['arr_1']"
   ]
  },
  {
   "cell_type": "code",
   "execution_count": 4,
   "metadata": {},
   "outputs": [],
   "source": [
    "n_test = np.array([20,25,30,35,40])\n",
    "m_test = np.array([5,8,11,14,17,20,26,32])\n",
    "d_track_threshold_test = np.array([0.01, 0.05, 0.075 , 0.10, 0.20, 0.30, 0.35, 0.50, 0.80])"
   ]
  },
  {
   "cell_type": "code",
   "execution_count": 12,
   "metadata": {},
   "outputs": [
    {
     "name": "stdout",
     "output_type": "stream",
     "text": [
      "run: 0\n",
      "run: 1\n",
      "run: 2\n",
      "run: 3\n",
      "run: 4\n",
      "run: 5\n",
      "run: 6\n",
      "run: 7\n",
      "run: 8\n",
      "run: 9\n"
     ]
    }
   ],
   "source": [
    "for run_i in range(10):\n",
    "    print('run: {}'.format(run_i))\n",
    "\n",
    "    datai = np.load('./test_results_flipped/test_3_run_'+str(run_i)+'_flipped.npz',allow_pickle=True)\n",
    "    freqs_outi = datai['arr_0']\n",
    "    phis_outi = datai['arr_1']\n",
    "\n",
    "    result_dict_average = {}\n",
    "    result_dict_linear_extrapolation = {}\n",
    "\n",
    "    for method in ['average', 'linear_extrapolation']:    \n",
    "        for ni in n_test:\n",
    "            for mi in m_test:\n",
    "                for d_track_threshold_i in d_track_threshold_test:\n",
    "                    mode_traces_i = tk.perform_tracking(freqs_outi, phis_outi, n = ni, m = mi, d_track_threshold=d_track_threshold_i,method=method, split=True)\n",
    "                    if len(mode_traces_i) != 4:\n",
    "                        if method == 'average':\n",
    "                            result_dict_average[ni, mi, d_track_threshold_i] = None\n",
    "                        else:\n",
    "                            result_dict_linear_extrapolation[ni, mi, d_track_threshold_i] = None\n",
    "                    else:\n",
    "                        temp_n_skipped_time_seg = []\n",
    "                        temp_time_seg = []\n",
    "                        temp_frequencies = []\n",
    "                        mode_traces_i = tk.sort_traces(mode_traces_i, true_f[ni], true_phi[:,:,ni])\n",
    "                        for k, mode_traces_ik in enumerate(mode_traces_i):\n",
    "                            mode_traces_ik.count_missed_time_segments(freqs_outi[ni:],phis_outi[ni:],true_mode_f=true_f[ni:,k],true_mode_phi=true_phi[k,:,ni:],lim=d_track_threshold_i, n = ni)\n",
    "                            temp_n_skipped_time_seg.append(mode_traces_ik.n_skipped_time_seg + mode_traces_ik.n_false_positives) \n",
    "                            temp_time_seg.append(mode_traces_ik.time_seg)\n",
    "                            temp_frequencies.append(mode_traces_ik.frequencies)\n",
    "                        if method == 'average':\n",
    "                            result_dict_average[ni, mi, d_track_threshold_i] = temp_time_seg, temp_frequencies, temp_n_skipped_time_seg\n",
    "                        else:\n",
    "                            result_dict_linear_extrapolation[ni, mi, d_track_threshold_i] = temp_time_seg, temp_frequencies, temp_n_skipped_time_seg\n",
    "\n",
    "    np.savez('./result_first_algorithm_flipped/result_average '+str(run_i), result_dict=result_dict_average)\n",
    "    np.savez('./result_first_algorithm_flipped/result_linear_extrapolation '+str(run_i), result_dict=result_dict_linear_extrapolation)"
   ]
  }
 ],
 "metadata": {
  "kernelspec": {
   "display_name": "base",
   "language": "python",
   "name": "python3"
  },
  "language_info": {
   "codemirror_mode": {
    "name": "ipython",
    "version": 3
   },
   "file_extension": ".py",
   "mimetype": "text/x-python",
   "name": "python",
   "nbconvert_exporter": "python",
   "pygments_lexer": "ipython3",
   "version": "3.8.8"
  },
  "orig_nbformat": 4
 },
 "nbformat": 4,
 "nbformat_minor": 2
}
