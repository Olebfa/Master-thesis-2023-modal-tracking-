{
 "cells": [
  {
   "cell_type": "code",
   "execution_count": 1,
   "metadata": {},
   "outputs": [],
   "source": [
    "import numpy as np\n",
    "import matplotlib.pyplot as plt\n",
    "import matplotlib\n",
    "import sys\n",
    "import os\n",
    "src_path='../src'\n",
    "if not src_path in sys.path:\n",
    "    sys.path.insert(1,src_path)\n",
    "from preposessing import *\n",
    "from utils_OB import *\n",
    "from _tracking import *\n",
    "%load_ext autoreload\n",
    "import pickle\n",
    "%autoreload 2\n",
    "from utils_JK import *\n",
    "from _postprocessing import *\n",
    "import seaborn as sns\n",
    "sns.set_theme(context='paper', style = 'ticks', color_codes='deep')\n",
    "matplotlib.use('tkagg')"
   ]
  },
  {
   "cell_type": "code",
   "execution_count": 2,
   "metadata": {},
   "outputs": [],
   "source": [
    "trace_comparisons_alg1=PostTraceComparison()\n",
    "trace_comparisons_alg1.import_Post_traces_from_folder('../../Tracking/Method1_a_n10/')"
   ]
  },
  {
   "cell_type": "code",
   "execution_count": 4,
   "metadata": {},
   "outputs": [
    {
     "name": "stderr",
     "output_type": "stream",
     "text": [
      "c:\\Users\\olebj\\OneDrive - NTNU\\00Master - Onedrive\\OB ymse\\modal-tracking-thesis-spring-2023\\Postprocessing\\../src\\mode_visulizer.py:473: RuntimeWarning: More than 20 figures have been opened. Figures created through the pyplot interface (`matplotlib.pyplot.figure`) are retained until explicitly closed and may consume too much memory. (To control this warning, see the rcParam `figure.max_open_warning`). Consider using `matplotlib.pyplot.close()`.\n",
      "  self.rep_fig=plt.figure(figsize=(7,2)\n",
      "c:\\Users\\olebj\\OneDrive - NTNU\\00Master - Onedrive\\OB ymse\\modal-tracking-thesis-spring-2023\\Postprocessing\\../src\\mode_visulizer.py:167: RuntimeWarning: More than 20 figures have been opened. Figures created through the pyplot interface (`matplotlib.pyplot.figure`) are retained until explicitly closed and may consume too much memory. (To control this warning, see the rcParam `figure.max_open_warning`). Consider using `matplotlib.pyplot.close()`.\n",
      "  self.fig = plt.figure(figsize=figsize)\n"
     ]
    },
    {
     "ename": "IndexError",
     "evalue": "list index out of range",
     "output_type": "error",
     "traceback": [
      "\u001b[1;31m---------------------------------------------------------------------------\u001b[0m",
      "\u001b[1;31mIndexError\u001b[0m                                Traceback (most recent call last)",
      "\u001b[1;32mc:\\Users\\olebj\\OneDrive - NTNU\\00Master - Onedrive\\OB ymse\\modal-tracking-thesis-spring-2023\\Postprocessing\\Mode_plots.ipynb Cell 3\u001b[0m in \u001b[0;36m<cell line: 1>\u001b[1;34m()\u001b[0m\n\u001b[0;32m      <a href='vscode-notebook-cell:/c%3A/Users/olebj/OneDrive%20-%20NTNU/00Master%20-%20Onedrive/OB%20ymse/modal-tracking-thesis-spring-2023/Postprocessing/Mode_plots.ipynb#W1sZmlsZQ%3D%3D?line=0'>1</a>\u001b[0m \u001b[39mfor\u001b[39;00m i \u001b[39min\u001b[39;00m \u001b[39mrange\u001b[39m(\u001b[39m30\u001b[39m):\n\u001b[1;32m----> <a href='vscode-notebook-cell:/c%3A/Users/olebj/OneDrive%20-%20NTNU/00Master%20-%20Onedrive/OB%20ymse/modal-tracking-thesis-spring-2023/Postprocessing/Mode_plots.ipynb#W1sZmlsZQ%3D%3D?line=1'>2</a>\u001b[0m     trace_comparisons_alg1\u001b[39m.\u001b[39;49mgen_single_mode_plot(i)\n",
      "File \u001b[1;32mc:\\Users\\olebj\\OneDrive - NTNU\\00Master - Onedrive\\OB ymse\\modal-tracking-thesis-spring-2023\\Postprocessing\\../src\\_postprocessing.py:720\u001b[0m, in \u001b[0;36mPostTraceComparison.gen_single_mode_plot\u001b[1;34m(self, mode_ix)\u001b[0m\n\u001b[0;32m    719\u001b[0m \u001b[39mdef\u001b[39;00m \u001b[39mgen_single_mode_plot\u001b[39m(\u001b[39mself\u001b[39m,mode_ix):\n\u001b[1;32m--> 720\u001b[0m     ptrace\u001b[39m=\u001b[39m\u001b[39mself\u001b[39;49m\u001b[39m.\u001b[39;49mPost_traces[mode_ix]\n\u001b[0;32m    721\u001b[0m     phi1_avg\u001b[39m=\u001b[39mnp\u001b[39m.\u001b[39mmedian(np\u001b[39m.\u001b[39masarray(ptrace\u001b[39m.\u001b[39mmode_shapes),axis\u001b[39m=\u001b[39m\u001b[39m0\u001b[39m)\n\u001b[0;32m    722\u001b[0m     freq_avg\u001b[39m=\u001b[39mnp\u001b[39m.\u001b[39mmedian(ptrace\u001b[39m.\u001b[39mfrequencies)\n",
      "\u001b[1;31mIndexError\u001b[0m: list index out of range"
     ]
    }
   ],
   "source": [
    "for i in range(30):\n",
    "    trace_comparisons_alg1.gen_single_mode_plot(i)"
   ]
  }
 ],
 "metadata": {
  "kernelspec": {
   "display_name": "base",
   "language": "python",
   "name": "python3"
  },
  "language_info": {
   "codemirror_mode": {
    "name": "ipython",
    "version": 3
   },
   "file_extension": ".py",
   "mimetype": "text/x-python",
   "name": "python",
   "nbconvert_exporter": "python",
   "pygments_lexer": "ipython3",
   "version": "3.9.12"
  },
  "orig_nbformat": 4
 },
 "nbformat": 4,
 "nbformat_minor": 2
}
