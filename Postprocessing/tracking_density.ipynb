{
 "cells": [
  {
   "cell_type": "code",
   "execution_count": 1,
   "metadata": {},
   "outputs": [
    {
     "name": "stdout",
     "output_type": "stream",
     "text": [
      "Could not import mat 73. Intall width \"pip install mat73\" if class \"import_file\" is to be used.\n"
     ]
    }
   ],
   "source": [
    "import numpy as np\n",
    "import matplotlib.pyplot as plt\n",
    "import matplotlib\n",
    "import sys\n",
    "import os\n",
    "src_path='../src'\n",
    "if not src_path in sys.path:\n",
    "    sys.path.insert(1,src_path)\n",
    "from preposessing import *\n",
    "import matplotlib\n",
    "from utils_OB import *\n",
    "from _tracking import *\n",
    "%load_ext autoreload\n",
    "import _generate_time_series\n",
    "import pickle\n",
    "%autoreload 2\n",
    "from utils_JK import *\n",
    "from _postprocessing import *"
   ]
  },
  {
   "cell_type": "code",
   "execution_count": 2,
   "metadata": {},
   "outputs": [],
   "source": [
    "folder_path='../../../5hz_resampled_int_trans_clustered_3/'\n",
    "# omegas,phis,names=import_folder_for_tracking(folder_path)\n",
    "# freqs=radtoHz(omegas)"
   ]
  },
  {
   "cell_type": "code",
   "execution_count": 3,
   "metadata": {},
   "outputs": [],
   "source": [
    "segments=[]\n",
    "for name in os.listdir(folder_path):\n",
    "    segments.append(import_converted_ts(folder_path,name))"
   ]
  },
  {
   "cell_type": "code",
   "execution_count": 4,
   "metadata": {},
   "outputs": [],
   "source": [
    "lambds=[]\n",
    "for seg in segments:\n",
    "    lambds.append(seg.lambds_n_auto) "
   ]
  },
  {
   "cell_type": "code",
   "execution_count": 5,
   "metadata": {},
   "outputs": [
    {
     "name": "stderr",
     "output_type": "stream",
     "text": [
      "c:\\Users\\olebfa\\OneDrive - NTNU\\00Master - Onedrive\\OB ymse\\Remote_desktop\\modal-tracking-thesis-spring-2023\\Postprocessing\\../src\\_generate_time_series.py:287: VisibleDeprecationWarning: Creating an ndarray from ragged nested sequences (which is a list-or-tuple of lists-or-tuples-or ndarrays with different lengths or shapes) is deprecated. If you meant to do this, you must specify 'dtype=object' when creating the ndarray.\n",
      "  return np.array(ys)\n"
     ]
    }
   ],
   "source": [
    "input=_generate_time_series.create_output_guassian(lambds)"
   ]
  },
  {
   "cell_type": "code",
   "execution_count": 6,
   "metadata": {},
   "outputs": [],
   "source": [
    "Nt = 200\n",
    "N_lim = 50\n",
    "Bf = 0.01\n",
    "epsilon = 0.2\n",
    "sf = 0.01"
   ]
  },
  {
   "cell_type": "code",
   "execution_count": 54,
   "metadata": {},
   "outputs": [],
   "source": [
    "traces=perform_tracking_favarelli(input.T**2/2/np.pi,Nt=Nt,N_lim=N_lim,Bf=Bf,epsilon=epsilon,sf=sf)\n",
    "\n"
   ]
  },
  {
   "cell_type": "code",
   "execution_count": 7,
   "metadata": {},
   "outputs": [],
   "source": [
    "initial_freqs=perform_tracking_favarelli(input.T**2/2/np.pi,Nt=Nt,N_lim=N_lim,Bf=Bf,epsilon=epsilon,sf=sf,return_initial=True)"
   ]
  },
  {
   "cell_type": "code",
   "execution_count": 11,
   "metadata": {},
   "outputs": [
    {
     "name": "stdout",
     "output_type": "stream",
     "text": [
      "[0.03072384 0.05135717 0.06256219 0.07095015 0.08165746 0.08910456\n",
      " 0.10372434 0.10846836 0.11894137 0.12716385 0.14208594 0.14618629\n",
      " 0.15854574 0.16926659 0.18198895 0.18567996 0.20271185 0.20953393\n",
      " 0.21630193 0.22963371 0.24105299 0.2461951  0.25991187 0.27255856\n",
      " 0.27635693 0.29008573 0.31185367 0.31891912 0.33253772 0.33510226\n",
      " 0.35009674 0.3601221  0.37073888 0.37504494 0.40032119 0.40589707\n",
      " 0.41697274 0.42820259 0.43819122 0.44723901 0.45870863 0.46959248\n",
      " 0.47432079 0.48539915 0.51208704 0.51425837 0.52625576 0.54096446\n",
      " 0.54729398 0.55501392 0.56584989 0.58144316 0.58457805 0.59682675\n",
      " 0.60406874 0.62123997 0.62550671 0.63635729 0.67656683 0.68817663\n",
      " 0.69832077 0.70960719 0.7137259  0.72874499 0.73494265 0.75650088\n",
      " 0.79975144 0.80395667 0.81711173 0.82283178 0.85774041 0.86370218\n",
      " 0.87672679 0.89895249 0.90260349 0.9863756  0.99753474]\n",
      "0.030723842538767036 ,0.05135716556273336 ,0.06256218724237661 ,0.07095015389579831 ,0.08165746022254668 ,0.08910455918097103 ,0.10372434252644439 ,0.10846836436373566 ,0.11894136552003591 ,0.12716384912288548 ,0.14208593757095195 ,0.1461862864033917 ,0.15854573953962886 ,0.16926659352029183 ,0.1819889459200077 ,0.1856799584135502 ,0.2027118474743857 ,0.2095339271822188 ,0.21630192967591638 ,0.2296337051949282 ,0.24105298565416533 ,0.2461951006833303 ,0.25991186545706146 ,0.27255855735914297 ,0.2763569269558858 ,0.29008573041450264 ,0.3118536710366643 ,0.31891911911064985 ,0.3325377207852737 ,0.33510225831366536 ,0.3500967398762237 ,0.36012209637005244 ,0.3707388826270319 ,0.37504494109439196 ,0.4003211888160241 ,0.4058970650762509 ,0.41697273690508185 ,0.4282025933313906 ,0.43819122493649065 ,0.44723901303240343 ,0.4587086251629338 ,0.46959247845152025 ,0.47432078523803173 ,0.485399145373394 ,0.5120870372778983 ,0.5142583725117041 ,0.5262557640759221 ,0.5409644583250022 ,0.5472939831836501 ,0.5550139165317994 ,0.5658498892342538 ,0.5814431611118925 ,0.5845780478009248 ,0.5968267452574543 ,0.6040687416269239 ,0.6212399708901143 ,0.6255067141012259 ,0.6363572853220951 ,0.6765668253060534 ,0.688176632096252 ,0.6983207742542417 ,0.7096071947139853 ,0.7137258972715257 ,0.7287449857430156 ,0.7349426462645279 ,0.7565008830971015 ,0.7997514398574279 ,0.8039566680296364 ,0.8171117251546133 ,0.8228317776393606 ,0.8577404111100054 ,0.8637021770750485 ,0.8767267872498967 ,0.8989524921453502 ,0.9026034896729748 ,0.9863755991331093 ,0.9975347407693836 ,"
     ]
    }
   ],
   "source": [
    "print((initial_freqs))\n",
    "for f in initial_freqs:\n",
    "    print(f,',',end='')"
   ]
  },
  {
   "cell_type": "code",
   "execution_count": 55,
   "metadata": {},
   "outputs": [
    {
     "name": "stdout",
     "output_type": "stream",
     "text": [
      "3653\n"
     ]
    }
   ],
   "source": [
    "names=os.listdir(folder_path)[200:]\n",
    "print(len(traces[1]))"
   ]
  },
  {
   "cell_type": "code",
   "execution_count": 56,
   "metadata": {},
   "outputs": [],
   "source": [
    "# phys_traces_ix=np.where([i.isphysical for i in traces])[0]\n",
    "# # print(type(traces))\n",
    "# phys_traces=[]\n",
    "# for ix in phys_traces_ix:\n",
    "#     phys_traces.append(traces[ix])\n",
    "\n",
    "\n",
    "\n",
    "for i,trace in enumerate(traces):\n",
    "    Post_obj=Postprocessor()\n",
    "    Post_obj.frequencies=trace\n",
    "    Post_obj.file_names=names\n",
    "    \n",
    "\n",
    "    \n",
    "    #saving:\n",
    "    path='../../../Tracking/Favarelli_3/'\n",
    "    mean_freq=round(np.mean(Post_obj.frequencies),3)\n",
    "    tot_path=path+'trace_'+str(mean_freq)+'.pkl'\n",
    "    with open(tot_path, 'wb') as fout:\n",
    "        pickle.dump(Post_obj,fout)"
   ]
  },
  {
   "cell_type": "code",
   "execution_count": null,
   "metadata": {},
   "outputs": [],
   "source": []
  }
 ],
 "metadata": {
  "kernelspec": {
   "display_name": "base",
   "language": "python",
   "name": "python3"
  },
  "language_info": {
   "codemirror_mode": {
    "name": "ipython",
    "version": 3
   },
   "file_extension": ".py",
   "mimetype": "text/x-python",
   "name": "python",
   "nbconvert_exporter": "python",
   "pygments_lexer": "ipython3",
   "version": "3.10.9"
  },
  "orig_nbformat": 4
 },
 "nbformat": 4,
 "nbformat_minor": 2
}
