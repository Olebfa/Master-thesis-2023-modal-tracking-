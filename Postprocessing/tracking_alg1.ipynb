{
 "cells": [
  {
   "cell_type": "code",
   "execution_count": 2,
   "metadata": {},
   "outputs": [],
   "source": [
    "import numpy as np\n",
    "import matplotlib.pyplot as plt\n",
    "import matplotlib\n",
    "import sys\n",
    "import os\n",
    "src_path='../src'\n",
    "if not src_path in sys.path:\n",
    "    sys.path.insert(1,src_path)\n",
    "from preposessing import *\n",
    "import matplotlib\n",
    "from utils_OB import *\n",
    "from _tracking import *\n",
    "%load_ext autoreload\n",
    "import pickle\n",
    "%autoreload 2\n",
    "from utils_JK import *\n",
    "from _postprocessing import *"
   ]
  },
  {
   "cell_type": "code",
   "execution_count": 15,
   "metadata": {},
   "outputs": [],
   "source": [
    "folder_path='../../../5hz_resampled_int_trans_clustered_3/'\n",
    "omegas,phis,names=import_folder_for_tracking(folder_path)\n",
    "freqs=radtoHz(omegas)"
   ]
  },
  {
   "cell_type": "code",
   "execution_count": 16,
   "metadata": {},
   "outputs": [],
   "source": [
    "traces=perform_tracking(freqs, phis, n = 50, m = 20, d_track_threshold = 0.15, method = 'average')"
   ]
  },
  {
   "cell_type": "code",
   "execution_count": 17,
   "metadata": {},
   "outputs": [],
   "source": [
    "phys_traces_ix=np.where([i.isphysical for i in traces])[0]\n",
    "# print(type(traces))\n",
    "phys_traces=[]\n",
    "for ix in phys_traces_ix:\n",
    "    phys_traces.append(traces[ix])\n",
    "\n",
    "\n",
    "\n",
    "for i,trace in enumerate(phys_traces):\n",
    "    Post_obj=Postprocessor()\n",
    "    Post_obj.assign_trace(phys_traces[i],names)\n",
    "    # print('Assigned ',+i)\n",
    "    # Post_obj.import_temp_fromUllensvang('../../../../data/Temperaturdata 2 stasjoner.csv')\n",
    "    # print('    Ullensvang temp imported')\n",
    "    # Post_obj.import_weather('../../../5hz_resampled_int_tans/')\n",
    "    # print('    Weather imported')\n",
    "    # Post_obj.get_damping_from_trace(folder_path)\n",
    "    # print('    Damping imported')\n",
    "    \n",
    "    #saving:\n",
    "    path='../../../Tracking/Method1_a_n10/'\n",
    "    mean_freq=round(np.mean(Post_obj.trace.frequencies),3)\n",
    "    tot_path=path+'trace_'+str(mean_freq)+'.pkl'\n",
    "    with open(tot_path, 'wb') as fout:\n",
    "        pickle.dump(Post_obj,fout)"
   ]
  },
  {
   "cell_type": "code",
   "execution_count": 18,
   "metadata": {},
   "outputs": [
    {
     "ename": "SyntaxError",
     "evalue": "invalid syntax (2556440008.py, line 1)",
     "output_type": "error",
     "traceback": [
      "\u001b[1;36m  Cell \u001b[1;32mIn[18], line 1\u001b[1;36m\u001b[0m\n\u001b[1;33m    test_ts=for\u001b[0m\n\u001b[1;37m            ^\u001b[0m\n\u001b[1;31mSyntaxError\u001b[0m\u001b[1;31m:\u001b[0m invalid syntax\n"
     ]
    }
   ],
   "source": [
    "# test_ts=for "
   ]
  },
  {
   "attachments": {},
   "cell_type": "markdown",
   "metadata": {},
   "source": [
    "## Stats of the included modes:"
   ]
  },
  {
   "cell_type": "code",
   "execution_count": 3,
   "metadata": {},
   "outputs": [],
   "source": [
    "trace_comparisons_alg1=PostTraceComparison()\n",
    "trace_comparisons_alg1.import_Post_traces_from_folder('../../Tracking/Method1_a_n10/')"
   ]
  },
  {
   "cell_type": "code",
   "execution_count": 6,
   "metadata": {},
   "outputs": [],
   "source": [
    "\n",
    "\n",
    "\n",
    "\n",
    "\n",
    "f=open('table_latex.txt','w')\n",
    "\n",
    "for i,ptrace in enumerate(trace_comparisons_alg1.Post_traces):\n",
    "    tn=i+1\n",
    "    len_t=len(ptrace.frequencies)\n",
    "    med_f=np.nanmedian(ptrace.frequencies)\n",
    "    m_f=np.nanmean(ptrace.frequencies)\n",
    "    m_xi=np.nanmean(ptrace.damping)*100\n",
    "    med_phi=np.median(np.asanyarray(ptrace.mode_shapes),axis=0)\n",
    "    macs=[]\n",
    "    for phi in ptrace.mode_shapes:\n",
    "        macs.append(MAC(phi,med_phi))\n",
    "    m_mac=np.nanmean(macs)\n",
    "    \n",
    "    std_f=np.nanstd(ptrace.frequencies)\n",
    "    std_xi=np.nanstd(np.asanyarray(ptrace.damping)*100)\n",
    "    std_mac=np.nanstd(macs)\n",
    "    \n",
    "    str1=(str(tn)+' &'+\n",
    "            str(len_t)+' &'+'\\\\textbf{'+\n",
    "            str(f'{med_f:.2}')+'} &'+\n",
    "            str(f'{m_f:.2}')+' &'+\n",
    "            str(f'{std_f:.2}')+' &'+\n",
    "            str(f'{m_xi:.2}')+' &'+\n",
    "            str(f'{std_xi:.2}')+' &'+\n",
    "            str(f'{m_mac:.2}')+' &'+\n",
    "            str(f'{std_mac:.2}')+'\\\\\\ \\n')\n",
    "    \n",
    "    f.write(str1\n",
    "            )\n",
    "f.close()"
   ]
  },
  {
   "cell_type": "code",
   "execution_count": 14,
   "metadata": {},
   "outputs": [
    {
     "name": "stdout",
     "output_type": "stream",
     "text": [
      "28\n",
      "[0, 1, 0, 1, 2, 3, 4, 5, 6, 7, 8, 9, 10, 11, 14, 16, 23, 25]\n",
      "mode  1  max MAC:  0.022\n",
      "mode  2  max MAC:  0.038\n",
      "mode  3  max MAC:  0.047\n",
      "mode  4  max MAC:  0.051\n",
      "mode  5  max MAC:  0.028\n",
      "mode  6  max MAC:  0.058\n",
      "mode  7  max MAC:  0.034\n",
      "mode  8  max MAC:  0.093\n",
      "mode  9  max MAC:  0.038\n",
      "mode  10  max MAC:  0.026\n",
      "mode  11  max MAC:  0.04\n",
      "mode  12  max MAC:  0.093\n",
      "mode  13  max MAC:  0.764\n",
      "mode  14  max MAC:  0.473\n",
      "mode  15  max MAC:  0.026\n",
      "mode  16  max MAC:  0.223\n",
      "mode  17  max MAC:  0.026\n",
      "mode  18  max MAC:  0.111\n",
      "mode  19  max MAC:  0.205\n",
      "mode  20  max MAC:  0.105\n",
      "mode  21  max MAC:  0.217\n",
      "mode  22  max MAC:  0.269\n",
      "mode  23  max MAC:  0.138\n",
      "mode  24  max MAC:  0.058\n",
      "mode  25  max MAC:  0.156\n",
      "mode  26  max MAC:  0.047\n",
      "mode  27  max MAC:  0.262\n",
      "mode  28  max MAC:  0.172\n",
      "[0, 1, 2, 3, 4, 5, 6, 7, 8, 9, 10, 11, 14, 16, 23, 25]\n"
     ]
    }
   ],
   "source": [
    "\n",
    "median_modeshapes=[]\n",
    "for i,ptrace in enumerate(trace_comparisons_alg1.Post_traces):\n",
    "    phi1_avg=np.median(np.asarray(ptrace.mode_shapes),axis=0)\n",
    "    median_modeshapes.append(phi1_avg)\n",
    "print(len(median_modeshapes))\n",
    "\n",
    "\n",
    "good_ixs=[0,1]\n",
    "for i,phi in enumerate(median_modeshapes):\n",
    "    temp_macs=[]\n",
    "    this_ix=np.asanyarray(good_ixs)!=i\n",
    "    # print(ngood_ixs,this_ix)\n",
    "    # print(good_ixs[this_ix])\n",
    "    for phi_comp in np.asanyarray(median_modeshapes)[\n",
    "        np.asanyarray(good_ixs)[this_ix]]:\n",
    "        temp_macs.append(MAC(phi,phi_comp))\n",
    "        # print(np.asanyarray(good_ixs)[this_ix])\n",
    "    if max(temp_macs)<0.1:\n",
    "        good_ixs.append(i)\n",
    "print(good_ixs)\n",
    "good_ixs_2=[]\n",
    "for i,phi in enumerate(median_modeshapes):\n",
    "    temp_macs=[]\n",
    "    this_ix=np.asanyarray(good_ixs)!=i\n",
    "    # print(ngood_ixs,this_ix)\n",
    "    # print(good_ixs[this_ix])\n",
    "    for phi_comp in np.asanyarray(median_modeshapes)[\n",
    "        np.asanyarray(good_ixs)[this_ix]]:\n",
    "        temp_macs.append(MAC(phi,phi_comp))\n",
    "        # print(temp_macs)\n",
    "    if max(temp_macs)<0.1:\n",
    "        # if i not in good_ixs:\n",
    "        good_ixs_2.append(i)\n",
    "    print('mode ', i+1, ' max MAC: ',np.round(max(temp_macs),3))\n",
    "print(good_ixs_2)\n",
    "\n",
    "\n",
    "\n",
    "    # print(this_ix)\n",
    "    # for \n",
    "\n",
    "\n",
    "# good_ixs=np.array([0])\n",
    "# for i,phi in enumerate(np.asanyarray(median_modeshapes)):\n",
    "#     MAC_temp=[]\n",
    "#     for phi_2 in np.asanyarray(median_modeshapes)[good_ixs]:\n",
    "#         MAC_temp.append(MAC(phi,phi_2))\n",
    "#     if max(MAC_temp)<0.1:\n",
    "#         good_ixs=np.append(good_ixs,i)\n",
    "\n",
    "\n",
    "# for phi in median_modeshapes:\n",
    "#     for \n",
    "        "
   ]
  }
 ],
 "metadata": {
  "kernelspec": {
   "display_name": "base",
   "language": "python",
   "name": "python3"
  },
  "language_info": {
   "codemirror_mode": {
    "name": "ipython",
    "version": 3
   },
   "file_extension": ".py",
   "mimetype": "text/x-python",
   "name": "python",
   "nbconvert_exporter": "python",
   "pygments_lexer": "ipython3",
   "version": "3.9.12"
  },
  "orig_nbformat": 4
 },
 "nbformat": 4,
 "nbformat_minor": 2
}
