{
 "cells": [
  {
   "cell_type": "code",
   "execution_count": 2,
   "metadata": {},
   "outputs": [],
   "source": [
    "import numpy as np\n",
    "import matplotlib.pyplot as plt\n",
    "import matplotlib\n",
    "import sys\n",
    "import os\n",
    "src_path='../src'\n",
    "if not src_path in sys.path:\n",
    "    sys.path.insert(1,src_path)\n",
    "from preposessing import *\n",
    "from utils_OB import *\n",
    "from _tracking import *\n",
    "%load_ext autoreload\n",
    "import pickle\n",
    "%autoreload 2\n",
    "from utils_JK import *\n",
    "from _postprocessing import *\n",
    "from mode_visulizer import *\n",
    "matplotlib.use('tkagg')"
   ]
  },
  {
   "cell_type": "code",
   "execution_count": 3,
   "metadata": {},
   "outputs": [],
   "source": [
    "last='HB141M-2015-10-23_02-21-07.pkl'\n",
    "first='HB141M-2015-10-23_02-56-55.pkl'\n",
    "\n",
    "ts=import_converted_ts('../../5hz_clustered_int/',first)"
   ]
  },
  {
   "cell_type": "code",
   "execution_count": 4,
   "metadata": {},
   "outputs": [],
   "source": [
    "# PlotStabDiagFromTsObject(ts,display=True)"
   ]
  },
  {
   "cell_type": "code",
   "execution_count": 5,
   "metadata": {},
   "outputs": [],
   "source": [
    "list=os.listdir('../../5hz_clustered_int/')\n",
    "late_segs=[]\n",
    "early_segs=[]\n",
    "for name in list: \n",
    "    if name > last:\n",
    "        late_segs.append(name)\n",
    "    else:\n",
    "        early_segs.append(name)\n"
   ]
  },
  {
   "attachments": {},
   "cell_type": "markdown",
   "metadata": {},
   "source": [
    "### Early segs"
   ]
  },
  {
   "cell_type": "code",
   "execution_count": 6,
   "metadata": {},
   "outputs": [
    {
     "name": "stdout",
     "output_type": "stream",
     "text": [
      "HB141M-2015-10-23_02-21-07.pkl\n"
     ]
    }
   ],
   "source": [
    "\n",
    "i=-1\n",
    "check=early_segs[i]\n",
    "ts=import_converted_ts('../../5hz_clustered_int/',check)\n",
    "# PlotStabDiagFromTsObject(ts,display=True,xmax=0.5,color='mac')\n",
    "print(check)"
   ]
  },
  {
   "cell_type": "code",
   "execution_count": 7,
   "metadata": {},
   "outputs": [],
   "source": [
    "display_modes_from_Ts(ts)"
   ]
  },
  {
   "cell_type": "code",
   "execution_count": 8,
   "metadata": {},
   "outputs": [],
   "source": [
    "indicies=[]\n",
    "for j,order in enumerate(ts.lambd):\n",
    "    for i,lambd in enumerate(order):\n",
    "        if np.abs(lambd)/2/np.pi <0.054:\n",
    "            if np.abs(lambd)/2/np.pi>0.049:\n",
    "                indicies.append((j,i))\n",
    "\n",
    "phis=[]\n",
    "for ix in indicies:\n",
    "    order=ix[0]\n",
    "    i=ix[1]\n",
    "    phis.append(ts.phi[order][:,i]*10000)\n",
    "    # print(ts_cov.phi[order][:,i])\n",
    "\n",
    "p=mode_plot(phis)\n",
    "p.show()\n",
    "\n",
    "phi_prev_test=phis[0]"
   ]
  },
  {
   "cell_type": "code",
   "execution_count": 9,
   "metadata": {},
   "outputs": [
    {
     "name": "stdout",
     "output_type": "stream",
     "text": [
      "0.9996709705155364\n"
     ]
    }
   ],
   "source": [
    "phi1=ts.PHI_median[0]\n",
    "ix=indicies[2]\n",
    "order=ix[0]\n",
    "i=ix[1]\n",
    "phi2=ts.phi[order][:,i]\n",
    "\n",
    "print(MAC(phi1,phi2))"
   ]
  },
  {
   "attachments": {},
   "cell_type": "markdown",
   "metadata": {},
   "source": [
    "### LAte segs"
   ]
  },
  {
   "cell_type": "code",
   "execution_count": 10,
   "metadata": {},
   "outputs": [
    {
     "name": "stdout",
     "output_type": "stream",
     "text": [
      "HB141M-2015-10-28_08-33-15.pkl\n"
     ]
    }
   ],
   "source": [
    "i_2=1\n",
    "check_2=late_segs[i_2]\n",
    "ts_2=import_converted_ts('../../5hz_clustered_int/',check_2)\n",
    "# PlotStabDiagFromTsObject(ts,display=True,xmax=0.5,color='mac')\n",
    "print(check_2)"
   ]
  },
  {
   "cell_type": "code",
   "execution_count": 11,
   "metadata": {},
   "outputs": [],
   "source": [
    "display_modes_from_Ts(ts_2)"
   ]
  },
  {
   "cell_type": "code",
   "execution_count": 12,
   "metadata": {},
   "outputs": [],
   "source": [
    "indicies_2=[]\n",
    "for j,order in enumerate(ts_2.lambd):\n",
    "    for i,lambd in enumerate(order):\n",
    "        if np.abs(lambd)/2/np.pi <0.054:\n",
    "            if np.abs(lambd)/2/np.pi>0.049:\n",
    "                indicies_2.append((j,i))\n",
    "\n",
    "phis_2=[]\n",
    "for ix in indicies_2:\n",
    "    order=ix[0]\n",
    "    i=ix[1]\n",
    "    phis_2.append(ts_2.phi[order][:,i]*10000)\n",
    "\n",
    "p_2=mode_plot(phis_2)\n",
    "p_2.show()\n",
    "\n",
    "# phi_prev_test=phis[0]"
   ]
  },
  {
   "cell_type": "code",
   "execution_count": 13,
   "metadata": {},
   "outputs": [
    {
     "name": "stdout",
     "output_type": "stream",
     "text": [
      "0.036385786705654406\n"
     ]
    }
   ],
   "source": [
    "print(MAC(phis[0],phis_2[0]))"
   ]
  },
  {
   "attachments": {},
   "cell_type": "markdown",
   "metadata": {},
   "source": [
    "## COV-SSI output inspection"
   ]
  },
  {
   "cell_type": "code",
   "execution_count": 14,
   "metadata": {},
   "outputs": [],
   "source": [
    "list=os.listdir('../../5hz_covssi_interpolated/')\n",
    "late_segs_cov=[]\n",
    "early_segs_cov=[]\n",
    "for name in list: \n",
    "    if name > last:\n",
    "        late_segs_cov.append(name)\n",
    "    else:\n",
    "        early_segs_cov.append(name)"
   ]
  },
  {
   "attachments": {},
   "cell_type": "markdown",
   "metadata": {},
   "source": [
    "#### Early"
   ]
  },
  {
   "cell_type": "code",
   "execution_count": 15,
   "metadata": {},
   "outputs": [],
   "source": [
    "i_cov=-10\n",
    "check_cov=late_segs_cov[i_cov]\n",
    "ts_cov=import_converted_ts('../../5hz_clustered_int/',check_cov)\n",
    "\n",
    "indicies=[]\n",
    "for j,order in enumerate(ts_cov.lambd):\n",
    "    for i,lambd in enumerate(order):\n",
    "        if np.abs(lambd)/2/np.pi <0.054:\n",
    "            if np.abs(lambd)/2/np.pi>0.049:\n",
    "                indicies.append((j,i))\n",
    "                # print(j, i , np.abs(lambd)/2/np.pi)"
   ]
  },
  {
   "cell_type": "code",
   "execution_count": 16,
   "metadata": {},
   "outputs": [
    {
     "data": {
      "text/plain": [
       "<Figure size 900x900 with 1 Axes>"
      ]
     },
     "execution_count": 16,
     "metadata": {},
     "output_type": "execute_result"
    }
   ],
   "source": [
    "plot_stab_from_KOMA(lambd=ts_cov.lambd)"
   ]
  },
  {
   "cell_type": "code",
   "execution_count": 17,
   "metadata": {},
   "outputs": [],
   "source": [
    "phis=[]\n",
    "for ix in indicies:\n",
    "    order=ix[0]\n",
    "    i=ix[1]\n",
    "    phis.append(ts_cov.phi[order][:,i]*1000)\n",
    "    # print(ts_cov.phi[order][:,i])"
   ]
  },
  {
   "cell_type": "code",
   "execution_count": 18,
   "metadata": {},
   "outputs": [],
   "source": [
    "plot=mode_plot(phis[:3]*10000)\n",
    "plot.show()"
   ]
  },
  {
   "cell_type": "code",
   "execution_count": null,
   "metadata": {},
   "outputs": [],
   "source": []
  }
 ],
 "metadata": {
  "kernelspec": {
   "display_name": "base",
   "language": "python",
   "name": "python3"
  },
  "language_info": {
   "codemirror_mode": {
    "name": "ipython",
    "version": 3
   },
   "file_extension": ".py",
   "mimetype": "text/x-python",
   "name": "python",
   "nbconvert_exporter": "python",
   "pygments_lexer": "ipython3",
   "version": "3.9.12"
  },
  "orig_nbformat": 4
 },
 "nbformat": 4,
 "nbformat_minor": 2
}
