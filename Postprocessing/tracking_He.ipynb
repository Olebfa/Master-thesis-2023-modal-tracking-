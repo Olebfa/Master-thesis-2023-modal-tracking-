{
 "cells": [
  {
   "cell_type": "code",
   "execution_count": 1,
   "metadata": {},
   "outputs": [
    {
     "name": "stdout",
     "output_type": "stream",
     "text": [
      "Could not import mat 73. Intall width \"pip install mat73\" if class \"import_file\" is to be used.\n"
     ]
    }
   ],
   "source": [
    "import numpy as np\n",
    "import matplotlib.pyplot as plt\n",
    "import matplotlib\n",
    "import sys\n",
    "import os\n",
    "src_path='../src'\n",
    "if not src_path in sys.path:\n",
    "    sys.path.insert(1,src_path)\n",
    "from preposessing import *\n",
    "import matplotlib\n",
    "from utils_OB import *\n",
    "from _tracking import *\n",
    "%load_ext autoreload\n",
    "import pickle\n",
    "%autoreload 2\n",
    "from utils_JK import *\n",
    "from _postprocessing import *"
   ]
  },
  {
   "cell_type": "code",
   "execution_count": 2,
   "metadata": {},
   "outputs": [],
   "source": [
    "folder_path='../../../5hz_resampled_int_trans_clustered_3/'\n",
    "omegas,phis,names=import_folder_for_tracking(folder_path)\n",
    "freqs=radtoHz(omegas)"
   ]
  },
  {
   "cell_type": "code",
   "execution_count": null,
   "metadata": {},
   "outputs": [],
   "source": [
    "\n"
   ]
  },
  {
   "cell_type": "code",
   "execution_count": 3,
   "metadata": {},
   "outputs": [],
   "source": [
    "traces=perform_tracking_He2022(freqs,phis)"
   ]
  },
  {
   "cell_type": "code",
   "execution_count": 4,
   "metadata": {},
   "outputs": [
    {
     "name": "stdout",
     "output_type": "stream",
     "text": [
      "The history saving thread hit an unexpected error (OperationalError('database is locked')).History will not be written to the database.\n"
     ]
    }
   ],
   "source": [
    "phys_traces_ix=np.where([i.isphysical for i in traces])[0]\n",
    "# print(type(traces))\n",
    "phys_traces=[]\n",
    "for ix in phys_traces_ix:\n",
    "    phys_traces.append(traces[ix])\n",
    "\n",
    "\n",
    "\n",
    "for i,trace in enumerate(phys_traces):\n",
    "    Post_obj=Postprocessor()\n",
    "    Post_obj.assign_trace(phys_traces[i],names)\n",
    "    # print('Assigned ',+i)\n",
    "    # Post_obj.import_temp_fromUllensvang('../../../../data/Temperaturdata 2 stasjoner.csv')\n",
    "    # print('    Ullensvang temp imported')\n",
    "    # Post_obj.import_weather(folder_path)\n",
    "    # print('    Weather imported')\n",
    "    # Post_obj.get_damping_from_trace(folder_path)\n",
    "    # print('    Damping imported')\n",
    "    \n",
    "    #saving:\n",
    "    path='../../../Tracking/HE_2022_2/'\n",
    "    mean_freq=round(np.mean(Post_obj.trace.frequencies),3)\n",
    "    tot_path=path+'trace_'+str(mean_freq)+'.pkl'\n",
    "    with open(tot_path, 'wb') as fout:\n",
    "        pickle.dump(Post_obj,fout)"
   ]
  },
  {
   "cell_type": "code",
   "execution_count": null,
   "metadata": {},
   "outputs": [],
   "source": []
  }
 ],
 "metadata": {
  "kernelspec": {
   "display_name": "base",
   "language": "python",
   "name": "python3"
  },
  "language_info": {
   "codemirror_mode": {
    "name": "ipython",
    "version": 3
   },
   "file_extension": ".py",
   "mimetype": "text/x-python",
   "name": "python",
   "nbconvert_exporter": "python",
   "pygments_lexer": "ipython3",
   "version": "3.10.9"
  },
  "orig_nbformat": 4
 },
 "nbformat": 4,
 "nbformat_minor": 2
}
