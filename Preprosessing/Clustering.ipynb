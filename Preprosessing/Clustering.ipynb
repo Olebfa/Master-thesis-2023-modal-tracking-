{
 "cells": [
  {
   "cell_type": "code",
   "execution_count": 2,
   "metadata": {},
   "outputs": [
    {
     "name": "stdout",
     "output_type": "stream",
     "text": [
      "Could not import mat 73. Intall width \"pip install mat73\" if class \"import_file\" is to be used.\n"
     ]
    }
   ],
   "source": [
    "import sys \n",
    "path='../src'\n",
    "if path not in sys.path:\n",
    "    sys.path.insert(1,path)\n",
    "from preposessing import *\n",
    "import numpy as np\n",
    "from mode_visulizer import *"
   ]
  },
  {
   "cell_type": "code",
   "execution_count": 3,
   "metadata": {},
   "outputs": [],
   "source": [
    "input_folder='../../../5hz_resampled_int_trans_covssi/'\n",
    "output_folder='../../../5hz_resampled_int_trans_clustered_2/'\n"
   ]
  },
  {
   "cell_type": "code",
   "execution_count": 4,
   "metadata": {},
   "outputs": [],
   "source": [
    "valid_range= { 'freq': [0.025*2*np.pi, 6.28],'damping': [-0.02,np.inf] }\n",
    "\n",
    "indicator='freq'\n",
    "s=5\n",
    "stabcrit = {'freq':0.6, 'damping': 0.8, 'mac': 0.8}\n",
    "prob_threshold = 0.95   #probability of pole to belong to \n",
    "# cluster, based on estimated \"probability\" density function\n",
    "\n",
    "min_cluster_size=40\n",
    "min_samples=30\n",
    "scaling={'mac':1, 'lambda_real':1, 'lambda_imag': 1}\n",
    "\n",
    "# ts.find_stable_poles(orders,s,stabcrit,valid_range,indicator)\n",
    "\n",
    "info={r\"$\\bf{Valid range:}$\"+'\\n' :valid_range,\n",
    "      r\"$\\bf{Indicator}$\": indicator,\n",
    "      r\"$\\bf{S}$\":s,\n",
    "      r\"$\\bf{Stabcrit}$\":stabcrit,\n",
    "      '\\n'+r\"$\\bf{P\\ treshold}$\": prob_threshold,\n",
    "      r\"$\\bf{Min.\\ cluster\\ size}$\":min_cluster_size,\n",
    "      r\"$\\bf{Min.\\ samples}$\":min_samples,\n",
    "      r\"$\\bf{Scaling: }$\"+'\\n':scaling,\n",
    "      '\\n'+r\"$\\bf{Total\\ number\\ of\\ clusters: }$\":0\n",
    "      }\n",
    "name='fr-'+str(valid_range['freq'])+'_xir-'+str(\n",
    "    valid_range['damping'])+'_'+indicator+'_'+'S-'+str(\n",
    "    s)+'_scrit-'+str(stabcrit['freq'])+'-'+str(\n",
    "    stabcrit['damping'])+'-'+str(\n",
    "    stabcrit['mac'])+'-'+'_mcs-'+str(\n",
    "    min_cluster_size)+'_ms-'+str(min_samples)+'_sc-'+str(\n",
    "    scaling['mac'])+'-'+str(scaling['lambda_real'])+'-'+str(\n",
    "    scaling['lambda_imag']\n",
    "    )  "
   ]
  },
  {
   "cell_type": "code",
   "execution_count": 5,
   "metadata": {},
   "outputs": [
    {
     "ename": "KeyboardInterrupt",
     "evalue": "",
     "output_type": "error",
     "traceback": [
      "\u001b[1;31m---------------------------------------------------------------------------\u001b[0m",
      "\u001b[1;31mKeyboardInterrupt\u001b[0m                         Traceback (most recent call last)",
      "Cell \u001b[1;32mIn[5], line 4\u001b[0m\n\u001b[0;32m      2\u001b[0m \u001b[39mif\u001b[39;00m name \u001b[39mnot\u001b[39;00m \u001b[39min\u001b[39;00m os\u001b[39m.\u001b[39mlistdir(output_folder):\n\u001b[0;32m      3\u001b[0m     ts\u001b[39m=\u001b[39mimport_converted_ts(input_folder,name)\n\u001b[1;32m----> 4\u001b[0m     ts\u001b[39m.\u001b[39;49mfind_stable_poles(\n\u001b[0;32m      5\u001b[0m         s,stabcrit,valid_range,indicator)\n\u001b[0;32m      6\u001b[0m     ts\u001b[39m.\u001b[39mcluster(prob_threshold,min_cluster_size,min_samples,scaling)\n\u001b[0;32m      7\u001b[0m     ts\u001b[39m.\u001b[39mcreate_confidence_intervals()\n",
      "File \u001b[1;32mc:\\Users\\olebfa\\OneDrive - NTNU\\00Master - Onedrive\\OB ymse\\Remote_desktop\\modal-tracking-thesis-spring-2023\\Preprosessing\\../src\\preposessing.py:284\u001b[0m, in \u001b[0;36mtime_segment.find_stable_poles\u001b[1;34m(self, s, stabcrit, valid_range, indicator, orders, *args)\u001b[0m\n\u001b[0;32m    280\u001b[0m     os\u001b[39m=\u001b[39mnp\u001b[39m.\u001b[39marange(\u001b[39mlen\u001b[39m(lambd[\u001b[39m0\u001b[39m]),\u001b[39mlen\u001b[39m(lambd[\u001b[39m-\u001b[39m\u001b[39m1\u001b[39m])\u001b[39m+\u001b[39mstep,step)\n\u001b[0;32m    281\u001b[0m     \u001b[39mself\u001b[39m\u001b[39m.\u001b[39morders\u001b[39m=\u001b[39mos\n\u001b[1;32m--> 284\u001b[0m \u001b[39mself\u001b[39m\u001b[39m.\u001b[39mlambd_stab, \u001b[39mself\u001b[39m\u001b[39m.\u001b[39mphi_stab, \u001b[39mself\u001b[39m\u001b[39m.\u001b[39morders_stab, \u001b[39mself\u001b[39m\u001b[39m.\u001b[39mix_stab \u001b[39m=\u001b[39mkoma\u001b[39m.\u001b[39;49moma\u001b[39m.\u001b[39;49mfind_stable_poles(\u001b[39mself\u001b[39;49m\u001b[39m.\u001b[39;49mlambd, \u001b[39mself\u001b[39;49m\u001b[39m.\u001b[39;49mphi,\u001b[39mself\u001b[39;49m\u001b[39m.\u001b[39;49morders, s, \n\u001b[0;32m    285\u001b[0m stabcrit\u001b[39m=\u001b[39;49mstabcrit,valid_range\u001b[39m=\u001b[39;49mvalid_range,\n\u001b[0;32m    286\u001b[0m indicator\u001b[39m=\u001b[39;49mindicator,return_both_conjugates\u001b[39m=\u001b[39;49m\u001b[39mFalse\u001b[39;49;00m)\n",
      "File \u001b[1;32mc:\\Users\\olebfa\\AppData\\Local\\anaconda3\\lib\\site-packages\\koma\\oma.py:503\u001b[0m, in \u001b[0;36mfind_stable_poles\u001b[1;34m(lambd, phi, orders, s, stabcrit, valid_range, indicator, return_both_conjugates)\u001b[0m\n\u001b[0;32m    501\u001b[0m \u001b[39melif\u001b[39;00m indicator \u001b[39mis\u001b[39;00m \u001b[39m'\u001b[39m\u001b[39mfreq\u001b[39m\u001b[39m'\u001b[39m:\n\u001b[0;32m    502\u001b[0m     omega_last \u001b[39m=\u001b[39m \u001b[39mabs\u001b[39m(lambd[order_ix\u001b[39m-\u001b[39mlevel])\n\u001b[1;32m--> 503\u001b[0m     pole_ix_last \u001b[39m=\u001b[39m np\u001b[39m.\u001b[39;49margmin(\u001b[39mabs\u001b[39;49m(omega[pole_ix]\u001b[39m-\u001b[39;49momega_last))\n\u001b[0;32m    505\u001b[0m lambd_last \u001b[39m=\u001b[39m lambd[order_ix\u001b[39m-\u001b[39mlevel][pole_ix_last]\n\u001b[0;32m    506\u001b[0m xi_last \u001b[39m=\u001b[39m \u001b[39m-\u001b[39mnp\u001b[39m.\u001b[39mreal(lambd_last)\u001b[39m/\u001b[39m\u001b[39mabs\u001b[39m(lambd_last)\n",
      "File \u001b[1;32m<__array_function__ internals>:180\u001b[0m, in \u001b[0;36margmin\u001b[1;34m(*args, **kwargs)\u001b[0m\n",
      "File \u001b[1;32mc:\\Users\\olebfa\\AppData\\Local\\anaconda3\\lib\\site-packages\\numpy\\core\\fromnumeric.py:1312\u001b[0m, in \u001b[0;36margmin\u001b[1;34m(a, axis, out, keepdims)\u001b[0m\n\u001b[0;32m   1225\u001b[0m \u001b[39m\"\"\"\u001b[39;00m\n\u001b[0;32m   1226\u001b[0m \u001b[39mReturns the indices of the minimum values along an axis.\u001b[39;00m\n\u001b[0;32m   1227\u001b[0m \n\u001b[1;32m   (...)\u001b[0m\n\u001b[0;32m   1309\u001b[0m \u001b[39m(2, 1, 4)\u001b[39;00m\n\u001b[0;32m   1310\u001b[0m \u001b[39m\"\"\"\u001b[39;00m\n\u001b[0;32m   1311\u001b[0m kwds \u001b[39m=\u001b[39m {\u001b[39m'\u001b[39m\u001b[39mkeepdims\u001b[39m\u001b[39m'\u001b[39m: keepdims} \u001b[39mif\u001b[39;00m keepdims \u001b[39mis\u001b[39;00m \u001b[39mnot\u001b[39;00m np\u001b[39m.\u001b[39m_NoValue \u001b[39melse\u001b[39;00m {}\n\u001b[1;32m-> 1312\u001b[0m \u001b[39mreturn\u001b[39;00m _wrapfunc(a, \u001b[39m'\u001b[39m\u001b[39margmin\u001b[39m\u001b[39m'\u001b[39m, axis\u001b[39m=\u001b[39maxis, out\u001b[39m=\u001b[39mout, \u001b[39m*\u001b[39m\u001b[39m*\u001b[39mkwds)\n",
      "File \u001b[1;32mc:\\Users\\olebfa\\AppData\\Local\\anaconda3\\lib\\site-packages\\numpy\\core\\fromnumeric.py:57\u001b[0m, in \u001b[0;36m_wrapfunc\u001b[1;34m(obj, method, *args, **kwds)\u001b[0m\n\u001b[0;32m     54\u001b[0m     \u001b[39mreturn\u001b[39;00m _wrapit(obj, method, \u001b[39m*\u001b[39margs, \u001b[39m*\u001b[39m\u001b[39m*\u001b[39mkwds)\n\u001b[0;32m     56\u001b[0m \u001b[39mtry\u001b[39;00m:\n\u001b[1;32m---> 57\u001b[0m     \u001b[39mreturn\u001b[39;00m bound(\u001b[39m*\u001b[39margs, \u001b[39m*\u001b[39m\u001b[39m*\u001b[39mkwds)\n\u001b[0;32m     58\u001b[0m \u001b[39mexcept\u001b[39;00m \u001b[39mTypeError\u001b[39;00m:\n\u001b[0;32m     59\u001b[0m     \u001b[39m# A TypeError occurs if the object does have such a method in its\u001b[39;00m\n\u001b[0;32m     60\u001b[0m     \u001b[39m# class, but its signature is not identical to that of NumPy's. This\u001b[39;00m\n\u001b[1;32m   (...)\u001b[0m\n\u001b[0;32m     64\u001b[0m     \u001b[39m# Call _wrapit from within the except clause to ensure a potential\u001b[39;00m\n\u001b[0;32m     65\u001b[0m     \u001b[39m# exception has a traceback chain.\u001b[39;00m\n\u001b[0;32m     66\u001b[0m     \u001b[39mreturn\u001b[39;00m _wrapit(obj, method, \u001b[39m*\u001b[39margs, \u001b[39m*\u001b[39m\u001b[39m*\u001b[39mkwds)\n",
      "\u001b[1;31mKeyboardInterrupt\u001b[0m: "
     ]
    }
   ],
   "source": [
    "for name in os.listdir(input_folder):\n",
    "    if name not in os.listdir(output_folder):\n",
    "        ts=import_converted_ts(input_folder,name)\n",
    "        ts.find_stable_poles(\n",
    "            s,stabcrit,valid_range,indicator)\n",
    "        ts.cluster(prob_threshold,min_cluster_size,min_samples,scaling)\n",
    "        ts.create_confidence_intervals()\n",
    "        ts.save(output_folder)\n",
    "    # if name=='HB141M-2013-12-17_13-57-26.pkl':\n",
    "    #     break"
   ]
  },
  {
   "attachments": {},
   "cell_type": "markdown",
   "metadata": {},
   "source": [
    "# Inspecting: "
   ]
  },
  {
   "cell_type": "code",
   "execution_count": 3,
   "metadata": {},
   "outputs": [],
   "source": [
    "files=os.listdir(output_folder)\n",
    "\n",
    "imported_ts=[]\n",
    "for file in files: \n",
    "    imported_ts.append(import_converted_ts(output_folder,file))"
   ]
  },
  {
   "cell_type": "code",
   "execution_count": 15,
   "metadata": {},
   "outputs": [
    {
     "ename": "IndexError",
     "evalue": "list index out of range",
     "output_type": "error",
     "traceback": [
      "\u001b[1;31m---------------------------------------------------------------------------\u001b[0m",
      "\u001b[1;31mIndexError\u001b[0m                                Traceback (most recent call last)",
      "\u001b[1;32mc:\\Users\\olebj\\OneDrive - NTNU\\00Master - Onedrive\\OB ymse\\modal-tracking-thesis-spring-2023\\Preprosessing\\Clustering.ipynb Cell 7\u001b[0m in \u001b[0;36m<cell line: 6>\u001b[1;34m()\u001b[0m\n\u001b[0;32m      <a href='vscode-notebook-cell:/c%3A/Users/olebj/OneDrive%20-%20NTNU/00Master%20-%20Onedrive/OB%20ymse/modal-tracking-thesis-spring-2023/Preprosessing/Clustering.ipynb#X10sZmlsZQ%3D%3D?line=0'>1</a>\u001b[0m i\u001b[39m=\u001b[39m\u001b[39m9\u001b[39m\n\u001b[1;32m----> <a href='vscode-notebook-cell:/c%3A/Users/olebj/OneDrive%20-%20NTNU/00Master%20-%20Onedrive/OB%20ymse/modal-tracking-thesis-spring-2023/Preprosessing/Clustering.ipynb#X10sZmlsZQ%3D%3D?line=5'>6</a>\u001b[0m ts\u001b[39m=\u001b[39mimported_ts[i]\n\u001b[0;32m      <a href='vscode-notebook-cell:/c%3A/Users/olebj/OneDrive%20-%20NTNU/00Master%20-%20Onedrive/OB%20ymse/modal-tracking-thesis-spring-2023/Preprosessing/Clustering.ipynb#X10sZmlsZQ%3D%3D?line=7'>8</a>\u001b[0m display_modes_from_Ts(ts)\n",
      "\u001b[1;31mIndexError\u001b[0m: list index out of range"
     ]
    }
   ],
   "source": [
    "i=9\n",
    "\n",
    "\n",
    "\n",
    "\n",
    "ts=imported_ts[i]\n",
    "\n",
    "display_modes_from_Ts(ts)\n"
   ]
  },
  {
   "attachments": {},
   "cell_type": "markdown",
   "metadata": {},
   "source": [
    "# Temperaturgrteier"
   ]
  },
  {
   "cell_type": "code",
   "execution_count": 38,
   "metadata": {},
   "outputs": [
    {
     "name": "stdout",
     "output_type": "stream",
     "text": [
      "['../../5hz_resampled_int_tans/HB141M-2013-12-05_00-56-08.pkl', '../../5hz_resampled_int_tans/HB141M-2014-01-23_17-58-07.pkl', '../../5hz_resampled_int_tans/HB141M-2015-02-15_07-28-34.pkl', '../../5hz_resampled_int_tans/HB141M-2015-05-04_04-43-59.pkl', '../../5hz_resampled_int_tans/HB141M-2015-11-09_18-20-20.pkl', '../../5hz_resampled_int_tans/HB141M-2016-03-31_07-00-00.pkl', '../../5hz_resampled_int_tans/HB141M-2016-12-26_12-25-49.pkl', '../../5hz_resampled_int_tans/HB141M-2017-07-17_13-50-31.pkl', '../../5hz_resampled_int_tans/HB141M-2018-01-14_23-30-11.pkl']\n"
     ]
    }
   ],
   "source": [
    "files_in=os.listdir('../../5hz_resampled_int_tans/')\n",
    "\n",
    "imported_ts_in=[]\n",
    "for file in files_in: \n",
    "    imported_ts_in.append('../../5hz_resampled_int_tans/'+file)\n",
    "print(imported_ts_in)"
   ]
  },
  {
   "cell_type": "code",
   "execution_count": 39,
   "metadata": {},
   "outputs": [
    {
     "name": "stdout",
     "output_type": "stream",
     "text": [
      "   H1 East_x  H1 East_y  H1 East_z  H1 Vest_x  H1 Vest_y  H1 Vest_z  \\\n",
      "0   0.000947   0.000390  -0.002874  -0.002828  -0.000450   0.001298   \n",
      "1  -0.000091  -0.001360  -0.000442   0.000668  -0.001190   0.000333   \n",
      "2   0.000033  -0.001809   0.001823  -0.000212  -0.001854   0.001849   \n",
      "3  -0.000052  -0.002278   0.003202  -0.000089  -0.002294   0.002762   \n",
      "4  -0.000086  -0.001939   0.003307   0.000092  -0.001944   0.003405   \n",
      "\n",
      "   H2 Vest_x  H2 Vest_y  H2 Vest_z  H3 East_x  ...  A8_temperature  \\\n",
      "0   0.001765  -0.001518  -0.000996   0.001082  ...             NaN   \n",
      "1   0.000006  -0.000763   0.001858   0.000252  ...             NaN   \n",
      "2   0.000027  -0.000666   0.000790   0.000169  ...             NaN   \n",
      "3  -0.000081  -0.000669   0.001489   0.000055  ...             NaN   \n",
      "4  -0.000026  -0.001745   0.001584   0.000179  ...             NaN   \n",
      "\n",
      "   A8_mean_temp  A8_mean_wind    A9_angel  A9_horizontal  A9_vertical  \\\n",
      "0           NaN           NaN  995.323522     998.060925   998.365442   \n",
      "1           NaN           NaN  374.821553     322.956764   313.219327   \n",
      "2           NaN           NaN  280.884753     221.298219   210.413229   \n",
      "3           NaN           NaN  610.301292     580.048669   574.213948   \n",
      "4           NaN           NaN  310.875153     255.532994   245.033740   \n",
      "\n",
      "   A9_temperature  A9_mean_temp  A9_mean_wind  timeseries  \n",
      "0      998.315243     89.561251     96.836429  619.995000  \n",
      "1      314.511216     89.561251     96.836429  620.195065  \n",
      "2      211.850073     89.561251     96.836429  620.395129  \n",
      "3      574.917097     89.561251     96.836429  620.595194  \n",
      "4      246.150902     89.561251     96.836429  620.795258  \n",
      "\n",
      "[5 rows x 109 columns]\n"
     ]
    }
   ],
   "source": [
    "dat_frame=imported_ts_in[0]\n",
    "import pandas as pd\n",
    "\n",
    "fr=pd.read_pickle(dat_frame)\n",
    "print(fr.head())"
   ]
  },
  {
   "cell_type": "code",
   "execution_count": null,
   "metadata": {},
   "outputs": [],
   "source": []
  }
 ],
 "metadata": {
  "kernelspec": {
   "display_name": "base",
   "language": "python",
   "name": "python3"
  },
  "language_info": {
   "codemirror_mode": {
    "name": "ipython",
    "version": 3
   },
   "file_extension": ".py",
   "mimetype": "text/x-python",
   "name": "python",
   "nbconvert_exporter": "python",
   "pygments_lexer": "ipython3",
   "version": "3.9.12"
  },
  "orig_nbformat": 4
 },
 "nbformat": 4,
 "nbformat_minor": 2
}
