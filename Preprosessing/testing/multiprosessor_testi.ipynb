{
 "cells": [
  {
   "cell_type": "code",
   "execution_count": 1,
   "metadata": {},
   "outputs": [],
   "source": [
    "from RUN_covssi import *"
   ]
  },
  {
   "cell_type": "code",
   "execution_count": 22,
   "metadata": {},
   "outputs": [
    {
     "ename": "BrokenProcessPool",
     "evalue": "A process in the process pool was terminated abruptly while the future was running or pending.",
     "output_type": "error",
     "traceback": [
      "\u001b[1;31m---------------------------------------------------------------------------\u001b[0m",
      "\u001b[1;31mBrokenProcessPool\u001b[0m                         Traceback (most recent call last)",
      "\u001b[1;32mc:\\Users\\olebj\\OneDrive - NTNU\\00Master - Onedrive\\OB ymse\\modal-tracking-thesis-spring-2023\\Preprosessing\\testing\\multiprosessor_testi.ipynb Cell 2\u001b[0m in \u001b[0;36m<cell line: 30>\u001b[1;34m()\u001b[0m\n\u001b[0;32m     <a href='vscode-notebook-cell:/c%3A/Users/olebj/OneDrive%20-%20NTNU/00Master%20-%20Onedrive/OB%20ymse/modal-tracking-thesis-spring-2023/Preprosessing/testing/multiprosessor_testi.ipynb#W1sZmlsZQ%3D%3D?line=27'>28</a>\u001b[0m             \u001b[39mprint\u001b[39m(\u001b[39m'\u001b[39m\u001b[39m%d\u001b[39;00m\u001b[39m is prime: \u001b[39m\u001b[39m%s\u001b[39;00m\u001b[39m'\u001b[39m \u001b[39m%\u001b[39m (number, prime))\n\u001b[0;32m     <a href='vscode-notebook-cell:/c%3A/Users/olebj/OneDrive%20-%20NTNU/00Master%20-%20Onedrive/OB%20ymse/modal-tracking-thesis-spring-2023/Preprosessing/testing/multiprosessor_testi.ipynb#W1sZmlsZQ%3D%3D?line=29'>30</a>\u001b[0m \u001b[39mif\u001b[39;00m \u001b[39m__name__\u001b[39m \u001b[39m==\u001b[39m \u001b[39m'\u001b[39m\u001b[39m__main__\u001b[39m\u001b[39m'\u001b[39m:\n\u001b[1;32m---> <a href='vscode-notebook-cell:/c%3A/Users/olebj/OneDrive%20-%20NTNU/00Master%20-%20Onedrive/OB%20ymse/modal-tracking-thesis-spring-2023/Preprosessing/testing/multiprosessor_testi.ipynb#W1sZmlsZQ%3D%3D?line=30'>31</a>\u001b[0m     main()\n",
      "\u001b[1;32mc:\\Users\\olebj\\OneDrive - NTNU\\00Master - Onedrive\\OB ymse\\modal-tracking-thesis-spring-2023\\Preprosessing\\testing\\multiprosessor_testi.ipynb Cell 2\u001b[0m in \u001b[0;36mmain\u001b[1;34m()\u001b[0m\n\u001b[0;32m     <a href='vscode-notebook-cell:/c%3A/Users/olebj/OneDrive%20-%20NTNU/00Master%20-%20Onedrive/OB%20ymse/modal-tracking-thesis-spring-2023/Preprosessing/testing/multiprosessor_testi.ipynb#W1sZmlsZQ%3D%3D?line=24'>25</a>\u001b[0m \u001b[39mdef\u001b[39;00m \u001b[39mmain\u001b[39m():\n\u001b[0;32m     <a href='vscode-notebook-cell:/c%3A/Users/olebj/OneDrive%20-%20NTNU/00Master%20-%20Onedrive/OB%20ymse/modal-tracking-thesis-spring-2023/Preprosessing/testing/multiprosessor_testi.ipynb#W1sZmlsZQ%3D%3D?line=25'>26</a>\u001b[0m     \u001b[39mwith\u001b[39;00m ProcessPoolExecutor() \u001b[39mas\u001b[39;00m executor:\n\u001b[1;32m---> <a href='vscode-notebook-cell:/c%3A/Users/olebj/OneDrive%20-%20NTNU/00Master%20-%20Onedrive/OB%20ymse/modal-tracking-thesis-spring-2023/Preprosessing/testing/multiprosessor_testi.ipynb#W1sZmlsZQ%3D%3D?line=26'>27</a>\u001b[0m         \u001b[39mfor\u001b[39;00m number, prime \u001b[39min\u001b[39;00m \u001b[39mzip\u001b[39m(PRIMES, executor\u001b[39m.\u001b[39mmap(is_prime, PRIMES)):\n\u001b[0;32m     <a href='vscode-notebook-cell:/c%3A/Users/olebj/OneDrive%20-%20NTNU/00Master%20-%20Onedrive/OB%20ymse/modal-tracking-thesis-spring-2023/Preprosessing/testing/multiprosessor_testi.ipynb#W1sZmlsZQ%3D%3D?line=27'>28</a>\u001b[0m             \u001b[39mprint\u001b[39m(\u001b[39m'\u001b[39m\u001b[39m%d\u001b[39;00m\u001b[39m is prime: \u001b[39m\u001b[39m%s\u001b[39;00m\u001b[39m'\u001b[39m \u001b[39m%\u001b[39m (number, prime))\n",
      "File \u001b[1;32mc:\\Users\\olebj\\miniconda3\\lib\\concurrent\\futures\\process.py:559\u001b[0m, in \u001b[0;36m_chain_from_iterable_of_lists\u001b[1;34m(iterable)\u001b[0m\n\u001b[0;32m    553\u001b[0m \u001b[39mdef\u001b[39;00m \u001b[39m_chain_from_iterable_of_lists\u001b[39m(iterable):\n\u001b[0;32m    554\u001b[0m     \u001b[39m\"\"\"\u001b[39;00m\n\u001b[0;32m    555\u001b[0m \u001b[39m    Specialized implementation of itertools.chain.from_iterable.\u001b[39;00m\n\u001b[0;32m    556\u001b[0m \u001b[39m    Each item in *iterable* should be a list.  This function is\u001b[39;00m\n\u001b[0;32m    557\u001b[0m \u001b[39m    careful not to keep references to yielded objects.\u001b[39;00m\n\u001b[0;32m    558\u001b[0m \u001b[39m    \"\"\"\u001b[39;00m\n\u001b[1;32m--> 559\u001b[0m     \u001b[39mfor\u001b[39;00m element \u001b[39min\u001b[39;00m iterable:\n\u001b[0;32m    560\u001b[0m         element\u001b[39m.\u001b[39mreverse()\n\u001b[0;32m    561\u001b[0m         \u001b[39mwhile\u001b[39;00m element:\n",
      "File \u001b[1;32mc:\\Users\\olebj\\miniconda3\\lib\\concurrent\\futures\\_base.py:609\u001b[0m, in \u001b[0;36mExecutor.map.<locals>.result_iterator\u001b[1;34m()\u001b[0m\n\u001b[0;32m    606\u001b[0m \u001b[39mwhile\u001b[39;00m fs:\n\u001b[0;32m    607\u001b[0m     \u001b[39m# Careful not to keep a reference to the popped future\u001b[39;00m\n\u001b[0;32m    608\u001b[0m     \u001b[39mif\u001b[39;00m timeout \u001b[39mis\u001b[39;00m \u001b[39mNone\u001b[39;00m:\n\u001b[1;32m--> 609\u001b[0m         \u001b[39myield\u001b[39;00m fs\u001b[39m.\u001b[39;49mpop()\u001b[39m.\u001b[39;49mresult()\n\u001b[0;32m    610\u001b[0m     \u001b[39melse\u001b[39;00m:\n\u001b[0;32m    611\u001b[0m         \u001b[39myield\u001b[39;00m fs\u001b[39m.\u001b[39mpop()\u001b[39m.\u001b[39mresult(end_time \u001b[39m-\u001b[39m time\u001b[39m.\u001b[39mmonotonic())\n",
      "File \u001b[1;32mc:\\Users\\olebj\\miniconda3\\lib\\concurrent\\futures\\_base.py:446\u001b[0m, in \u001b[0;36mFuture.result\u001b[1;34m(self, timeout)\u001b[0m\n\u001b[0;32m    444\u001b[0m     \u001b[39mraise\u001b[39;00m CancelledError()\n\u001b[0;32m    445\u001b[0m \u001b[39melif\u001b[39;00m \u001b[39mself\u001b[39m\u001b[39m.\u001b[39m_state \u001b[39m==\u001b[39m FINISHED:\n\u001b[1;32m--> 446\u001b[0m     \u001b[39mreturn\u001b[39;00m \u001b[39mself\u001b[39;49m\u001b[39m.\u001b[39;49m__get_result()\n\u001b[0;32m    447\u001b[0m \u001b[39melse\u001b[39;00m:\n\u001b[0;32m    448\u001b[0m     \u001b[39mraise\u001b[39;00m \u001b[39mTimeoutError\u001b[39;00m()\n",
      "File \u001b[1;32mc:\\Users\\olebj\\miniconda3\\lib\\concurrent\\futures\\_base.py:391\u001b[0m, in \u001b[0;36mFuture.__get_result\u001b[1;34m(self)\u001b[0m\n\u001b[0;32m    389\u001b[0m \u001b[39mif\u001b[39;00m \u001b[39mself\u001b[39m\u001b[39m.\u001b[39m_exception:\n\u001b[0;32m    390\u001b[0m     \u001b[39mtry\u001b[39;00m:\n\u001b[1;32m--> 391\u001b[0m         \u001b[39mraise\u001b[39;00m \u001b[39mself\u001b[39m\u001b[39m.\u001b[39m_exception\n\u001b[0;32m    392\u001b[0m     \u001b[39mfinally\u001b[39;00m:\n\u001b[0;32m    393\u001b[0m         \u001b[39m# Break a reference cycle with the exception in self._exception\u001b[39;00m\n\u001b[0;32m    394\u001b[0m         \u001b[39mself\u001b[39m \u001b[39m=\u001b[39m \u001b[39mNone\u001b[39;00m\n",
      "\u001b[1;31mBrokenProcessPool\u001b[0m: A process in the process pool was terminated abruptly while the future was running or pending."
     ]
    }
   ],
   "source": [
    "from concurrent.futures import ProcessPoolExecutor\n",
    "import math\n",
    "\n",
    "PRIMES = [\n",
    "    112272535095293,\n",
    "    112582705942171,\n",
    "    112272535095293,\n",
    "    115280095190773,\n",
    "    115797848077099,\n",
    "    1099726899285419]\n",
    "\n",
    "def is_prime(n):\n",
    "    if n < 2:\n",
    "        return False\n",
    "    if n == 2:\n",
    "        return True\n",
    "    if n % 2 == 0:\n",
    "        return False\n",
    "\n",
    "    sqrt_n = int(math.floor(math.sqrt(n)))\n",
    "    for i in range(3, sqrt_n + 1, 2):\n",
    "        if n % i == 0:\n",
    "            return False\n",
    "    return True\n",
    "\n",
    "def main():\n",
    "    with ProcessPoolExecutor() as executor:\n",
    "        for number, prime in zip(PRIMES, executor.map(is_prime, PRIMES)):\n",
    "            print('%d is prime: %s' % (number, prime))\n",
    "\n",
    "if __name__ == '__main__':\n",
    "    main()\n"
   ]
  }
 ],
 "metadata": {
  "kernelspec": {
   "display_name": "base",
   "language": "python",
   "name": "python3"
  },
  "language_info": {
   "codemirror_mode": {
    "name": "ipython",
    "version": 3
   },
   "file_extension": ".py",
   "mimetype": "text/x-python",
   "name": "python",
   "nbconvert_exporter": "python",
   "pygments_lexer": "ipython3",
   "version": "3.9.12"
  },
  "orig_nbformat": 4
 },
 "nbformat": 4,
 "nbformat_minor": 2
}
