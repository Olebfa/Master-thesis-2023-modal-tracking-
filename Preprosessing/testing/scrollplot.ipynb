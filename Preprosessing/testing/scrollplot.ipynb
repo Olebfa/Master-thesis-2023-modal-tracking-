{
 "cells": [
  {
   "cell_type": "code",
   "execution_count": 1,
   "metadata": {},
   "outputs": [],
   "source": [
    "import sys\n",
    "import os\n",
    "path='../../src'\n",
    "if not path in sys.path:\n",
    "    sys.path.insert(1,path)\n",
    "from utils_OB import *\n",
    "from preposessing import *\n",
    "import numpy as np\n",
    "import matplotlib.pyplot as plt\n",
    "from mode_visulizer import *\n",
    "\n",
    "%load_ext autoreload\n",
    "%autoreload 2"
   ]
  },
  {
   "cell_type": "code",
   "execution_count": 2,
   "metadata": {},
   "outputs": [
    {
     "name": "stdout",
     "output_type": "stream",
     "text": [
      "['PHI_median', '__class__', '__delattr__', '__dict__', '__dir__', '__doc__', '__eq__', '__format__', '__ge__', '__getattribute__', '__gt__', '__hash__', '__init__', '__init_subclass__', '__le__', '__lt__', '__module__', '__ne__', '__new__', '__reduce__', '__reduce_ex__', '__repr__', '__setattr__', '__sizeof__', '__str__', '__subclasshook__', '__weakref__', 'ac_data', 'cluster', 'do_covssi', 'do_covssi_strid', 'find_stable_poles', 'fs', 'get_from_general_metadata', 'ix_stab', 'lambd', 'lambd_stab', 'lambds_median', 'lambds_n_auto', 'order_auto', 'orders_stab', 'phi', 'phi_auto', 'phi_stab', 'save', 'sensor_metadata', 'series_metadata', 'set_atr', 'set_general_metadata', 'timeseries', 'xi_auto']\n"
     ]
    }
   ],
   "source": [
    "folder_path='../../../../data/clusters/2014/'\n",
    "dir_list=os.listdir(folder_path)\n",
    "time_segment=import_converted_ts(folder_path,dir_list[16])\n",
    "print(dir(time_segment))"
   ]
  },
  {
   "cell_type": "code",
   "execution_count": 3,
   "metadata": {},
   "outputs": [],
   "source": [
    "numerical_freqs=np.array(\n",
    "    [0.05,0.098,0.11,0.14,0.169,0.197,0.21,0.233,0.244\n",
    "     ,0.272,0.293,0.33,0.36,0.392,0.406])\n",
    "prev_discovered_modes=np.array([0.052,0.105,0.119,0.142,0.183,0.206,0.212,\n",
    "                                0.23,0.276,0.318,0.333,0.374,0.401,0.418\n",
    "\n",
    "])\n",
    "\n",
    "\n",
    "# for i in range(len(dir_list)):\n",
    "#     time_segment=import_converted_ts(folder_path,dir_list[i])\n",
    "#     fig=PlotStabDiagFromTsObject(time_segment,xmin=0,\n",
    "#                                 xmax=0.42,true_w=prev_discovered_modes,\n",
    "#                                 display=False\n",
    "#                                 ,figsize=(15,8))\n",
    "#     path='../../../../data/stabdiagrams/2014/'+str(\n",
    "#         time_segment.series_metadata['file_name'])\n",
    "#     plt.savefig(path+'.png',dpi=200)\n",
    "#     plt.close()\n",
    "#     # if i>4: \n",
    "    #     break"
   ]
  },
  {
   "cell_type": "code",
   "execution_count": 4,
   "metadata": {},
   "outputs": [],
   "source": [
    "fig=PlotStabDiagFromTsObject(time_segment,\n",
    "                             xmax=0.5,display=True,color='damping_abs',\n",
    "                             true_w=prev_discovered_modes)\n",
    "plt.show()"
   ]
  },
  {
   "cell_type": "code",
   "execution_count": 5,
   "metadata": {},
   "outputs": [],
   "source": [
    "plot=mode_plot(time_segment.PHI_median)\n",
    "plot.show()"
   ]
  },
  {
   "cell_type": "code",
   "execution_count": 6,
   "metadata": {},
   "outputs": [
    {
     "name": "stdout",
     "output_type": "stream",
     "text": [
      "52\n",
      "60\n",
      "38\n",
      "(60, 52)\n",
      "(60, 71)\n",
      "(60, 40)\n",
      "(60, 44)\n",
      "(60, 47)\n",
      "(60, 42)\n",
      "(60, 41)\n",
      "(60, 40)\n",
      "(60, 44)\n",
      "(60, 67)\n",
      "(60, 74)\n",
      "(60, 63)\n",
      "(60, 66)\n",
      "(60, 49)\n",
      "(60, 53)\n",
      "(60, 72)\n",
      "(60, 67)\n",
      "(60, 42)\n",
      "(60, 75)\n",
      "(60, 51)\n"
     ]
    }
   ],
   "source": [
    "figure=macplot(time_segment,20)\n",
    "\n",
    "plt.show(block=False)"
   ]
  },
  {
   "cell_type": "code",
   "execution_count": 7,
   "metadata": {},
   "outputs": [
    {
     "ename": "NameError",
     "evalue": "name 'cm' is not defined",
     "output_type": "error",
     "traceback": [
      "\u001b[1;31m---------------------------------------------------------------------------\u001b[0m",
      "\u001b[1;31mNameError\u001b[0m                                 Traceback (most recent call last)",
      "\u001b[1;32mc:\\Users\\olebj\\OneDrive - NTNU\\00Master - Onedrive\\OB ymse\\modal-tracking-thesis-spring-2023\\Preprosessing\\testing\\scrollplot.ipynb Cell 7\u001b[0m in \u001b[0;36m<cell line: 7>\u001b[1;34m()\u001b[0m\n\u001b[0;32m      <a href='vscode-notebook-cell:/c%3A/Users/olebj/OneDrive%20-%20NTNU/00Master%20-%20Onedrive/OB%20ymse/modal-tracking-thesis-spring-2023/Preprosessing/testing/scrollplot.ipynb#W6sZmlsZQ%3D%3D?line=3'>4</a>\u001b[0m \u001b[39m# from matplotlib import cm\u001b[39;00m\n\u001b[0;32m      <a href='vscode-notebook-cell:/c%3A/Users/olebj/OneDrive%20-%20NTNU/00Master%20-%20Onedrive/OB%20ymse/modal-tracking-thesis-spring-2023/Preprosessing/testing/scrollplot.ipynb#W6sZmlsZQ%3D%3D?line=4'>5</a>\u001b[0m \u001b[39m# from matplotlib.colors import ListedColormap, LinearSegmentedColormap\u001b[39;00m\n\u001b[0;32m      <a href='vscode-notebook-cell:/c%3A/Users/olebj/OneDrive%20-%20NTNU/00Master%20-%20Onedrive/OB%20ymse/modal-tracking-thesis-spring-2023/Preprosessing/testing/scrollplot.ipynb#W6sZmlsZQ%3D%3D?line=5'>6</a>\u001b[0m matplotlib\u001b[39m.\u001b[39muse(\u001b[39m'\u001b[39m\u001b[39mtkagg\u001b[39m\u001b[39m'\u001b[39m)\n\u001b[1;32m----> <a href='vscode-notebook-cell:/c%3A/Users/olebj/OneDrive%20-%20NTNU/00Master%20-%20Onedrive/OB%20ymse/modal-tracking-thesis-spring-2023/Preprosessing/testing/scrollplot.ipynb#W6sZmlsZQ%3D%3D?line=6'>7</a>\u001b[0m viridis \u001b[39m=\u001b[39m cm\u001b[39m.\u001b[39mget_cmap(\u001b[39m'\u001b[39m\u001b[39mviridis\u001b[39m\u001b[39m'\u001b[39m, \u001b[39m12\u001b[39m)\n\u001b[0;32m     <a href='vscode-notebook-cell:/c%3A/Users/olebj/OneDrive%20-%20NTNU/00Master%20-%20Onedrive/OB%20ymse/modal-tracking-thesis-spring-2023/Preprosessing/testing/scrollplot.ipynb#W6sZmlsZQ%3D%3D?line=10'>11</a>\u001b[0m hsv \u001b[39m=\u001b[39m matplotlib\u001b[39m.\u001b[39mcm\u001b[39m.\u001b[39mget_cmap(\u001b[39m'\u001b[39m\u001b[39mhsv\u001b[39m\u001b[39m'\u001b[39m, \u001b[39m1024\u001b[39m)\n\u001b[0;32m     <a href='vscode-notebook-cell:/c%3A/Users/olebj/OneDrive%20-%20NTNU/00Master%20-%20Onedrive/OB%20ymse/modal-tracking-thesis-spring-2023/Preprosessing/testing/scrollplot.ipynb#W6sZmlsZQ%3D%3D?line=11'>12</a>\u001b[0m newcolors \u001b[39m=\u001b[39m hsv(np\u001b[39m.\u001b[39mlinspace(\u001b[39m-\u001b[39m\u001b[39m0.1\u001b[39m, \u001b[39m0.21\u001b[39m, \u001b[39m100\u001b[39m))\n",
      "\u001b[1;31mNameError\u001b[0m: name 'cm' is not defined"
     ]
    }
   ],
   "source": [
    "\n",
    "\n",
    "import numpy as np\n",
    "import matplotlib.pyplot as plt\n",
    "import matplotlib\n",
    "# from matplotlib import cm\n",
    "# from matplotlib.colors import ListedColormap, LinearSegmentedColormap\n",
    "matplotlib.use('tkagg')\n",
    "viridis = cm.get_cmap('viridis', 12)\n",
    "\n",
    "\n",
    "\n",
    "hsv = matplotlib.cm.get_cmap('hsv', 1024)\n",
    "newcolors = hsv(np.linspace(-0.1, 0.21, 100))\n",
    "green = np.array([0.1, 0.8, .1, 1])\n",
    "newcolors[-5:, :] = green\n",
    "newcmp = matplotlib.colors.ListedColormap(newcolors)\n",
    "\n",
    "\n",
    "def plot_examples(cms):\n",
    "    \"\"\"\n",
    "    helper function to plot two colormaps\n",
    "    \"\"\"\n",
    "    np.random.seed(19680801)\n",
    "    data = np.random.randn(30, 30)\n",
    "\n",
    "    fig, axs = plt.subplots(1, 2, figsize=(6, 3), constrained_layout=True)\n",
    "    for [ax, cmap] in zip(axs, cms):\n",
    "        psm = ax.pcolormesh(data, cmap=cmap, rasterized=True, vmin=0, vmax=1)\n",
    "        fig.colorbar(psm, ax=ax)\n",
    "    plt.show()\n",
    "\n",
    "plot_examples([viridis, newcmp])"
   ]
  }
 ],
 "metadata": {
  "kernelspec": {
   "display_name": "base",
   "language": "python",
   "name": "python3"
  },
  "language_info": {
   "codemirror_mode": {
    "name": "ipython",
    "version": 3
   },
   "file_extension": ".py",
   "mimetype": "text/x-python",
   "name": "python",
   "nbconvert_exporter": "python",
   "pygments_lexer": "ipython3",
   "version": "3.9.12"
  },
  "orig_nbformat": 4
 },
 "nbformat": 4,
 "nbformat_minor": 2
}
