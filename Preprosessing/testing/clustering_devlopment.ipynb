{
 "cells": [
  {
   "cell_type": "code",
   "execution_count": 2,
   "metadata": {},
   "outputs": [],
   "source": [
    "# Load the autoreload extension\n",
    "%load_ext autoreload\n",
    "\n",
    "# Autoreload reloads modules before executing code\n",
    "# 0: disable\n",
    "# 1: reload modules imported with %aimport\n",
    "# 2: reload all modules, except those excluded by %aimport\n",
    "%autoreload 2\n",
    "import sys\n",
    "sys.path.insert(1,'../')\n",
    "sys.path.insert(1,'../../src/')\n",
    "from preposessing import*\n",
    "import numpy as np\n",
    "\n",
    "from utils_OB import*"
   ]
  },
  {
   "cell_type": "code",
   "execution_count": 2,
   "metadata": {},
   "outputs": [
    {
     "name": "stdout",
     "output_type": "stream",
     "text": [
      "['c:\\\\Users\\\\olebj\\\\OneDrive - NTNU\\\\00Master - Onedrive\\\\OB ymse\\\\modal-tracking-thesis-spring-2023\\\\Preprosessing\\\\testing', '../../src/', '../', 'c:\\\\Users\\\\olebj\\\\miniconda3\\\\python39.zip', 'c:\\\\Users\\\\olebj\\\\miniconda3\\\\DLLs', 'c:\\\\Users\\\\olebj\\\\miniconda3\\\\lib', 'c:\\\\Users\\\\olebj\\\\miniconda3', '', 'c:\\\\Users\\\\olebj\\\\miniconda3\\\\lib\\\\site-packages', 'c:\\\\Users\\\\olebj\\\\miniconda3\\\\lib\\\\site-packages\\\\win32', 'c:\\\\Users\\\\olebj\\\\miniconda3\\\\lib\\\\site-packages\\\\win32\\\\lib', 'c:\\\\Users\\\\olebj\\\\miniconda3\\\\lib\\\\site-packages\\\\Pythonwin']\n"
     ]
    }
   ],
   "source": [
    "# convert_folder('../../test_data_hardanger/')\n",
    "print(sys.path)"
   ]
  },
  {
   "cell_type": "code",
   "execution_count": 3,
   "metadata": {},
   "outputs": [],
   "source": [
    "name='HB141M-2013-12-06_08-24-54'\n",
    "ts=import_converted_ts('../../test_data_hardanger/converted_ts/',name)"
   ]
  },
  {
   "cell_type": "code",
   "execution_count": 4,
   "metadata": {},
   "outputs": [
    {
     "name": "stdout",
     "output_type": "stream",
     "text": [
      "['__class__', '__delattr__', '__dict__', '__dir__', '__doc__', '__eq__', '__format__', '__ge__', '__getattribute__', '__gt__', '__hash__', '__init__', '__init_subclass__', '__le__', '__lt__', '__module__', '__ne__', '__new__', '__reduce__', '__reduce_ex__', '__repr__', '__setattr__', '__sizeof__', '__str__', '__subclasshook__', '__weakref__', 'ac_data', 'cluster', 'create_confidence_intervals', 'do_covssi', 'do_covssi_strid', 'find_stable_poles', 'get_from_general_metadata', 'save', 'sensor_metadata', 'series_metadata', 'set_atr', 'set_general_metadata', 'stabdiag', 'timeseries']\n"
     ]
    }
   ],
   "source": [
    "print(dir(ts))"
   ]
  },
  {
   "cell_type": "code",
   "execution_count": 4,
   "metadata": {},
   "outputs": [],
   "source": [
    "orders=np.arange(50,220,2)\n",
    "# ts.do_covssi(120,orders,0.33,0.66)\n",
    "# ts.do_covssi(120,orders,0,1)"
   ]
  },
  {
   "cell_type": "code",
   "execution_count": 6,
   "metadata": {},
   "outputs": [
    {
     "ename": "MemoryError",
     "evalue": "Unable to allocate 3.97 GiB for an array with shape (14400, 36961) and data type float64",
     "output_type": "error",
     "traceback": [
      "\u001b[1;31m---------------------------------------------------------------------------\u001b[0m",
      "\u001b[1;31mMemoryError\u001b[0m                               Traceback (most recent call last)",
      "\u001b[1;32mc:\\Users\\olebj\\OneDrive - NTNU\\00Master - Onedrive\\OB ymse\\modal-tracking-thesis-spring-2023\\Preprosessing\\testing\\clustering_devlopment.ipynb Cell 6\u001b[0m in \u001b[0;36m<cell line: 1>\u001b[1;34m()\u001b[0m\n\u001b[1;32m----> <a href='vscode-notebook-cell:/c%3A/Users/olebj/OneDrive%20-%20NTNU/00Master%20-%20Onedrive/OB%20ymse/modal-tracking-thesis-spring-2023/Preprosessing/testing/clustering_devlopment.ipynb#W5sZmlsZQ%3D%3D?line=0'>1</a>\u001b[0m ts\u001b[39m.\u001b[39;49mdo_covssi_strid(\u001b[39m120\u001b[39;49m,orders)\n",
      "File \u001b[1;32mc:\\Users\\olebj\\OneDrive - NTNU\\00Master - Onedrive\\OB ymse\\modal-tracking-thesis-spring-2023\\Preprosessing\\testing\\../../src\\preposessing.py:216\u001b[0m, in \u001b[0;36mtime_segment.do_covssi_strid\u001b[1;34m(self, j, orders)\u001b[0m\n\u001b[0;32m    214\u001b[0m lambds\u001b[39m=\u001b[39m[]\n\u001b[0;32m    215\u001b[0m \u001b[39mfor\u001b[39;00m i, order \u001b[39min\u001b[39;00m \u001b[39menumerate\u001b[39m(orders):\n\u001b[1;32m--> 216\u001b[0m     A, C, G, R0 \u001b[39m=\u001b[39m ssid\u001b[39m.\u001b[39;49mperform(order, j)\n\u001b[0;32m    217\u001b[0m     lr, Q \u001b[39m=\u001b[39m np\u001b[39m.\u001b[39mlinalg\u001b[39m.\u001b[39meig(A)\n\u001b[0;32m    218\u001b[0m     u \u001b[39m=\u001b[39m \u001b[39mself\u001b[39m\u001b[39m.\u001b[39mfs\u001b[39m*\u001b[39mnp\u001b[39m.\u001b[39mlog(lr)\n",
      "File \u001b[1;32mc:\\Users\\olebj\\miniconda3\\lib\\site-packages\\strid\\_subspaceid.py:318\u001b[0m, in \u001b[0;36mCovarianceDrivenStochasticSID.perform\u001b[1;34m(self, order, block_rows)\u001b[0m\n\u001b[0;32m    315\u001b[0m \u001b[39mif\u001b[39;00m n\u001b[39m/\u001b[39mi \u001b[39m>\u001b[39m r:\n\u001b[0;32m    316\u001b[0m     \u001b[39mraise\u001b[39;00m \u001b[39mValueError\u001b[39;00m(\n\u001b[0;32m    317\u001b[0m         \u001b[39m\"\u001b[39m\u001b[39mFollowing condition violated: order / block_rows <= r\u001b[39m\u001b[39m\"\u001b[39m)\n\u001b[1;32m--> 318\u001b[0m U, s, VH \u001b[39m=\u001b[39m \u001b[39mself\u001b[39;49m\u001b[39m.\u001b[39;49m_svd_block_toeplitz(i)\n\u001b[0;32m    319\u001b[0m U1 \u001b[39m=\u001b[39m U[:, :n]\n\u001b[0;32m    320\u001b[0m V1H \u001b[39m=\u001b[39m VH[:n]\n",
      "File \u001b[1;32mc:\\Users\\olebj\\miniconda3\\lib\\site-packages\\strid\\_subspaceid.py:287\u001b[0m, in \u001b[0;36mCovarianceDrivenStochasticSID._svd_block_toeplitz\u001b[1;34m(self, i)\u001b[0m\n\u001b[0;32m    269\u001b[0m \u001b[39m@functools\u001b[39m\u001b[39m.\u001b[39mlru_cache(maxsize\u001b[39m=\u001b[39m\u001b[39m20\u001b[39m, typed\u001b[39m=\u001b[39m\u001b[39mFalse\u001b[39;00m)\n\u001b[0;32m    270\u001b[0m \u001b[39mdef\u001b[39;00m \u001b[39m_svd_block_toeplitz\u001b[39m(\u001b[39mself\u001b[39m, i):\n\u001b[0;32m    271\u001b[0m     \u001b[39m\"\"\"Perform and return SVD of the block toeplitz matrix\u001b[39;00m\n\u001b[0;32m    272\u001b[0m \n\u001b[0;32m    273\u001b[0m \u001b[39m    This method is cached, repeated calls with the same argument\u001b[39;00m\n\u001b[1;32m   (...)\u001b[0m\n\u001b[0;32m    285\u001b[0m \u001b[39m        singular values.\u001b[39;00m\n\u001b[0;32m    286\u001b[0m \u001b[39m    \"\"\"\u001b[39;00m\n\u001b[1;32m--> 287\u001b[0m     U, s, VH \u001b[39m=\u001b[39m np\u001b[39m.\u001b[39mlinalg\u001b[39m.\u001b[39msvd(\u001b[39mself\u001b[39;49m\u001b[39m.\u001b[39;49m_T(i))\n\u001b[0;32m    288\u001b[0m     \u001b[39mreturn\u001b[39;00m U, s, VH\n",
      "File \u001b[1;32mc:\\Users\\olebj\\miniconda3\\lib\\site-packages\\strid\\_subspaceid.py:264\u001b[0m, in \u001b[0;36mCovarianceDrivenStochasticSID._T\u001b[1;34m(self, i)\u001b[0m\n\u001b[0;32m    250\u001b[0m \u001b[39m@functools\u001b[39m\u001b[39m.\u001b[39mlru_cache(maxsize\u001b[39m=\u001b[39m\u001b[39m20\u001b[39m, typed\u001b[39m=\u001b[39m\u001b[39mFalse\u001b[39;00m)\n\u001b[0;32m    251\u001b[0m \u001b[39mdef\u001b[39;00m \u001b[39m_T\u001b[39m(\u001b[39mself\u001b[39m, i):\n\u001b[0;32m    252\u001b[0m     \u001b[39m\"\"\"Block toeplitz matrix from output correlations\u001b[39;00m\n\u001b[0;32m    253\u001b[0m \n\u001b[0;32m    254\u001b[0m \u001b[39m    Arguments\u001b[39;00m\n\u001b[1;32m   (...)\u001b[0m\n\u001b[0;32m    262\u001b[0m \u001b[39m        Block toeplitz matrix from output correlations\u001b[39;00m\n\u001b[0;32m    263\u001b[0m \u001b[39m    \"\"\"\u001b[39;00m\n\u001b[1;32m--> 264\u001b[0m     Y \u001b[39m=\u001b[39m \u001b[39mself\u001b[39;49m\u001b[39m.\u001b[39;49m_Y(i)\n\u001b[0;32m    265\u001b[0m     Yp \u001b[39m=\u001b[39m Y[:\u001b[39mself\u001b[39m\u001b[39m.\u001b[39mr\u001b[39m*\u001b[39mi]\n\u001b[0;32m    266\u001b[0m     Yf \u001b[39m=\u001b[39m Y[\u001b[39mself\u001b[39m\u001b[39m.\u001b[39mr\u001b[39m*\u001b[39mi:]\n",
      "File \u001b[1;32mc:\\Users\\olebj\\miniconda3\\lib\\site-packages\\strid\\_subspaceid.py:164\u001b[0m, in \u001b[0;36mAbstractReferenceBasedStochasticSID._Y\u001b[1;34m(self, i)\u001b[0m\n\u001b[0;32m    150\u001b[0m \u001b[39m@functools\u001b[39m\u001b[39m.\u001b[39mlru_cache(maxsize\u001b[39m=\u001b[39m\u001b[39m20\u001b[39m, typed\u001b[39m=\u001b[39m\u001b[39mFalse\u001b[39;00m)\n\u001b[0;32m    151\u001b[0m \u001b[39mdef\u001b[39;00m \u001b[39m_Y\u001b[39m(\u001b[39mself\u001b[39m, i):\n\u001b[0;32m    152\u001b[0m     \u001b[39m\"\"\"Output block hankel matrix\u001b[39;00m\n\u001b[0;32m    153\u001b[0m \n\u001b[0;32m    154\u001b[0m \u001b[39m    Arguments\u001b[39;00m\n\u001b[1;32m   (...)\u001b[0m\n\u001b[0;32m    162\u001b[0m \u001b[39m        Output block hankel matrix\u001b[39;00m\n\u001b[0;32m    163\u001b[0m \u001b[39m    \"\"\"\u001b[39;00m\n\u001b[1;32m--> 164\u001b[0m     \u001b[39mreturn\u001b[39;00m create_block_hankel_matrix(\n\u001b[0;32m    165\u001b[0m         \u001b[39mself\u001b[39;49m\u001b[39m.\u001b[39;49my, i, ix_ref\u001b[39m=\u001b[39;49m\u001b[39mself\u001b[39;49m\u001b[39m.\u001b[39;49mix_references)\n",
      "File \u001b[1;32mc:\\Users\\olebj\\miniconda3\\lib\\site-packages\\strid\\_subspaceid.py:49\u001b[0m, in \u001b[0;36mcreate_block_hankel_matrix\u001b[1;34m(data, block_rows, ncols, ix_ref)\u001b[0m\n\u001b[0;32m     47\u001b[0m y \u001b[39m=\u001b[39m data\n\u001b[0;32m     48\u001b[0m yref \u001b[39m=\u001b[39m y[ix_ref]\n\u001b[1;32m---> 49\u001b[0m H \u001b[39m=\u001b[39m np\u001b[39m.\u001b[39;49mzeros(((r\u001b[39m+\u001b[39;49ml)\u001b[39m*\u001b[39;49mi, j))\n\u001b[0;32m     50\u001b[0m \u001b[39mfor\u001b[39;00m m \u001b[39min\u001b[39;00m \u001b[39mrange\u001b[39m(\u001b[39m2\u001b[39m\u001b[39m*\u001b[39mi):\n\u001b[0;32m     51\u001b[0m     \u001b[39mif\u001b[39;00m m \u001b[39m<\u001b[39m i:\n",
      "\u001b[1;31mMemoryError\u001b[0m: Unable to allocate 3.97 GiB for an array with shape (14400, 36961) and data type float64"
     ]
    }
   ],
   "source": [
    "ts.do_covssi_strid(120,orders)"
   ]
  },
  {
   "cell_type": "code",
   "execution_count": 5,
   "metadata": {},
   "outputs": [],
   "source": [
    "ts=import_converted_ts('../../../5hz_clustered_2/','HB141M-2013-12-06_13-56-13.pkl')"
   ]
  },
  {
   "attachments": {},
   "cell_type": "markdown",
   "metadata": {},
   "source": [
    "Finding stable poles:"
   ]
  },
  {
   "cell_type": "code",
   "execution_count": 7,
   "metadata": {},
   "outputs": [
    {
     "name": "stdout",
     "output_type": "stream",
     "text": [
      "fr-[0, 62.8]_xir-[-1, inf]_freq_S-1_scrit-0.005-0.2-0.2-_mcs-25_ms-20_sc-1-1-1\n"
     ]
    }
   ],
   "source": [
    "valid_range= { 'freq': [0, 62.8],'damping': [-1,np.inf] }\n",
    "\n",
    "indicator='freq'\n",
    "s=1\n",
    "stabcrit = {'freq':0.005, 'damping': 0.2, 'mac': 0.2}\n",
    "prob_threshold = 0.8   #probability of pole to belong to \n",
    "# cluster, based on estimated \"probability\" density function\n",
    "\n",
    "min_cluster_size=25\n",
    "min_samples=20\n",
    "scaling={'mac':1, 'lambda_real':1, 'lambda_imag': 1}\n",
    "\n",
    "ts.find_stable_poles(s,stabcrit,valid_range,indicator)\n",
    "\n",
    "info={r\"$\\bf{Valid range:}$\"+'\\n' :valid_range,\n",
    "      r\"$\\bf{Indicator}$\": indicator,\n",
    "      r\"$\\bf{S}$\":s,\n",
    "      r\"$\\bf{Stabcrit}$\":stabcrit,\n",
    "      '\\n'+r\"$\\bf{P\\ treshold}$\": prob_threshold,\n",
    "      r\"$\\bf{Min.\\ cluster\\ size}$\":min_cluster_size,\n",
    "      r\"$\\bf{Min.\\ samples}$\":min_samples,\n",
    "      r\"$\\bf{Scaling: }$\"+'\\n':scaling,\n",
    "      '\\n'+r\"$\\bf{Total\\ number\\ of\\ clusters: }$\":0\n",
    "      }\n",
    "name='fr-'+str(valid_range['freq'])+'_xir-'+str(\n",
    "    valid_range['damping'])+'_'+indicator+'_'+'S-'+str(\n",
    "    s)+'_scrit-'+str(stabcrit['freq'])+'-'+str(\n",
    "    stabcrit['damping'])+'-'+str(\n",
    "    stabcrit['mac'])+'-'+'_mcs-'+str(\n",
    "    min_cluster_size)+'_ms-'+str(min_samples)+'_sc-'+str(\n",
    "    scaling['mac'])+'-'+str(scaling['lambda_real'])+'-'+str(\n",
    "    scaling['lambda_imag']\n",
    "    )  \n",
    "\n",
    "print(name)"
   ]
  },
  {
   "cell_type": "code",
   "execution_count": 8,
   "metadata": {},
   "outputs": [],
   "source": [
    "ts.cluster(prob_threshold, min_cluster_size,min_samples,scaling)"
   ]
  },
  {
   "cell_type": "code",
   "execution_count": 9,
   "metadata": {},
   "outputs": [],
   "source": [
    "numerical_freqs=np.array([0.05,0.098,0.11,0.14,0.169,0.197,0.21,0.233,0.244,0.272,0.293,0.33,0,36,0.392,0.406])\n",
    "\n",
    "prev_discovered_modes=np.array([0.052,0.105,0.119,0.142,0.183,0.206,0.212,\n",
    "                                0.23,0.276,0.318,0.333,0.374,0.401,0.418\n",
    "\n",
    "])"
   ]
  },
  {
   "cell_type": "code",
   "execution_count": null,
   "metadata": {},
   "outputs": [],
   "source": []
  },
  {
   "cell_type": "code",
   "execution_count": 11,
   "metadata": {},
   "outputs": [
    {
     "name": "stdout",
     "output_type": "stream",
     "text": [
      "test2\n",
      "test3\n"
     ]
    }
   ],
   "source": [
    "fig=PlotStabDiagFromTsObject(ts,\n",
    "                             display=True,true_w=True\n",
    "                             ,color='mac',xmax=0.5)"
   ]
  },
  {
   "cell_type": "code",
   "execution_count": null,
   "metadata": {},
   "outputs": [
    {
     "ename": "",
     "evalue": "",
     "output_type": "error",
     "traceback": [
      "\u001b[1;31mThe Kernel crashed while executing code in the the current cell or a previous cell. Please review the code in the cell(s) to identify a possible cause of the failure. Click <a href='https://aka.ms/vscodeJupyterKernelCrash'>here</a> for more info. View Jupyter <a href='command:jupyter.viewOutput'>log</a> for further details."
     ]
    }
   ],
   "source": [
    "# plt.savefig('STRID_covssi_2_mac.png',dpi=200)"
   ]
  },
  {
   "cell_type": "code",
   "execution_count": null,
   "metadata": {},
   "outputs": [
    {
     "name": "stdout",
     "output_type": "stream",
     "text": [
      "<class 'list'>\n"
     ]
    }
   ],
   "source": [
    "print(type(ts.PHI_median))"
   ]
  },
  {
   "cell_type": "code",
   "execution_count": null,
   "metadata": {},
   "outputs": [],
   "source": []
  },
  {
   "cell_type": "code",
   "execution_count": null,
   "metadata": {},
   "outputs": [],
   "source": []
  },
  {
   "cell_type": "code",
   "execution_count": null,
   "metadata": {},
   "outputs": [
    {
     "ename": "",
     "evalue": "",
     "output_type": "error",
     "traceback": [
      "\u001b[1;31mCanceled future for execute_request message before replies were done"
     ]
    },
    {
     "ename": "",
     "evalue": "",
     "output_type": "error",
     "traceback": [
      "\u001b[1;31mThe Kernel crashed while executing code in the the current cell or a previous cell. Please review the code in the cell(s) to identify a possible cause of the failure. Click <a href='https://aka.ms/vscodeJupyterKernelCrash'>here</a> for more info. View Jupyter <a href='command:jupyter.viewOutput'>log</a> for further details."
     ]
    }
   ],
   "source": [
    "from mode_visulizer import *\n",
    "\n",
    "test=mode_plot(ts.PHI_median)\n",
    "test.show()\n"
   ]
  },
  {
   "cell_type": "code",
   "execution_count": null,
   "metadata": {},
   "outputs": [
    {
     "name": "stdout",
     "output_type": "stream",
     "text": [
      "81\n",
      "<class 'numpy.float64'>\n"
     ]
    }
   ],
   "source": [
    "print(len((ts.PHI_median)))\n",
    "print(type((ts.PHI_median[0][0])))"
   ]
  }
 ],
 "metadata": {
  "kernelspec": {
   "display_name": "base",
   "language": "python",
   "name": "python3"
  },
  "language_info": {
   "codemirror_mode": {
    "name": "ipython",
    "version": 3
   },
   "file_extension": ".py",
   "mimetype": "text/x-python",
   "name": "python",
   "nbconvert_exporter": "python",
   "pygments_lexer": "ipython3",
   "version": "3.9.12"
  },
  "orig_nbformat": 4,
  "vscode": {
   "interpreter": {
    "hash": "982381247cc18afc3b617cb71ade8d707ab2591c1cea9f6b1b0a1c2143b8ff55"
   }
  }
 },
 "nbformat": 4,
 "nbformat_minor": 2
}
