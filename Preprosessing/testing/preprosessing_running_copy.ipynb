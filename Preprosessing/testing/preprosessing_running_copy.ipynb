{
 "cells": [
  {
   "cell_type": "code",
   "execution_count": 33,
   "metadata": {},
   "outputs": [
    {
     "name": "stdout",
     "output_type": "stream",
     "text": [
      "The autoreload extension is already loaded. To reload it, use:\n",
      "  %reload_ext autoreload\n"
     ]
    }
   ],
   "source": [
    "# Load the autoreload extension\n",
    "%load_ext autoreload\n",
    "\n",
    "# Autoreload reloads modules before executing code\n",
    "# 0: disable\n",
    "# 1: reload modules imported with %aimport\n",
    "# 2: reload all modules, except those excluded by %aimport\n",
    "%autoreload 2"
   ]
  },
  {
   "cell_type": "code",
   "execution_count": 21,
   "metadata": {},
   "outputs": [],
   "source": [
    "sys.path.insert(1,'../')\n",
    "from preposessing import*"
   ]
  },
  {
   "attachments": {},
   "cell_type": "markdown",
   "metadata": {},
   "source": [
    "importing a time series:"
   ]
  },
  {
   "cell_type": "code",
   "execution_count": 35,
   "metadata": {},
   "outputs": [],
   "source": [
    "data=import_file('../../test_data_hardanger/','HB141M-2013-12-05_00-56-08.mat')\n"
   ]
  },
  {
   "attachments": {},
   "cell_type": "markdown",
   "metadata": {},
   "source": [
    "Converting the time series to a simpler object:"
   ]
  },
  {
   "cell_type": "code",
   "execution_count": 36,
   "metadata": {},
   "outputs": [],
   "source": [
    "simple_time_series=data.convert()"
   ]
  },
  {
   "attachments": {},
   "cell_type": "markdown",
   "metadata": {},
   "source": [
    "Saving the simpler time series:"
   ]
  },
  {
   "cell_type": "code",
   "execution_count": 37,
   "metadata": {},
   "outputs": [],
   "source": [
    "simple_time_series.save('../../test_data_hardanger/testing/')"
   ]
  },
  {
   "attachments": {},
   "cell_type": "markdown",
   "metadata": {},
   "source": [
    "## Importing the time series again, for fun"
   ]
  },
  {
   "attachments": {},
   "cell_type": "markdown",
   "metadata": {},
   "source": [
    "Finding the name of the file from the object we saved: "
   ]
  },
  {
   "cell_type": "code",
   "execution_count": 38,
   "metadata": {},
   "outputs": [
    {
     "name": "stdout",
     "output_type": "stream",
     "text": [
      "HB141M-2013-12-05_00-56-08\n"
     ]
    }
   ],
   "source": [
    "name=simple_time_series.series_metadata['file_name']\n",
    "print(name)"
   ]
  },
  {
   "attachments": {},
   "cell_type": "markdown",
   "metadata": {},
   "source": [
    "importing:"
   ]
  },
  {
   "cell_type": "code",
   "execution_count": 39,
   "metadata": {},
   "outputs": [],
   "source": [
    "imported_ts=import_converted_ts('../../test_data_hardanger/testing/',name)"
   ]
  },
  {
   "attachments": {},
   "cell_type": "markdown",
   "metadata": {},
   "source": [
    "Printing the layout of the file:"
   ]
  },
  {
   "cell_type": "code",
   "execution_count": 40,
   "metadata": {},
   "outputs": [
    {
     "name": "stdout",
     "output_type": "stream",
     "text": [
      "The imported object have 3 attributes, which containes a dictionary each: \n",
      "\n",
      ".series_metadata : \n",
      "\n",
      "{'file_name': 'HB141M-2013-12-05_00-56-08', 'duration': array(1859.99)}\n",
      "-----------------------------------------\n",
      "\n",
      ".sensor_metadata :\n",
      "\n",
      "\n",
      "key = sensor + dir. :  H1_East_x\n",
      "     key_2 =  component_no\n",
      "           1.0\n",
      "     key_2 =  data_quality\n",
      "           acceptable (value > 5 std detected)\n",
      "     key_2 =  mean\n",
      "           0.004091387092051108\n",
      "     key_2 =  adjusted_samplerate\n",
      "           20.0\n",
      "\n",
      "key = sensor + dir. :  H1_East_y\n",
      "     key_2 =  component_no\n",
      "           2.0\n",
      "     key_2 =  data_quality\n",
      "           acceptable (value > 5 std detected)\n",
      "     key_2 =  mean\n",
      "           0.02016170136076543\n",
      "     key_2 =  adjusted_samplerate\n",
      "           20.0\n",
      "\n",
      "key = sensor + dir. :  H1_East_z\n",
      "     key_2 =  component_no\n",
      "           3.0\n",
      "     key_2 =  data_quality\n",
      "           acceptable (value > 5 std detected)\n",
      "     key_2 =  mean\n",
      "           0.011246251509743602\n",
      "     key_2 =  adjusted_samplerate\n",
      "           20.0\n",
      "\n",
      "key = sensor + dir. :  H1_Vest_x\n",
      "     key_2 =  component_no\n",
      "           1.0\n",
      "     key_2 =  data_quality\n",
      "           acceptable (value > 5 std detected)\n",
      "     key_2 =  mean\n",
      "           0.007584671288013343\n",
      "     key_2 =  adjusted_samplerate\n",
      "           20.0\n",
      "\n",
      ".\n",
      ".\n",
      ".\n",
      ".\n",
      ".\n",
      "-----------------------------------------\n",
      ".timeseries: \n",
      "[0.00000000e+00 5.00010753e-02 1.00002151e-01 ... 1.85989000e+03\n",
      " 1.85994000e+03 1.85999000e+03]\n",
      "-----------------------------------------\n",
      ".ac_data: \n",
      "\n",
      "key:  H1_East_x\n",
      "[       nan        nan        nan ... 0.00395013 0.00399995 0.00373299]\n",
      "\n",
      "key:  H1_East_y\n",
      "[       nan        nan        nan ... 0.01982222 0.01971038 0.0201329 ]\n",
      "\n",
      "key:  H1_East_z\n",
      "[       nan        nan        nan ... 0.01788395 0.01732747 0.01636748]\n",
      "\n",
      "key:  H1_Vest_x\n",
      "[       nan        nan        nan ... 0.007674   0.00742488 0.00724249]\n",
      "\n",
      ".\n",
      ".\n",
      ".\n",
      ".\n",
      ".\n"
     ]
    }
   ],
   "source": [
    "# plt.figure(figsize=(10,3))\n",
    "data=imported_ts.ac_data\n",
    "print('The imported object have 3 attributes, which containes a dictionary each: \\n\\n.series_metadata : \\n')\n",
    "print(imported_ts.series_metadata)\n",
    "print('-----------------------------------------')\n",
    "print('\\n.sensor_metadata :\\n')\n",
    "i=0\n",
    "for key in imported_ts.sensor_metadata.keys():\n",
    "    print('\\nkey = sensor + dir. : ',key)\n",
    "    # print()\n",
    "    for key_2 in imported_ts.sensor_metadata.get(key):\n",
    "        print('     key_2 = ',key_2)\n",
    "        print('          ',imported_ts.sensor_metadata.get(key).get(key_2))\n",
    "    i+=1\n",
    "    if i==4:\n",
    "        break\n",
    "print('\\n.\\n.\\n.\\n.\\n.')\n",
    "print('-----------------------------------------')\n",
    "print('.timeseries: ')\n",
    "print(imported_ts.timeseries)\n",
    "\n",
    "\n",
    "print('-----------------------------------------')\n",
    "print('.ac_data: ')\n",
    "j=0\n",
    "for key in imported_ts.ac_data.keys():\n",
    "    print('\\nkey: ', key)\n",
    "    print(imported_ts.ac_data.get(key))\n",
    "    j+=1\n",
    "    if j==4:\n",
    "        break\n",
    "print('\\n.\\n.\\n.\\n.\\n.')"
   ]
  },
  {
   "attachments": {},
   "cell_type": "markdown",
   "metadata": {},
   "source": [
    "Checking tha quality of the imported file: "
   ]
  },
  {
   "cell_type": "code",
   "execution_count": 41,
   "metadata": {},
   "outputs": [
    {
     "name": "stdout",
     "output_type": "stream",
     "text": [
      "good_quality=  True\n"
     ]
    }
   ],
   "source": [
    "print('good_quality= ',quality_check(imported_ts))    "
   ]
  },
  {
   "attachments": {},
   "cell_type": "markdown",
   "metadata": {},
   "source": [
    "Converting the whole folder: \n"
   ]
  },
  {
   "cell_type": "code",
   "execution_count": 42,
   "metadata": {},
   "outputs": [],
   "source": [
    "# convert_folder('../../test_data_hardanger/',)"
   ]
  },
  {
   "cell_type": "code",
   "execution_count": 43,
   "metadata": {},
   "outputs": [],
   "source": [
    "tss=get_ts_folder('../../test_data_hardanger/converted_ts/')"
   ]
  },
  {
   "cell_type": "code",
   "execution_count": 44,
   "metadata": {},
   "outputs": [
    {
     "name": "stdout",
     "output_type": "stream",
     "text": [
      "[0.00000000e+00 5.00010753e-02 1.00002151e-01 ... 1.85989000e+03\n",
      " 1.85994000e+03 1.85999000e+03]\n"
     ]
    },
    {
     "data": {
      "text/plain": [
       "[<matplotlib.lines.Line2D at 0x229865e9d60>]"
      ]
     },
     "execution_count": 44,
     "metadata": {},
     "output_type": "execute_result"
    }
   ],
   "source": [
    "ts1=tss[0]\n",
    "# print(ts1.ac_data.keys())\n",
    "ts=ts1.ac_data.get('H1_East_y')\n",
    "t=ts1.timeseries\n",
    "print(t)\n",
    "plt.plot(t,ts)"
   ]
  },
  {
   "cell_type": "code",
   "execution_count": 45,
   "metadata": {},
   "outputs": [
    {
     "name": "stdout",
     "output_type": "stream",
     "text": [
      "[0.00000000e+00 5.00010753e-02 1.00002151e-01 ... 1.85989000e+03\n",
      " 1.85994000e+03 1.85999000e+03]\n"
     ]
    },
    {
     "data": {
      "text/plain": [
       "[<matplotlib.lines.Line2D at 0x229865d3be0>]"
      ]
     },
     "execution_count": 45,
     "metadata": {},
     "output_type": "execute_result"
    }
   ],
   "source": [
    "ts_adjust=adjust_means(ts1)\n",
    "\n",
    "ts=ts1.ac_data.get('H1_East_y')\n",
    "t=ts1.timeseries\n",
    "print(t)\n",
    "plt.plot(t,ts)"
   ]
  },
  {
   "cell_type": "code",
   "execution_count": 46,
   "metadata": {},
   "outputs": [
    {
     "name": "stdout",
     "output_type": "stream",
     "text": [
      "[[            nan             nan             nan ... -1.41258471e-04\n",
      "  -9.14322166e-05 -3.58401970e-04]\n",
      " [            nan             nan             nan ... -3.39478644e-04\n",
      "  -4.51317048e-04 -2.88053117e-05]\n",
      " [            nan             nan             nan ...  6.63770236e-03\n",
      "   6.08121564e-03  5.12122908e-03]\n",
      " ...\n",
      " [ 2.83362469e-04 -1.97692469e-05  1.80242787e-04 ...  2.68427856e-04\n",
      "  -2.03233958e-05 -2.11639674e-04]\n",
      " [-3.48718671e-04 -4.17454437e-04 -3.67106353e-04 ...  1.42957523e-04\n",
      "  -2.20655223e-05 -2.81460092e-04]\n",
      " [ 4.36387180e-05 -4.29403161e-04 -2.38540974e-04 ...  7.82306415e-05\n",
      "  -3.94642287e-05 -5.88132072e-05]]\n",
      "[[ 0.00000000e+00  0.00000000e+00  0.00000000e+00 ... -1.41258471e-04\n",
      "  -9.14322166e-05 -3.58401970e-04]\n",
      " [ 0.00000000e+00  0.00000000e+00  0.00000000e+00 ... -3.39478644e-04\n",
      "  -4.51317048e-04 -2.88053117e-05]\n",
      " [ 0.00000000e+00  0.00000000e+00  0.00000000e+00 ...  6.63770236e-03\n",
      "   6.08121564e-03  5.12122908e-03]\n",
      " ...\n",
      " [ 2.83362469e-04 -1.97692469e-05  1.80242787e-04 ...  2.68427856e-04\n",
      "  -2.03233958e-05 -2.11639674e-04]\n",
      " [-3.48718671e-04 -4.17454437e-04 -3.67106353e-04 ...  1.42957523e-04\n",
      "  -2.20655223e-05 -2.81460092e-04]\n",
      " [ 4.36387180e-05 -4.29403161e-04 -2.38540974e-04 ...  7.82306415e-05\n",
      "  -3.94642287e-05 -5.88132072e-05]]\n"
     ]
    }
   ],
   "source": [
    "data_dict=ts1.ac_data\n",
    "data_arr=np.zeros((len(data_dict),len(data_dict.get('H3_East_y'))))\n",
    "for i,key in enumerate(data_dict.keys()):\n",
    "    series=data_dict.get(key)\n",
    "    data_arr[i]=series\n",
    "# fs=ts1.sensor_metadata.get('H3_East_y').get('adjusted_samplerate')\n",
    "fs2=len(ts1.timeseries)/(ts1.timeseries[-1]-ts1.timeseries[0])\n",
    "\n",
    "print(data_arr)\n",
    "data_arr=np.nan_to_num(data_arr)\n",
    "print(data_arr)\n",
    "# print(np.shape(data_arr))\n",
    "\n",
    "# # print(np.nan)\n",
    "\n",
    "# for i, series in enumerate(data_arr):\n",
    "#     for j,value in enumerate(series):\n",
    "#         if np.isnan(value): \n",
    "#             data_arr[i,j]=0\n",
    "#             print('nan')\n",
    "\n",
    "# # print((data_arr[0,0]))"
   ]
  },
  {
   "cell_type": "code",
   "execution_count": 47,
   "metadata": {},
   "outputs": [],
   "source": [
    "import koma.oma\n",
    "# orders=np.arange(10,150,3)\n",
    "# lambd,phi=koma.oma.covssi(data_arr.T,fs2,30,orders)"
   ]
  },
  {
   "cell_type": "markdown",
   "metadata": {},
   "source": []
  },
  {
   "attachments": {},
   "cell_type": "markdown",
   "metadata": {},
   "source": [
    "Saving the results from the COV.ssi"
   ]
  },
  {
   "cell_type": "code",
   "execution_count": 48,
   "metadata": {},
   "outputs": [],
   "source": [
    "# np.savez('./Cov_ssi.npz',l=np.array(lambd),o=orders)\n"
   ]
  },
  {
   "cell_type": "code",
   "execution_count": 2,
   "metadata": {},
   "outputs": [],
   "source": [
    "# file=np.load('./Cov_ssi.npz')\n",
    "import numpy as np\n",
    "\n",
    "with np.load('./Cov_ssi.npz',allow_pickle=True) as file:\n",
    "    lambd_loaded=file['l']\n",
    "    orders_loaded=file['o']\n",
    "\n",
    "\n",
    "\n",
    "# Load the autoreload extension\n",
    "%load_ext autoreload\n",
    "\n",
    "# Autoreload reloads modules before executing code\n",
    "# 0: disable\n",
    "# 1: reload modules imported with %aimport\n",
    "# 2: reload all modules, except those excluded by %aimport\n",
    "%autoreload 2"
   ]
  },
  {
   "cell_type": "code",
   "execution_count": 4,
   "metadata": {},
   "outputs": [
    {
     "name": "stdout",
     "output_type": "stream",
     "text": [
      "y\n"
     ]
    },
    {
     "name": "stderr",
     "output_type": "stream",
     "text": [
      "Traceback (most recent call last):\n",
      "  File \"c:\\Users\\olebj\\miniconda3\\lib\\site-packages\\matplotlib\\cbook\\__init__.py\", line 307, in process\n",
      "    func(*args, **kwargs)\n",
      "  File \"c:\\Users\\olebj\\miniconda3\\lib\\site-packages\\matplotlib\\backend_bases.py\", line 3298, in <lambda>\n",
      "    \"close_event\", lambda e: manager.destroy())\n",
      "  File \"c:\\Users\\olebj\\miniconda3\\lib\\site-packages\\matplotlib\\backends\\_backend_tk.py\", line 529, in destroy\n",
      "    self._window_dpi.trace_remove('write', self._window_dpi_cbname)\n",
      "  File \"c:\\Users\\olebj\\miniconda3\\lib\\tkinter\\__init__.py\", line 430, in trace_remove\n",
      "    self._tk.deletecommand(cbname)\n",
      "_tkinter.TclError: can't delete Tcl command\n"
     ]
    }
   ],
   "source": [
    "import sys\n",
    "sys.path.append('../../src')\n",
    "from utils_OB import *\n",
    "\n",
    "\n",
    "fig=(plot_stab_from_KOMA(\n",
    "    lambd=(lambd_loaded),all_orders=orders_loaded,figsize=(10,8)))\n"
   ]
  },
  {
   "cell_type": "code",
   "execution_count": 51,
   "metadata": {},
   "outputs": [],
   "source": [
    "# matplotlib.use('noe')"
   ]
  }
 ],
 "metadata": {
  "kernelspec": {
   "display_name": "Python 3",
   "language": "python",
   "name": "python3"
  },
  "language_info": {
   "codemirror_mode": {
    "name": "ipython",
    "version": 3
   },
   "file_extension": ".py",
   "mimetype": "text/x-python",
   "name": "python",
   "nbconvert_exporter": "python",
   "pygments_lexer": "ipython3",
   "version": "3.9.12"
  },
  "orig_nbformat": 4,
  "vscode": {
   "interpreter": {
    "hash": "982381247cc18afc3b617cb71ade8d707ab2591c1cea9f6b1b0a1c2143b8ff55"
   }
  }
 },
 "nbformat": 4,
 "nbformat_minor": 2
}
