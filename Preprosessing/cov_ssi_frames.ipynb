{
 "cells": [
  {
   "cell_type": "code",
   "execution_count": 1,
   "metadata": {},
   "outputs": [],
   "source": [
    "import pandas as pd \n",
    "import numpy as np \n",
    "import matplotlib.pyplot as plt \n",
    "import matplotlib\n",
    "import os \n",
    "import sys \n",
    "path='../src/'\n",
    "if path not in sys.path: \n",
    "    sys.path.insert(1,path)\n",
    "from utils_OB import *\n",
    "from preposessing import *\n",
    "\n",
    "import traceback\n",
    "import psutil \n",
    "import gc\n",
    "\n",
    "%load_ext autoreload\n",
    "%autoreload 2\n",
    "\n"
   ]
  },
  {
   "cell_type": "code",
   "execution_count": 3,
   "metadata": {},
   "outputs": [
    {
     "name": "stdout",
     "output_type": "stream",
     "text": [
      "('C:/Users/olebfa/OneDrive - NTNU/00Master - Onedrive/OB ymse/5hz_resampled_int_tans', 'fil')\n"
     ]
    }
   ],
   "source": [
    "folder_path='C:/Users/olebfa/OneDrive - NTNU/00Master - Onedrive/OB ymse/5hz_resampled_int_tans/fil'\n",
    "\n",
    "print(os.path.split(folder_path))"
   ]
  },
  {
   "cell_type": "code",
   "execution_count": 3,
   "metadata": {},
   "outputs": [],
   "source": [
    "folder_path='../../resampl/'\n",
    "names=os.listdir(folder_path)\n",
    "names.sort()\n",
    "# file_path=folder_path+names[6]\n",
    "# print(names[0])\n",
    "# dataframe=pd.read_pickle(file_path)\n",
    "\n",
    "error_file='HB141M-2013-12-25_07-58-53.pkl'"
   ]
  },
  {
   "attachments": {},
   "cell_type": "markdown",
   "metadata": {},
   "source": [
    "# Testing: "
   ]
  },
  {
   "cell_type": "code",
   "execution_count": 33,
   "metadata": {},
   "outputs": [
    {
     "name": "stdout",
     "output_type": "stream",
     "text": [
      "<class 'pandas.core.frame.DataFrame'>\n",
      "RangeIndex: 3100 entries, 0 to 3099\n",
      "Data columns (total 89 columns):\n",
      " #   Column          Non-Null Count  Dtype  \n",
      "---  ------          --------------  -----  \n",
      " 0   H1 East_x       3100 non-null   float64\n",
      " 1   H1 East_y       3100 non-null   float64\n",
      " 2   H1 East_z       3100 non-null   float64\n",
      " 3   H1 Vest_x       3100 non-null   float64\n",
      " 4   H1 Vest_y       3100 non-null   float64\n",
      " 5   H1 Vest_z       3100 non-null   float64\n",
      " 6   H2 Vest_x       3100 non-null   float64\n",
      " 7   H2 Vest_y       3100 non-null   float64\n",
      " 8   H2 Vest_z       3100 non-null   float64\n",
      " 9   H3 East_x       3100 non-null   float64\n",
      " 10  H3 East_y       3100 non-null   float64\n",
      " 11  H3 East_z       3100 non-null   float64\n",
      " 12  H3 Vest_x       3100 non-null   float64\n",
      " 13  H3 Vest_y       3100 non-null   float64\n",
      " 14  H3 Vest_z       3100 non-null   float64\n",
      " 15  H4 East_x       3100 non-null   float64\n",
      " 16  H4 East_y       3100 non-null   float64\n",
      " 17  H4 East_z       3100 non-null   float64\n",
      " 18  H4 Vest_x       3100 non-null   float64\n",
      " 19  H4 Vest_y       3100 non-null   float64\n",
      " 20  H4 Vest_z       3100 non-null   float64\n",
      " 21  H5 East_x       3100 non-null   float64\n",
      " 22  H5 East_y       3100 non-null   float64\n",
      " 23  H5 East_z       3100 non-null   float64\n",
      " 24  H5 Vest_x       3100 non-null   float64\n",
      " 25  H5 Vest_y       3100 non-null   float64\n",
      " 26  H5 Vest_z       3100 non-null   float64\n",
      " 27  H6 East_x       3100 non-null   float64\n",
      " 28  H6 East_y       3100 non-null   float64\n",
      " 29  H6 East_z       3100 non-null   float64\n",
      " 30  H6 Vest_x       3100 non-null   float64\n",
      " 31  H6 Vest_y       3100 non-null   float64\n",
      " 32  H6 Vest_z       3100 non-null   float64\n",
      " 33  H7 East_x       3100 non-null   float64\n",
      " 34  H7 East_y       3100 non-null   float64\n",
      " 35  H7 East_z       3100 non-null   float64\n",
      " 36  H7 Vest_x       3100 non-null   float64\n",
      " 37  H7 Vest_y       3100 non-null   float64\n",
      " 38  H7 Vest_z       3100 non-null   float64\n",
      " 39  H8 East_x       3100 non-null   float64\n",
      " 40  H8 East_y       3100 non-null   float64\n",
      " 41  H8 East_z       3100 non-null   float64\n",
      " 42  H9 East_x       3100 non-null   float64\n",
      " 43  H9 East_y       3100 non-null   float64\n",
      " 44  H9 East_z       3100 non-null   float64\n",
      " 45  H9 Vest_x       3100 non-null   float64\n",
      " 46  H9 Vest_y       3100 non-null   float64\n",
      " 47  H9 Vest_z       3100 non-null   float64\n",
      " 48  H10 East_x      3100 non-null   float64\n",
      " 49  H10 East_y      3100 non-null   float64\n",
      " 50  H10 East_z      3100 non-null   float64\n",
      " 51  H10 Vest_x      3100 non-null   float64\n",
      " 52  H10 Vest_y      3100 non-null   float64\n",
      " 53  H10 Vest_z      3100 non-null   float64\n",
      " 54  H11 East_x      3100 non-null   float64\n",
      " 55  H11 East_y      3100 non-null   float64\n",
      " 56  H11 East_z      3100 non-null   float64\n",
      " 57  H11 Vest_x      3100 non-null   float64\n",
      " 58  H11 Vest_y      3100 non-null   float64\n",
      " 59  H11 Vest_z      3100 non-null   float64\n",
      " 60  A1_angel        3100 non-null   float64\n",
      " 61  A1_horizontal   3100 non-null   float64\n",
      " 62  A1_vertical     3100 non-null   float64\n",
      " 63  A1_temperature  3100 non-null   float64\n",
      " 64  A2_angel        3100 non-null   float64\n",
      " 65  A2_horizontal   3100 non-null   float64\n",
      " 66  A2_vertical     3100 non-null   float64\n",
      " 67  A2_temperature  3100 non-null   float64\n",
      " 68  A4_angel        3100 non-null   float64\n",
      " 69  A4_horizontal   3100 non-null   float64\n",
      " 70  A4_vertical     3100 non-null   float64\n",
      " 71  A4_temperature  3100 non-null   float64\n",
      " 72  A6_angel        3100 non-null   float64\n",
      " 73  A6_horizontal   3100 non-null   float64\n",
      " 74  A6_vertical     3100 non-null   float64\n",
      " 75  A6_temperature  3100 non-null   float64\n",
      " 76  A7_angel        3100 non-null   float64\n",
      " 77  A7_horizontal   3100 non-null   float64\n",
      " 78  A7_vertical     3100 non-null   float64\n",
      " 79  A7_temperature  3100 non-null   float64\n",
      " 80  A8_angel        3100 non-null   float64\n",
      " 81  A8_horizontal   3100 non-null   float64\n",
      " 82  A8_vertical     3100 non-null   float64\n",
      " 83  A8_temperature  3100 non-null   float64\n",
      " 84  A9_angel        3100 non-null   float64\n",
      " 85  A9_horizontal   3100 non-null   float64\n",
      " 86  A9_vertical     3100 non-null   float64\n",
      " 87  A9_temperature  3100 non-null   float64\n",
      " 88  timeseries      3100 non-null   float64\n",
      "dtypes: float64(89)\n",
      "memory usage: 2.1 MB\n"
     ]
    }
   ],
   "source": [
    "\n",
    "ac_channels=['H1 East_x', 'H1 East_y', 'H1 East_z', 'H1 Vest_x',\n",
    "     'H1 Vest_y',\n",
    "       'H1 Vest_z', 'H2 Vest_x', 'H2 Vest_y', 'H2 Vest_z', 'H3 East_x',\n",
    "       'H3 East_y', 'H3 East_z', 'H3 Vest_x', 'H3 Vest_y', 'H3 Vest_z',\n",
    "       'H4 East_x', 'H4 East_y', 'H4 East_z', 'H4 Vest_x', 'H4 Vest_y',\n",
    "       'H4 Vest_z', 'H5 East_x', 'H5 East_y', 'H5 East_z', 'H5 Vest_x',\n",
    "       'H5 Vest_y', 'H5 Vest_z', 'H6 East_x', 'H6 East_y', 'H6 East_z',\n",
    "       'H6 Vest_x', 'H6 Vest_y', 'H6 Vest_z', 'H7 East_x', 'H7 East_y',\n",
    "       'H7 East_z', 'H7 Vest_x', 'H7 Vest_y', 'H7 Vest_z', 'H8 East_x',\n",
    "       'H8 East_y', 'H8 East_z', 'H9 East_x', 'H9 East_y', 'H9 East_z',\n",
    "       'H9 Vest_x', 'H9 Vest_y', 'H9 Vest_z', 'H10 East_x', 'H10 East_y',\n",
    "       'H10 East_z', 'H10 Vest_x', 'H10 Vest_y', 'H10 Vest_z', 'H11 East_x',\n",
    "       'H11 East_y', 'H11 East_z', 'H11 Vest_x', 'H11 Vest_y', 'H11 Vest_z',]\n",
    "\n",
    "with open('log_file.txt','a') as file:\n",
    "    file.write('\\n\\n\\n\\n\\n ######################  New test ######################\\n\\n')\n",
    "\n",
    "count=0\n",
    "for file_p in names:\n",
    "\n",
    "    count+=1\n",
    "\n",
    "    file_p=error_file\n",
    "    try:\n",
    "        # if file_p not in os.listdir('../../5hz_covssi/'):\n",
    "        name=os.path.split(path)[-1]\n",
    "        with open('log_file.txt','a') as log_file:\n",
    "            log_file.write('\\n'+str(name)+':\\n')\n",
    "\n",
    "            df=pd.read_pickle(path)\n",
    "\n",
    "            log_file.write('Data Frame info:\\n '+str(df.info())+':\\n')\n",
    "\n",
    "            data_arr=df[ac_channels].to_numpy(copy=True).T\n",
    "            data_arr=np.nan_to_num(data_arr,nan=0.0)\n",
    "\n",
    "\n",
    "            log_file.write('\\n\\nData_arr: '+str(np.shape(data_arr)))\n",
    "\n",
    "\n",
    "        ts=df['timeseries'].to_numpy()\n",
    "        fs=len(ts)/(ts[-1]-ts[0])\n",
    "\n",
    "            # ts=ts_via_cov_ssi_df(path,orders,depth)\n",
    "            # ts.save('../../5hz_covssi/')\n",
    "    except Exception as a:\n",
    "        with open('log_file.txt','a') as file:\n",
    "            file.write(str(file_p)+ '  feil: '+str(a))\n",
    "        # continue\n",
    "    if count > 0: \n",
    "        break"
   ]
  },
  {
   "cell_type": "code",
   "execution_count": 2,
   "metadata": {},
   "outputs": [
    {
     "name": "stdout",
     "output_type": "stream",
     "text": [
      "0\n"
     ]
    }
   ],
   "source": []
  },
  {
   "cell_type": "code",
   "execution_count": 21,
   "metadata": {},
   "outputs": [
    {
     "name": "stdout",
     "output_type": "stream",
     "text": [
      "(60, 3100)\n",
      "(3100,)\n"
     ]
    }
   ],
   "source": [
    "print(np.shape(data_arr))\n",
    "print(np.shape(ts))"
   ]
  },
  {
   "attachments": {},
   "cell_type": "markdown",
   "metadata": {},
   "source": [
    "# Run this: "
   ]
  },
  {
   "cell_type": "code",
   "execution_count": 3,
   "metadata": {},
   "outputs": [],
   "source": [
    "\n",
    "for file_p in names:\n",
    "\n",
    "    try:\n",
    "        if file_p not in os.listdir('../../5hz_covssi/'):    \n",
    "            with open('log_file.txt','a') as file:\n",
    "                file.write('\\n\\n ######################  New test ######################\\n\\n')\n",
    "                file.close()\n",
    "            path=folder_path+file_p    \n",
    "            orders=np.arange(50,200,2)\n",
    "            depth=120\n",
    "            ts=ts_via_cov_ssi_df(path,orders,depth)\n",
    "            ts.save('../../5hz_covssi/')\n",
    "            gc.collect()\n",
    "    except Exception as a:\n",
    "        with open('log_file.txt','a') as file:\n",
    "            file.write(str(file_p)+' feil: '+str(a)+'\\n\\n')\n",
    "            traceback.print_exc(file=file)\n",
    "            total_memory=psutil.virtual_memory()[0]\n",
    "            used_memory=psutil.virtual_memory()[3]\n",
    "            free_memory=psutil.virtual_memory()[4]\n",
    "\n",
    "            file.write('\\nMemory status: \\n')\n",
    "            file.write('   Used: '+str(round(used_memory/10**9,3))+'Gb')\n",
    "            file.write('\\n   Free:: '+str(round(free_memory/10**9,3))+'Gb')\n",
    "            file.write('\\n   Percentage: '+str(round((\n",
    "                used_memory/total_memory) * 100, 2)))\n",
    "            file.close()\n",
    "        ssid=None\n",
    "        gc.collect()\n",
    "        continue"
   ]
  },
  {
   "cell_type": "code",
   "execution_count": 7,
   "metadata": {},
   "outputs": [],
   "source": [
    "prev_discovered_modes=np.array([0.052,0.105,0.119,0.142,0.183,0.206,0.212,\n",
    "                                0.23,0.276,0.318,0.333,0.374,0.401,0.418])\n",
    "\n"
   ]
  },
  {
   "cell_type": "code",
   "execution_count": 8,
   "metadata": {},
   "outputs": [
    {
     "ename": "ValueError",
     "evalue": "Infinite values found in A",
     "output_type": "error",
     "traceback": [
      "\u001b[1;31m---------------------------------------------------------------------------\u001b[0m",
      "\u001b[1;31mValueError\u001b[0m                                Traceback (most recent call last)",
      "\u001b[1;32mc:\\Users\\olebj\\OneDrive - NTNU\\00Master - Onedrive\\OB ymse\\modal-tracking-thesis-spring-2023\\Preprosessing\\cov_ssi_frames.ipynb Cell 10\u001b[0m in \u001b[0;36m<cell line: 3>\u001b[1;34m()\u001b[0m\n\u001b[0;32m      <a href='vscode-notebook-cell:/c%3A/Users/olebj/OneDrive%20-%20NTNU/00Master%20-%20Onedrive/OB%20ymse/modal-tracking-thesis-spring-2023/Preprosessing/cov_ssi_frames.ipynb#X12sZmlsZQ%3D%3D?line=2'>3</a>\u001b[0m \u001b[39mif\u001b[39;00m \u001b[39mnot\u001b[39;00m np\u001b[39m.\u001b[39misfinite(A)\u001b[39m.\u001b[39mall():\n\u001b[0;32m      <a href='vscode-notebook-cell:/c%3A/Users/olebj/OneDrive%20-%20NTNU/00Master%20-%20Onedrive/OB%20ymse/modal-tracking-thesis-spring-2023/Preprosessing/cov_ssi_frames.ipynb#X12sZmlsZQ%3D%3D?line=3'>4</a>\u001b[0m     A,C,G,R0\u001b[39m=\u001b[39m(\u001b[39m0\u001b[39m,\u001b[39m0\u001b[39m,\u001b[39m0\u001b[39m,\u001b[39m0\u001b[39m)\n\u001b[1;32m----> <a href='vscode-notebook-cell:/c%3A/Users/olebj/OneDrive%20-%20NTNU/00Master%20-%20Onedrive/OB%20ymse/modal-tracking-thesis-spring-2023/Preprosessing/cov_ssi_frames.ipynb#X12sZmlsZQ%3D%3D?line=4'>5</a>\u001b[0m     \u001b[39mraise\u001b[39;00m \u001b[39mValueError\u001b[39;00m(\u001b[39m'\u001b[39m\u001b[39mInfinite values found in A\u001b[39m\u001b[39m'\u001b[39m)\n",
      "\u001b[1;31mValueError\u001b[0m: Infinite values found in A"
     ]
    }
   ],
   "source": [
    "A=np.array([[1,2,3,4],[np.NaN,3,4,5]])\n",
    "\n",
    "if not np.isfinite(A).all():\n",
    "    A,C,G,R0=(0,0,0,0)\n",
    "    raise ValueError('Infinite values found in A')\n"
   ]
  },
  {
   "attachments": {},
   "cell_type": "markdown",
   "metadata": {},
   "source": [
    "# Clustering "
   ]
  },
  {
   "cell_type": "code",
   "execution_count": 6,
   "metadata": {},
   "outputs": [],
   "source": [
    "valid_range= { 'freq': [0.025*2*np.pi, 6.28],'damping': [-0.02,np.inf] }\n",
    "\n",
    "indicator='freq'\n",
    "s=5\n",
    "stabcrit = {'freq':0.6, 'damping': 0.8, 'mac': 0.8}\n",
    "prob_threshold = 0.99   #probability of pole to belong to \n",
    "# cluster, based on estimated \"probability\" density function\n",
    "\n",
    "min_cluster_size=50\n",
    "min_samples=20\n",
    "scaling={'mac':1, 'lambda_real':1, 'lambda_imag': 1}\n",
    "\n",
    "# ts.find_stable_poles(orders,s,stabcrit,valid_range,indicator)\n",
    "\n",
    "info={r\"$\\bf{Valid range:}$\"+'\\n' :valid_range,\n",
    "      r\"$\\bf{Indicator}$\": indicator,\n",
    "      r\"$\\bf{S}$\":s,\n",
    "      r\"$\\bf{Stabcrit}$\":stabcrit,\n",
    "      '\\n'+r\"$\\bf{P\\ treshold}$\": prob_threshold,\n",
    "      r\"$\\bf{Min.\\ cluster\\ size}$\":min_cluster_size,\n",
    "      r\"$\\bf{Min.\\ samples}$\":min_samples,\n",
    "      r\"$\\bf{Scaling: }$\"+'\\n':scaling,\n",
    "      '\\n'+r\"$\\bf{Total\\ number\\ of\\ clusters: }$\":0\n",
    "      }\n",
    "name='fr-'+str(valid_range['freq'])+'_xir-'+str(\n",
    "    valid_range['damping'])+'_'+indicator+'_'+'S-'+str(\n",
    "    s)+'_scrit-'+str(stabcrit['freq'])+'-'+str(\n",
    "    stabcrit['damping'])+'-'+str(\n",
    "    stabcrit['mac'])+'-'+'_mcs-'+str(\n",
    "    min_cluster_size)+'_ms-'+str(min_samples)+'_sc-'+str(\n",
    "    scaling['mac'])+'-'+str(scaling['lambda_real'])+'-'+str(\n",
    "    scaling['lambda_imag']\n",
    "    )  "
   ]
  },
  {
   "cell_type": "code",
   "execution_count": 9,
   "metadata": {},
   "outputs": [
    {
     "name": "stderr",
     "output_type": "stream",
     "text": [
      "c:\\Users\\olebfa\\AppData\\Local\\anaconda3\\lib\\site-packages\\koma\\clustering.py:46: RuntimeWarning: divide by zero encountered in divide\n",
      "  diff = (arr1-arr2)/scaling\n",
      "c:\\Users\\olebfa\\AppData\\Local\\anaconda3\\lib\\site-packages\\koma\\clustering.py:46: RuntimeWarning: invalid value encountered in divide\n",
      "  diff = (arr1-arr2)/scaling\n",
      "c:\\Users\\olebfa\\AppData\\Local\\anaconda3\\lib\\site-packages\\koma\\clustering.py:46: RuntimeWarning: divide by zero encountered in divide\n",
      "  diff = (arr1-arr2)/scaling\n",
      "c:\\Users\\olebfa\\AppData\\Local\\anaconda3\\lib\\site-packages\\koma\\clustering.py:46: RuntimeWarning: invalid value encountered in divide\n",
      "  diff = (arr1-arr2)/scaling\n",
      "c:\\Users\\olebfa\\AppData\\Local\\anaconda3\\lib\\site-packages\\koma\\clustering.py:46: RuntimeWarning: divide by zero encountered in divide\n",
      "  diff = (arr1-arr2)/scaling\n",
      "c:\\Users\\olebfa\\AppData\\Local\\anaconda3\\lib\\site-packages\\koma\\clustering.py:46: RuntimeWarning: invalid value encountered in divide\n",
      "  diff = (arr1-arr2)/scaling\n",
      "c:\\Users\\olebfa\\AppData\\Local\\anaconda3\\lib\\site-packages\\koma\\clustering.py:46: RuntimeWarning: divide by zero encountered in divide\n",
      "  diff = (arr1-arr2)/scaling\n",
      "c:\\Users\\olebfa\\AppData\\Local\\anaconda3\\lib\\site-packages\\koma\\clustering.py:46: RuntimeWarning: invalid value encountered in divide\n",
      "  diff = (arr1-arr2)/scaling\n",
      "c:\\Users\\olebfa\\AppData\\Local\\anaconda3\\lib\\site-packages\\koma\\clustering.py:46: RuntimeWarning: divide by zero encountered in divide\n",
      "  diff = (arr1-arr2)/scaling\n",
      "c:\\Users\\olebfa\\AppData\\Local\\anaconda3\\lib\\site-packages\\koma\\clustering.py:46: RuntimeWarning: invalid value encountered in divide\n",
      "  diff = (arr1-arr2)/scaling\n",
      "c:\\Users\\olebfa\\AppData\\Local\\anaconda3\\lib\\site-packages\\koma\\clustering.py:46: RuntimeWarning: divide by zero encountered in divide\n",
      "  diff = (arr1-arr2)/scaling\n",
      "c:\\Users\\olebfa\\AppData\\Local\\anaconda3\\lib\\site-packages\\koma\\clustering.py:46: RuntimeWarning: invalid value encountered in divide\n",
      "  diff = (arr1-arr2)/scaling\n",
      "c:\\Users\\olebfa\\AppData\\Local\\anaconda3\\lib\\site-packages\\koma\\clustering.py:46: RuntimeWarning: divide by zero encountered in divide\n",
      "  diff = (arr1-arr2)/scaling\n",
      "c:\\Users\\olebfa\\AppData\\Local\\anaconda3\\lib\\site-packages\\koma\\clustering.py:46: RuntimeWarning: invalid value encountered in divide\n",
      "  diff = (arr1-arr2)/scaling\n",
      "c:\\Users\\olebfa\\AppData\\Local\\anaconda3\\lib\\site-packages\\koma\\clustering.py:46: RuntimeWarning: divide by zero encountered in divide\n",
      "  diff = (arr1-arr2)/scaling\n",
      "c:\\Users\\olebfa\\AppData\\Local\\anaconda3\\lib\\site-packages\\koma\\clustering.py:46: RuntimeWarning: invalid value encountered in divide\n",
      "  diff = (arr1-arr2)/scaling\n",
      "c:\\Users\\olebfa\\AppData\\Local\\anaconda3\\lib\\site-packages\\koma\\clustering.py:46: RuntimeWarning: divide by zero encountered in divide\n",
      "  diff = (arr1-arr2)/scaling\n",
      "c:\\Users\\olebfa\\AppData\\Local\\anaconda3\\lib\\site-packages\\koma\\clustering.py:46: RuntimeWarning: invalid value encountered in divide\n",
      "  diff = (arr1-arr2)/scaling\n",
      "c:\\Users\\olebfa\\AppData\\Local\\anaconda3\\lib\\site-packages\\koma\\clustering.py:46: RuntimeWarning: divide by zero encountered in divide\n",
      "  diff = (arr1-arr2)/scaling\n",
      "c:\\Users\\olebfa\\AppData\\Local\\anaconda3\\lib\\site-packages\\koma\\clustering.py:46: RuntimeWarning: invalid value encountered in divide\n",
      "  diff = (arr1-arr2)/scaling\n",
      "c:\\Users\\olebfa\\AppData\\Local\\anaconda3\\lib\\site-packages\\koma\\clustering.py:46: RuntimeWarning: divide by zero encountered in divide\n",
      "  diff = (arr1-arr2)/scaling\n",
      "c:\\Users\\olebfa\\AppData\\Local\\anaconda3\\lib\\site-packages\\koma\\clustering.py:46: RuntimeWarning: invalid value encountered in divide\n",
      "  diff = (arr1-arr2)/scaling\n",
      "c:\\Users\\olebfa\\AppData\\Local\\anaconda3\\lib\\site-packages\\koma\\clustering.py:46: RuntimeWarning: divide by zero encountered in divide\n",
      "  diff = (arr1-arr2)/scaling\n",
      "c:\\Users\\olebfa\\AppData\\Local\\anaconda3\\lib\\site-packages\\koma\\clustering.py:46: RuntimeWarning: invalid value encountered in divide\n",
      "  diff = (arr1-arr2)/scaling\n",
      "c:\\Users\\olebfa\\AppData\\Local\\anaconda3\\lib\\site-packages\\koma\\clustering.py:46: RuntimeWarning: divide by zero encountered in divide\n",
      "  diff = (arr1-arr2)/scaling\n",
      "c:\\Users\\olebfa\\AppData\\Local\\anaconda3\\lib\\site-packages\\koma\\clustering.py:46: RuntimeWarning: invalid value encountered in divide\n",
      "  diff = (arr1-arr2)/scaling\n",
      "c:\\Users\\olebfa\\AppData\\Local\\anaconda3\\lib\\site-packages\\koma\\clustering.py:46: RuntimeWarning: divide by zero encountered in divide\n",
      "  diff = (arr1-arr2)/scaling\n",
      "c:\\Users\\olebfa\\AppData\\Local\\anaconda3\\lib\\site-packages\\koma\\clustering.py:46: RuntimeWarning: invalid value encountered in divide\n",
      "  diff = (arr1-arr2)/scaling\n",
      "c:\\Users\\olebfa\\AppData\\Local\\anaconda3\\lib\\site-packages\\koma\\clustering.py:46: RuntimeWarning: divide by zero encountered in divide\n",
      "  diff = (arr1-arr2)/scaling\n",
      "c:\\Users\\olebfa\\AppData\\Local\\anaconda3\\lib\\site-packages\\koma\\clustering.py:46: RuntimeWarning: invalid value encountered in divide\n",
      "  diff = (arr1-arr2)/scaling\n",
      "c:\\Users\\olebfa\\AppData\\Local\\anaconda3\\lib\\site-packages\\koma\\clustering.py:46: RuntimeWarning: divide by zero encountered in divide\n",
      "  diff = (arr1-arr2)/scaling\n",
      "c:\\Users\\olebfa\\AppData\\Local\\anaconda3\\lib\\site-packages\\koma\\clustering.py:46: RuntimeWarning: invalid value encountered in divide\n",
      "  diff = (arr1-arr2)/scaling\n",
      "c:\\Users\\olebfa\\AppData\\Local\\anaconda3\\lib\\site-packages\\koma\\clustering.py:46: RuntimeWarning: divide by zero encountered in divide\n",
      "  diff = (arr1-arr2)/scaling\n",
      "c:\\Users\\olebfa\\AppData\\Local\\anaconda3\\lib\\site-packages\\koma\\clustering.py:46: RuntimeWarning: invalid value encountered in divide\n",
      "  diff = (arr1-arr2)/scaling\n",
      "c:\\Users\\olebfa\\AppData\\Local\\anaconda3\\lib\\site-packages\\koma\\clustering.py:46: RuntimeWarning: divide by zero encountered in divide\n",
      "  diff = (arr1-arr2)/scaling\n",
      "c:\\Users\\olebfa\\AppData\\Local\\anaconda3\\lib\\site-packages\\koma\\clustering.py:46: RuntimeWarning: invalid value encountered in divide\n",
      "  diff = (arr1-arr2)/scaling\n",
      "c:\\Users\\olebfa\\AppData\\Local\\anaconda3\\lib\\site-packages\\koma\\clustering.py:46: RuntimeWarning: divide by zero encountered in divide\n",
      "  diff = (arr1-arr2)/scaling\n",
      "c:\\Users\\olebfa\\AppData\\Local\\anaconda3\\lib\\site-packages\\koma\\clustering.py:46: RuntimeWarning: invalid value encountered in divide\n",
      "  diff = (arr1-arr2)/scaling\n",
      "c:\\Users\\olebfa\\AppData\\Local\\anaconda3\\lib\\site-packages\\koma\\clustering.py:46: RuntimeWarning: divide by zero encountered in divide\n",
      "  diff = (arr1-arr2)/scaling\n",
      "c:\\Users\\olebfa\\AppData\\Local\\anaconda3\\lib\\site-packages\\koma\\clustering.py:46: RuntimeWarning: invalid value encountered in divide\n",
      "  diff = (arr1-arr2)/scaling\n",
      "c:\\Users\\olebfa\\AppData\\Local\\anaconda3\\lib\\site-packages\\koma\\clustering.py:46: RuntimeWarning: divide by zero encountered in divide\n",
      "  diff = (arr1-arr2)/scaling\n",
      "c:\\Users\\olebfa\\AppData\\Local\\anaconda3\\lib\\site-packages\\koma\\clustering.py:46: RuntimeWarning: invalid value encountered in divide\n",
      "  diff = (arr1-arr2)/scaling\n",
      "c:\\Users\\olebfa\\AppData\\Local\\anaconda3\\lib\\site-packages\\koma\\clustering.py:46: RuntimeWarning: divide by zero encountered in divide\n",
      "  diff = (arr1-arr2)/scaling\n",
      "c:\\Users\\olebfa\\AppData\\Local\\anaconda3\\lib\\site-packages\\koma\\clustering.py:46: RuntimeWarning: invalid value encountered in divide\n",
      "  diff = (arr1-arr2)/scaling\n",
      "c:\\Users\\olebfa\\AppData\\Local\\anaconda3\\lib\\site-packages\\koma\\clustering.py:46: RuntimeWarning: divide by zero encountered in divide\n",
      "  diff = (arr1-arr2)/scaling\n",
      "c:\\Users\\olebfa\\AppData\\Local\\anaconda3\\lib\\site-packages\\koma\\clustering.py:46: RuntimeWarning: invalid value encountered in divide\n",
      "  diff = (arr1-arr2)/scaling\n",
      "c:\\Users\\olebfa\\AppData\\Local\\anaconda3\\lib\\site-packages\\koma\\clustering.py:46: RuntimeWarning: divide by zero encountered in divide\n",
      "  diff = (arr1-arr2)/scaling\n",
      "c:\\Users\\olebfa\\AppData\\Local\\anaconda3\\lib\\site-packages\\koma\\clustering.py:46: RuntimeWarning: invalid value encountered in divide\n",
      "  diff = (arr1-arr2)/scaling\n",
      "c:\\Users\\olebfa\\AppData\\Local\\anaconda3\\lib\\site-packages\\koma\\clustering.py:46: RuntimeWarning: divide by zero encountered in divide\n",
      "  diff = (arr1-arr2)/scaling\n",
      "c:\\Users\\olebfa\\AppData\\Local\\anaconda3\\lib\\site-packages\\koma\\clustering.py:46: RuntimeWarning: invalid value encountered in divide\n",
      "  diff = (arr1-arr2)/scaling\n",
      "c:\\Users\\olebfa\\AppData\\Local\\anaconda3\\lib\\site-packages\\koma\\clustering.py:46: RuntimeWarning: divide by zero encountered in divide\n",
      "  diff = (arr1-arr2)/scaling\n",
      "c:\\Users\\olebfa\\AppData\\Local\\anaconda3\\lib\\site-packages\\koma\\clustering.py:46: RuntimeWarning: invalid value encountered in divide\n",
      "  diff = (arr1-arr2)/scaling\n",
      "c:\\Users\\olebfa\\AppData\\Local\\anaconda3\\lib\\site-packages\\koma\\clustering.py:46: RuntimeWarning: divide by zero encountered in divide\n",
      "  diff = (arr1-arr2)/scaling\n",
      "c:\\Users\\olebfa\\AppData\\Local\\anaconda3\\lib\\site-packages\\koma\\clustering.py:46: RuntimeWarning: invalid value encountered in divide\n",
      "  diff = (arr1-arr2)/scaling\n",
      "c:\\Users\\olebfa\\AppData\\Local\\anaconda3\\lib\\site-packages\\koma\\clustering.py:46: RuntimeWarning: divide by zero encountered in divide\n",
      "  diff = (arr1-arr2)/scaling\n",
      "c:\\Users\\olebfa\\AppData\\Local\\anaconda3\\lib\\site-packages\\koma\\clustering.py:46: RuntimeWarning: invalid value encountered in divide\n",
      "  diff = (arr1-arr2)/scaling\n",
      "c:\\Users\\olebfa\\AppData\\Local\\anaconda3\\lib\\site-packages\\koma\\clustering.py:46: RuntimeWarning: divide by zero encountered in divide\n",
      "  diff = (arr1-arr2)/scaling\n",
      "c:\\Users\\olebfa\\AppData\\Local\\anaconda3\\lib\\site-packages\\koma\\clustering.py:46: RuntimeWarning: invalid value encountered in divide\n",
      "  diff = (arr1-arr2)/scaling\n",
      "c:\\Users\\olebfa\\AppData\\Local\\anaconda3\\lib\\site-packages\\koma\\clustering.py:46: RuntimeWarning: divide by zero encountered in divide\n",
      "  diff = (arr1-arr2)/scaling\n",
      "c:\\Users\\olebfa\\AppData\\Local\\anaconda3\\lib\\site-packages\\koma\\clustering.py:46: RuntimeWarning: invalid value encountered in divide\n",
      "  diff = (arr1-arr2)/scaling\n",
      "c:\\Users\\olebfa\\AppData\\Local\\anaconda3\\lib\\site-packages\\koma\\clustering.py:46: RuntimeWarning: divide by zero encountered in divide\n",
      "  diff = (arr1-arr2)/scaling\n",
      "c:\\Users\\olebfa\\AppData\\Local\\anaconda3\\lib\\site-packages\\koma\\clustering.py:46: RuntimeWarning: invalid value encountered in divide\n",
      "  diff = (arr1-arr2)/scaling\n",
      "c:\\Users\\olebfa\\AppData\\Local\\anaconda3\\lib\\site-packages\\koma\\clustering.py:46: RuntimeWarning: divide by zero encountered in divide\n",
      "  diff = (arr1-arr2)/scaling\n",
      "c:\\Users\\olebfa\\AppData\\Local\\anaconda3\\lib\\site-packages\\koma\\clustering.py:46: RuntimeWarning: invalid value encountered in divide\n",
      "  diff = (arr1-arr2)/scaling\n",
      "c:\\Users\\olebfa\\AppData\\Local\\anaconda3\\lib\\site-packages\\koma\\clustering.py:46: RuntimeWarning: divide by zero encountered in divide\n",
      "  diff = (arr1-arr2)/scaling\n",
      "c:\\Users\\olebfa\\AppData\\Local\\anaconda3\\lib\\site-packages\\koma\\clustering.py:46: RuntimeWarning: invalid value encountered in divide\n",
      "  diff = (arr1-arr2)/scaling\n",
      "c:\\Users\\olebfa\\AppData\\Local\\anaconda3\\lib\\site-packages\\koma\\clustering.py:46: RuntimeWarning: divide by zero encountered in divide\n",
      "  diff = (arr1-arr2)/scaling\n",
      "c:\\Users\\olebfa\\AppData\\Local\\anaconda3\\lib\\site-packages\\koma\\clustering.py:46: RuntimeWarning: invalid value encountered in divide\n",
      "  diff = (arr1-arr2)/scaling\n",
      "c:\\Users\\olebfa\\AppData\\Local\\anaconda3\\lib\\site-packages\\koma\\clustering.py:46: RuntimeWarning: divide by zero encountered in divide\n",
      "  diff = (arr1-arr2)/scaling\n",
      "c:\\Users\\olebfa\\AppData\\Local\\anaconda3\\lib\\site-packages\\koma\\clustering.py:46: RuntimeWarning: invalid value encountered in divide\n",
      "  diff = (arr1-arr2)/scaling\n",
      "c:\\Users\\olebfa\\AppData\\Local\\anaconda3\\lib\\site-packages\\koma\\clustering.py:46: RuntimeWarning: divide by zero encountered in divide\n",
      "  diff = (arr1-arr2)/scaling\n",
      "c:\\Users\\olebfa\\AppData\\Local\\anaconda3\\lib\\site-packages\\koma\\clustering.py:46: RuntimeWarning: invalid value encountered in divide\n",
      "  diff = (arr1-arr2)/scaling\n",
      "c:\\Users\\olebfa\\AppData\\Local\\anaconda3\\lib\\site-packages\\koma\\clustering.py:46: RuntimeWarning: divide by zero encountered in divide\n",
      "  diff = (arr1-arr2)/scaling\n",
      "c:\\Users\\olebfa\\AppData\\Local\\anaconda3\\lib\\site-packages\\koma\\clustering.py:46: RuntimeWarning: invalid value encountered in divide\n",
      "  diff = (arr1-arr2)/scaling\n",
      "c:\\Users\\olebfa\\AppData\\Local\\anaconda3\\lib\\site-packages\\koma\\clustering.py:46: RuntimeWarning: divide by zero encountered in divide\n",
      "  diff = (arr1-arr2)/scaling\n",
      "c:\\Users\\olebfa\\AppData\\Local\\anaconda3\\lib\\site-packages\\koma\\clustering.py:46: RuntimeWarning: invalid value encountered in divide\n",
      "  diff = (arr1-arr2)/scaling\n",
      "c:\\Users\\olebfa\\AppData\\Local\\anaconda3\\lib\\site-packages\\koma\\clustering.py:46: RuntimeWarning: divide by zero encountered in divide\n",
      "  diff = (arr1-arr2)/scaling\n",
      "c:\\Users\\olebfa\\AppData\\Local\\anaconda3\\lib\\site-packages\\koma\\clustering.py:46: RuntimeWarning: invalid value encountered in divide\n",
      "  diff = (arr1-arr2)/scaling\n",
      "c:\\Users\\olebfa\\AppData\\Local\\anaconda3\\lib\\site-packages\\koma\\clustering.py:46: RuntimeWarning: divide by zero encountered in divide\n",
      "  diff = (arr1-arr2)/scaling\n",
      "c:\\Users\\olebfa\\AppData\\Local\\anaconda3\\lib\\site-packages\\koma\\clustering.py:46: RuntimeWarning: invalid value encountered in divide\n",
      "  diff = (arr1-arr2)/scaling\n",
      "c:\\Users\\olebfa\\AppData\\Local\\anaconda3\\lib\\site-packages\\koma\\clustering.py:46: RuntimeWarning: divide by zero encountered in divide\n",
      "  diff = (arr1-arr2)/scaling\n",
      "c:\\Users\\olebfa\\AppData\\Local\\anaconda3\\lib\\site-packages\\koma\\clustering.py:46: RuntimeWarning: invalid value encountered in divide\n",
      "  diff = (arr1-arr2)/scaling\n",
      "c:\\Users\\olebfa\\AppData\\Local\\anaconda3\\lib\\site-packages\\koma\\clustering.py:46: RuntimeWarning: divide by zero encountered in divide\n",
      "  diff = (arr1-arr2)/scaling\n",
      "c:\\Users\\olebfa\\AppData\\Local\\anaconda3\\lib\\site-packages\\koma\\clustering.py:46: RuntimeWarning: invalid value encountered in divide\n",
      "  diff = (arr1-arr2)/scaling\n",
      "c:\\Users\\olebfa\\AppData\\Local\\anaconda3\\lib\\site-packages\\koma\\clustering.py:46: RuntimeWarning: divide by zero encountered in divide\n",
      "  diff = (arr1-arr2)/scaling\n",
      "c:\\Users\\olebfa\\AppData\\Local\\anaconda3\\lib\\site-packages\\koma\\clustering.py:46: RuntimeWarning: invalid value encountered in divide\n",
      "  diff = (arr1-arr2)/scaling\n",
      "c:\\Users\\olebfa\\AppData\\Local\\anaconda3\\lib\\site-packages\\koma\\clustering.py:46: RuntimeWarning: divide by zero encountered in divide\n",
      "  diff = (arr1-arr2)/scaling\n",
      "c:\\Users\\olebfa\\AppData\\Local\\anaconda3\\lib\\site-packages\\koma\\clustering.py:46: RuntimeWarning: invalid value encountered in divide\n",
      "  diff = (arr1-arr2)/scaling\n",
      "c:\\Users\\olebfa\\AppData\\Local\\anaconda3\\lib\\site-packages\\koma\\clustering.py:46: RuntimeWarning: divide by zero encountered in divide\n",
      "  diff = (arr1-arr2)/scaling\n",
      "c:\\Users\\olebfa\\AppData\\Local\\anaconda3\\lib\\site-packages\\koma\\clustering.py:46: RuntimeWarning: invalid value encountered in divide\n",
      "  diff = (arr1-arr2)/scaling\n",
      "c:\\Users\\olebfa\\AppData\\Local\\anaconda3\\lib\\site-packages\\koma\\clustering.py:46: RuntimeWarning: divide by zero encountered in divide\n",
      "  diff = (arr1-arr2)/scaling\n",
      "c:\\Users\\olebfa\\AppData\\Local\\anaconda3\\lib\\site-packages\\koma\\clustering.py:46: RuntimeWarning: invalid value encountered in divide\n",
      "  diff = (arr1-arr2)/scaling\n",
      "c:\\Users\\olebfa\\AppData\\Local\\anaconda3\\lib\\site-packages\\koma\\clustering.py:46: RuntimeWarning: divide by zero encountered in divide\n",
      "  diff = (arr1-arr2)/scaling\n",
      "c:\\Users\\olebfa\\AppData\\Local\\anaconda3\\lib\\site-packages\\koma\\clustering.py:46: RuntimeWarning: invalid value encountered in divide\n",
      "  diff = (arr1-arr2)/scaling\n",
      "c:\\Users\\olebfa\\AppData\\Local\\anaconda3\\lib\\site-packages\\koma\\clustering.py:46: RuntimeWarning: divide by zero encountered in divide\n",
      "  diff = (arr1-arr2)/scaling\n",
      "c:\\Users\\olebfa\\AppData\\Local\\anaconda3\\lib\\site-packages\\koma\\clustering.py:46: RuntimeWarning: invalid value encountered in divide\n",
      "  diff = (arr1-arr2)/scaling\n",
      "c:\\Users\\olebfa\\AppData\\Local\\anaconda3\\lib\\site-packages\\koma\\clustering.py:46: RuntimeWarning: divide by zero encountered in divide\n",
      "  diff = (arr1-arr2)/scaling\n",
      "c:\\Users\\olebfa\\AppData\\Local\\anaconda3\\lib\\site-packages\\koma\\clustering.py:46: RuntimeWarning: invalid value encountered in divide\n",
      "  diff = (arr1-arr2)/scaling\n",
      "c:\\Users\\olebfa\\AppData\\Local\\anaconda3\\lib\\site-packages\\koma\\clustering.py:46: RuntimeWarning: divide by zero encountered in divide\n",
      "  diff = (arr1-arr2)/scaling\n",
      "c:\\Users\\olebfa\\AppData\\Local\\anaconda3\\lib\\site-packages\\koma\\clustering.py:46: RuntimeWarning: invalid value encountered in divide\n",
      "  diff = (arr1-arr2)/scaling\n"
     ]
    }
   ],
   "source": [
    "\n",
    "for name in os.listdir('../../../5hz_covssi_interpolated/'):\n",
    "    if name not in os.listdir('../../../5hz_clustered_int/'):\n",
    "        ts=import_converted_ts('../../../5hz_covssi_interpolated/',name)\n",
    "        ts.find_stable_poles(\n",
    "            s,stabcrit,valid_range,indicator)\n",
    "        ts.cluster(prob_threshold,min_cluster_size,min_samples,scaling)\n",
    "        ts.create_confidence_intervals()\n",
    "        ts.save('../../../5hz_clustered_int/')\n",
    "    # if name=='HB141M-2013-12-17_13-57-26.pkl':\n",
    "    #     break"
   ]
  },
  {
   "attachments": {},
   "cell_type": "markdown",
   "metadata": {},
   "source": [
    "### Checking clustering results\n"
   ]
  },
  {
   "cell_type": "code",
   "execution_count": 8,
   "metadata": {},
   "outputs": [
    {
     "data": {
      "text/plain": [
       "<Figure size 1500x800 with 2 Axes>"
      ]
     },
     "execution_count": 8,
     "metadata": {},
     "output_type": "execute_result"
    }
   ],
   "source": [
    "i=-100\n",
    "files= os.listdir('../../../5hz_clustered_int/')\n",
    "name=files[i]\n",
    "ts=import_converted_ts('../../../5hz_clustered_int/',name)\n",
    "\n",
    "PlotStabDiagFromTsObject(ts,xmax=0.5,display=True,color='mac')"
   ]
  },
  {
   "cell_type": "code",
   "execution_count": 52,
   "metadata": {},
   "outputs": [
    {
     "name": "stdout",
     "output_type": "stream",
     "text": [
      "[0.15324284104492197, 0.32299636156144496, 0.6672996073478495, 0.7698677821258507, 0.8911594847237141, 1.1498702756489998, 1.2890086948213975, 1.330841364418219, 1.5183371829968366, 1.72808588596892, 2.0178355241520523, 2.081759085316387, 2.32523478893294, 2.513517089215496, 2.550971032332134, 2.6130942454161445, 2.955546882987902, 3.2191146680428733, 3.3104921265596308, 3.4340257991529333, 3.4620616288529953, 3.6627045438513504, 3.7545305841843475, 3.9170991435943012, 4.472809624570169, 5.651385764065464, 6.27684632551511, 6.626851067588125, 6.953812610291225, 7.660928638995962, 8.378111085667378, 9.163635325860497, 9.925601475709048, 10.772966126277733, 11.51812163097173]\n"
     ]
    }
   ],
   "source": [
    "n_clusters=np.array([])\n",
    "for name in files:\n",
    "    ts=import_converted_ts('../../../5hz_clustered_2_first100/',name)\n",
    "\n",
    "    n_clusters=np.append(n_clusters,len(np.where(np.abs(ts.lambds_median)<0.5*2*np.pi)[0]))\n",
    "print(ts.lambds_median)\n",
    "matplotlib.use('tkagg')\n",
    "figure,ax=plt.subplots() \n",
    "ax.plot(range(len(n_clusters)),n_clusters)\n",
    "ax.grid()\n",
    "ax.axhline(13)\n",
    "for i,point in enumerate(n_clusters):\n",
    "    ax.annotate(str(point),(i,point),textcoords=('offset pixels'),xytext=(3,-3))\n",
    "figure.show()"
   ]
  },
  {
   "attachments": {},
   "cell_type": "markdown",
   "metadata": {},
   "source": [
    "## Plotting segments"
   ]
  },
  {
   "cell_type": "code",
   "execution_count": 1,
   "metadata": {},
   "outputs": [
    {
     "ename": "NameError",
     "evalue": "name 'PlotSegmentsFromFolder' is not defined",
     "output_type": "error",
     "traceback": [
      "\u001b[1;31m---------------------------------------------------------------------------\u001b[0m",
      "\u001b[1;31mNameError\u001b[0m                                 Traceback (most recent call last)",
      "Cell \u001b[1;32mIn[1], line 1\u001b[0m\n\u001b[1;32m----> 1\u001b[0m PlotSegmentsFromFolder(\u001b[39m'\u001b[39m\u001b[39m../../../5hz_clustered_2_first100/\u001b[39m\u001b[39m'\u001b[39m,bs\u001b[39m=\u001b[39m\u001b[39mFalse\u001b[39;00m)\n",
      "\u001b[1;31mNameError\u001b[0m: name 'PlotSegmentsFromFolder' is not defined"
     ]
    }
   ],
   "source": [
    "PlotSegmentsFromFolder('../../../5hz_clustered_2_first100/',bs=False)"
   ]
  },
  {
   "cell_type": "code",
   "execution_count": 7,
   "metadata": {},
   "outputs": [],
   "source": [
    "for name in os.listdir('D:/data_disk/5hz_clustered_2/'):\n",
    "    ts=import_converted_ts('D:/data_disk/5hz_clustered_2/',name)\n",
    "    ts.create_confidence_intervals()\n",
    "    ts.save('D:/data_disk/5hz_clustered_2/') \n"
   ]
  },
  {
   "cell_type": "code",
   "execution_count": 7,
   "metadata": {},
   "outputs": [
    {
     "ename": "KeyboardInterrupt",
     "evalue": "",
     "output_type": "error",
     "traceback": [
      "\u001b[1;31m---------------------------------------------------------------------------\u001b[0m",
      "\u001b[1;31mKeyboardInterrupt\u001b[0m                         Traceback (most recent call last)",
      "\u001b[1;32mc:\\Users\\olebj\\OneDrive - NTNU\\00Master - Onedrive\\OB ymse\\modal-tracking-thesis-spring-2023\\Preprosessing\\cov_ssi_frames.ipynb Cell 14\u001b[0m in \u001b[0;36m<cell line: 4>\u001b[1;34m()\u001b[0m\n\u001b[0;32m      <a href='vscode-notebook-cell:/c%3A/Users/olebj/OneDrive%20-%20NTNU/00Master%20-%20Onedrive/OB%20ymse/modal-tracking-thesis-spring-2023/Preprosessing/cov_ssi_frames.ipynb#X16sZmlsZQ%3D%3D?line=2'>3</a>\u001b[0m names\u001b[39m.\u001b[39msort()\n\u001b[0;32m      <a href='vscode-notebook-cell:/c%3A/Users/olebj/OneDrive%20-%20NTNU/00Master%20-%20Onedrive/OB%20ymse/modal-tracking-thesis-spring-2023/Preprosessing/cov_ssi_frames.ipynb#X16sZmlsZQ%3D%3D?line=3'>4</a>\u001b[0m \u001b[39mfor\u001b[39;00m name \u001b[39min\u001b[39;00m names[::\u001b[39m10\u001b[39m]:\n\u001b[1;32m----> <a href='vscode-notebook-cell:/c%3A/Users/olebj/OneDrive%20-%20NTNU/00Master%20-%20Onedrive/OB%20ymse/modal-tracking-thesis-spring-2023/Preprosessing/cov_ssi_frames.ipynb#X16sZmlsZQ%3D%3D?line=4'>5</a>\u001b[0m     ts\u001b[39m=\u001b[39mimport_converted_ts(\u001b[39m'\u001b[39;49m\u001b[39m../../5hz_clustered_2/\u001b[39;49m\u001b[39m'\u001b[39;49m,name)\n\u001b[0;32m      <a href='vscode-notebook-cell:/c%3A/Users/olebj/OneDrive%20-%20NTNU/00Master%20-%20Onedrive/OB%20ymse/modal-tracking-thesis-spring-2023/Preprosessing/cov_ssi_frames.ipynb#X16sZmlsZQ%3D%3D?line=5'>6</a>\u001b[0m     segments\u001b[39m.\u001b[39mappend(ts)\n",
      "File \u001b[1;32mc:\\Users\\olebj\\OneDrive - NTNU\\00Master - Onedrive\\OB ymse\\modal-tracking-thesis-spring-2023\\Preprosessing\\../src\\preposessing.py:143\u001b[0m, in \u001b[0;36mimport_converted_ts\u001b[1;34m(path, name)\u001b[0m\n\u001b[0;32m    141\u001b[0m     tot_path\u001b[39m=\u001b[39mpath\u001b[39m+\u001b[39mname\n\u001b[0;32m    142\u001b[0m \u001b[39melse\u001b[39;00m: tot_path\u001b[39m=\u001b[39mpath\u001b[39m+\u001b[39mname\u001b[39m+\u001b[39m\u001b[39m'\u001b[39m\u001b[39m.pkl\u001b[39m\u001b[39m'\u001b[39m\n\u001b[1;32m--> 143\u001b[0m \u001b[39mwith\u001b[39;00m \u001b[39mopen\u001b[39m(tot_path, \u001b[39m\"\u001b[39m\u001b[39mrb\u001b[39m\u001b[39m\"\u001b[39m) \u001b[39mas\u001b[39;00m file:\n\u001b[0;32m    144\u001b[0m     \u001b[39mreturn\u001b[39;00m pickle\u001b[39m.\u001b[39mload(file)\n",
      "\u001b[1;31mKeyboardInterrupt\u001b[0m: "
     ]
    }
   ],
   "source": [
    "segments=[]\n",
    "names=os.listdir('../../5hz_clustered_2/')\n",
    "names.sort()\n",
    "for name in names[::10]:\n",
    "    ts=import_converted_ts('../../5hz_clustered_2/',name)\n",
    "    segments.append(ts)\n",
    "\n"
   ]
  },
  {
   "attachments": {},
   "cell_type": "markdown",
   "metadata": {},
   "source": [
    "## Importing the temperature data: "
   ]
  },
  {
   "cell_type": "code",
   "execution_count": 4,
   "metadata": {},
   "outputs": [
    {
     "data": {
      "text/plain": [
       "20.1"
      ]
     },
     "execution_count": 4,
     "metadata": {},
     "output_type": "execute_result"
    }
   ],
   "source": [
    "# print(dir(ts))\n",
    "\n",
    "path='../../../data/Temperaturdata 2 stasjoner.csv'\n",
    "data=pd.read_csv(path,sep=';')\n",
    "# data['Lufttemperatur']=data['Lufttemperatur'].astype(float)\n",
    "\n",
    "data['Tid(norsk normaltid)']=pd.to_datetime(data['Tid(norsk normaltid)'],format='%d.%m.%Y %H:%M')\n",
    "data.set_index(['Tid(norsk normaltid)'],inplace=True)\n",
    "# data[\n",
    "    # 'Tid(norsk normaltid)'].astype('datetime64[ns]')\n",
    "data.head()\n",
    "ullensvang=data[data['Navn']=='Ullensvang Forsøksgard']\n",
    "\n",
    "\n",
    "\n",
    "def TempFromTs(df,ts): \n",
    "    name=ts.series_metadata['file_name']\n",
    "    date=name[7:20] #YYYY-MM-DD_hh\n",
    "    # print(date)\n",
    "    date_obj=pd.to_datetime(date,format='%Y-%m-%d_%H')\n",
    "    # print(date_obj)\n",
    "    idx = df.iloc[df.index.get_indexer((date_obj,), method='nearest')]\n",
    "    return idx['Lufttemperatur'][0]\n",
    "    # print(df.get(idx))\n",
    "\n",
    "TempFromTs(ullensvang,ts)"
   ]
  },
  {
   "cell_type": "code",
   "execution_count": 5,
   "metadata": {},
   "outputs": [],
   "source": [
    "def getTempsFromFilenames(segments):\n",
    "    segment_temps=np.array([])\n",
    "    for segment in segments:\n",
    "        temp= TempFromTs(ullensvang,segment)\n",
    "        segment_temps=np.append(segment_temps,temp) \n",
    "    return segment_temps\n",
    "segment_temps=getTempsFromFilenames(segments)"
   ]
  },
  {
   "attachments": {},
   "cell_type": "markdown",
   "metadata": {},
   "source": [
    "## Plotting temperature for the segments "
   ]
  },
  {
   "cell_type": "code",
   "execution_count": 6,
   "metadata": {},
   "outputs": [
    {
     "data": {
      "image/png": "[encoded data removed]",
      "text/plain": [
       "<Figure size 1500x600 with 1 Axes>"
      ]
     },
     "metadata": {},
     "output_type": "display_data"
    }
   ],
   "source": [
    "# matplotlib.use('module://matplotlib_inline.backend_inline') #setting backend in case cells are not run in appropriate order\n",
    "plt.figure(figsize=(15,6))\n",
    "plt.plot(range(len(segment_temps)),segment_temps)  \n",
    "plt.show()"
   ]
  },
  {
   "cell_type": "code",
   "execution_count": 79,
   "metadata": {},
   "outputs": [
    {
     "name": "stdout",
     "output_type": "stream",
     "text": [
      "[1 2 3]\n",
      "['PHI_median', '__class__', '__delattr__', '__dict__', '__dir__', '__doc__', '__eq__', '__format__', '__ge__', '__getattribute__', '__gt__', '__hash__', '__init__', '__init_subclass__', '__le__', '__lt__', '__module__', '__ne__', '__new__', '__reduce__', '__reduce_ex__', '__repr__', '__setattr__', '__sizeof__', '__str__', '__subclasshook__', '__weakref__', 'bs_lambds', 'bs_lambds_confidence', 'bs_phi', 'bs_phi_confidence', 'cluster', 'create_confidence_intervals', 'do_covssi', 'do_covssi_strid', 'find_stable_poles', 'get_from_general_metadata', 'ix_stab', 'lambd', 'lambd_stab', 'lambds_median', 'lambds_n_auto', 'order_auto', 'orders', 'orders_stab', 'phi', 'phi_auto', 'phi_stab', 'save', 'sensor_metadata', 'series_metadata', 'set_atr', 'set_general_metadata', 'stabdiag', 'xi_auto']\n"
     ]
    }
   ],
   "source": [
    "arr=np.array([1,2,3,4,5,6,7,8])\n",
    "ix=(np.where(arr<4)[0])\n",
    "print(arr[ix])\n",
    "print(dir(ts))"
   ]
  },
  {
   "attachments": {},
   "cell_type": "markdown",
   "metadata": {},
   "source": [
    "## Plotting the segments"
   ]
  },
  {
   "cell_type": "code",
   "execution_count": 85,
   "metadata": {},
   "outputs": [],
   "source": [
    "PlotPolesFromSegments(segments)"
   ]
  },
  {
   "attachments": {},
   "cell_type": "markdown",
   "metadata": {},
   "source": [
    "# Temperaturgreier: "
   ]
  },
  {
   "cell_type": "code",
   "execution_count": 25,
   "metadata": {},
   "outputs": [],
   "source": [
    "\n",
    "temps={}\n",
    "temp_sonsors=['A1_temperature','A2_temperature','A3_temperature','A4_temperature',\n",
    "              'A5_temperature','A6,temperature','A7_temperature',\n",
    "              'A8_temperature','A9_temparature']\n",
    "for file in os.listdir('D:/data_disk/5hz_clustered_1/'):\n",
    "    if os.path.isfile('D:/data_disk/5hz_clustered_1/'+file):\n",
    "            \n",
    "        ts=import_converted_ts('D:/data_disk/resampl/',file)\n",
    "        temp=np.mean(ts['A6_temperature'])\n",
    "        temps.append(temp)\n",
    "        # if file[:-4]+'png' not in os.listdir(\n",
    "            # 'D:/data_disk/5hz_clustered/stabdiags/'):\n",
    "        info={'Date:':file[7:19]}\n",
    "        # first_freqs.append(ts.lambds_median[0])\n",
    "\n",
    "        # fig=PlotStabDiagFromTsObject(\n",
    "        #     ts,display=False,true_w=prev_discovered_modes,\n",
    "        #     xmax=0.45,info=info,figsize=(15,7))\n",
    "        # # print(file)\n",
    "        # plt.savefig(\n",
    "        #     'D:/data_disk/5hz_clustered_1/stabdiags/'+file[:-4]+'png',dpi=300)\n",
    "        # plt.close()"
   ]
  },
  {
   "cell_type": "code",
   "execution_count": 2,
   "metadata": {},
   "outputs": [],
   "source": [
    "temp_sensors=['date','A1_temperature','A2_temperature','A3_temperature','A4_temperature',\n",
    "              'A5_temperature','A6_temperature','A7_temperature',\n",
    "              'A8_temperature','A9_temperature']\n",
    "\n",
    "# df_temp=dataframe.filter(temp_sensors).copy()\n",
    "# df_temp=df_temp.mean(axis=0)\n",
    "# print(df_temp.head())\n",
    "# df_temp.info()\n",
    "\n",
    "# temp_sensors.insert(0,'dato')\n",
    "# # print(columns)\n",
    "\n",
    "\n",
    "# print(DF_temperature.head())\n",
    "# DF_temperature.append(df_temp,ignore_index=True)\n",
    "\n",
    "\n",
    "\n",
    "DF_temperature=pd.DataFrame(columns=temp_sensors)\n",
    "temp_sonsors=['A1_temperature','A2_temperature','A3_temperature','A4_temperature',\n",
    "              'A5_temperature','A6,temperature','A7_temperature',\n",
    "              'A8_temperature','A9_temparature']\n",
    "\n",
    "for file in os.listdir('D:/data_disk/resampl/'):\n",
    "    if os.path.isfile('D:/data_disk/resampl/'+file):\n",
    "\n",
    "        dataframe=import_converted_ts('D:/data_disk/resampl/',file)\n",
    "\n",
    "        df_temp=dataframe.filter(temp_sensors).copy()\n",
    "        df_temp=df_temp.mean(axis=0).to_frame().transpose()\n",
    "        df_temp['date']=file[7:-4]\n",
    "        # print(df_temp.head())\n",
    "\n",
    "        # df_temp['date']=file[7:]\n",
    "        DF_temperature=pd.concat(\n",
    "            [df_temp,DF_temperature],axis=0)\n",
    "        # DF_temperature.append(df_temp,ignore_index=True)\n",
    "        # if file[:-4]+'png' not in os.listdir(\n",
    "            # 'D:/data_disk/5hz_clustered/stabdiags/'):\n",
    "\n",
    "\n",
    "pd.to_datetime(DF_temperature['date'],format='%Y-%m-%d_%H-%M-%S')\n",
    "DF_temperature.set_index(['date'],inplace=True)\n",
    "DF_temperature.sort_index(inplace=True)      \n"
   ]
  },
  {
   "cell_type": "code",
   "execution_count": 3,
   "metadata": {},
   "outputs": [
    {
     "name": "stdout",
     "output_type": "stream",
     "text": [
      "<class 'pandas.core.frame.DataFrame'>\n",
      "Index: 2436 entries, 2013-12-05_01-27-08 to 2017-10-28_03-27-33\n",
      "Data columns (total 9 columns):\n",
      " #   Column          Non-Null Count  Dtype  \n",
      "---  ------          --------------  -----  \n",
      " 0   A1_temperature  2268 non-null   float64\n",
      " 1   A2_temperature  2436 non-null   float64\n",
      " 2   A3_temperature  1787 non-null   float64\n",
      " 3   A4_temperature  2352 non-null   float64\n",
      " 4   A5_temperature  1775 non-null   float64\n",
      " 5   A6_temperature  2436 non-null   float64\n",
      " 6   A7_temperature  2436 non-null   float64\n",
      " 7   A8_temperature  2352 non-null   float64\n",
      " 8   A9_temperature  2436 non-null   float64\n",
      "dtypes: float64(9)\n",
      "memory usage: 190.3+ KB\n"
     ]
    }
   ],
   "source": [
    "DF_temperature.sort_index(inplace=True)      \n",
    "\n",
    "DF_temperature.info()"
   ]
  },
  {
   "cell_type": "code",
   "execution_count": 4,
   "metadata": {},
   "outputs": [],
   "source": [
    "matplotlib.use('tkagg')\n",
    "figure=DF_temperature.plot(y=['A1_temperature','A2_temperature','A3_temperature',\n",
    "                       'A4_temperature','A5_temperature','A6_temperature',\n",
    "                       'A7_temperature','A8_temperature','A9_temperature']\n",
    "                       ,figsize=(50,20),linewidth=0.2)\n",
    "plt.show()"
   ]
  },
  {
   "cell_type": "code",
   "execution_count": 27,
   "metadata": {},
   "outputs": [],
   "source": [
    "first_freqs=[]\n",
    "\n",
    "for file in os.listdir('D:/data_disk/5hz_clustered_1/'):\n",
    "    if os.path.isfile('D:/data_disk/5hz_clustered_1/'+file):\n",
    "            \n",
    "        ts=import_converted_ts('D:/data_disk/5hz_clustered_1/',file)\n",
    "        # if file[:-4]+'png' not in os.listdir(\n",
    "            # 'D:/data_disk/5hz_clustered/stabdiags/'):\n",
    "        info={'Date:':file[7:19]}\n",
    "        first_freqs.append(ts.lambds_median[0])\n",
    "\n",
    "        # fig=PlotStabDiagFromTsObject(\n",
    "        #     ts,display=False,true_w=prev_discovered_modes,\n",
    "        #     xmax=0.45,info=info,figsize=(15,7))\n",
    "        # # print(file)\n",
    "        # plt.savefig(\n",
    "        #     'D:/data_disk/5hz_clustered_1/stabdiags/'+file[:-4]+'png',dpi=300)\n",
    "        # plt.close()"
   ]
  },
  {
   "cell_type": "code",
   "execution_count": 41,
   "metadata": {},
   "outputs": [
    {
     "data": {
      "text/plain": [
       "<Figure size 1500x800 with 2 Axes>"
      ]
     },
     "execution_count": 41,
     "metadata": {},
     "output_type": "execute_result"
    }
   ],
   "source": [
    "l=ts.lambd\n",
    "# print(l)\n",
    "# plot_stab_from_KOMA(lambd=l,true_w=prev_discovered_modes)\n",
    "PlotStabDiagFromTsObject(ts,display=True,true_w=prev_discovered_modes,xmax=0.5,color='mac')"
   ]
  },
  {
   "cell_type": "code",
   "execution_count": 29,
   "metadata": {},
   "outputs": [
    {
     "data": {
      "image/png": "[encoded data removed]",
      "text/plain": [
       "<Figure size 640x480 with 1 Axes>"
      ]
     },
     "metadata": {},
     "output_type": "display_data"
    },
    {
     "data": {
      "text/plain": [
       "[<matplotlib.lines.Line2D at 0x28c9697f430>]"
      ]
     },
     "execution_count": 29,
     "metadata": {},
     "output_type": "execute_result"
    },
    {
     "data": {
      "image/png": "[encoded data removed]",
      "text/plain": [
       "<Figure size 640x480 with 1 Axes>"
      ]
     },
     "metadata": {},
     "output_type": "display_data"
    }
   ],
   "source": [
    "plt.plot(range(len(first_freqs)),first_freqs)\n",
    "plt.ylim(0.31,0.36)\n",
    "plt.show()\n",
    "plt.plot(range(len(temps)),temps)"
   ]
  }
 ],
 "metadata": {
  "kernelspec": {
   "display_name": "base",
   "language": "python",
   "name": "python3"
  },
  "language_info": {
   "codemirror_mode": {
    "name": "ipython",
    "version": 3
   },
   "file_extension": ".py",
   "mimetype": "text/x-python",
   "name": "python",
   "nbconvert_exporter": "python",
   "pygments_lexer": "ipython3",
   "version": "3.9.12"
  },
  "orig_nbformat": 4
 },
 "nbformat": 4,
 "nbformat_minor": 2
}
