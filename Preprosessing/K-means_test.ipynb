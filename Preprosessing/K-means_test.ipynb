{
 "cells": [
  {
   "cell_type": "code",
   "execution_count": 1,
   "metadata": {},
   "outputs": [],
   "source": [
    "import pandas as pd \n",
    "import numpy as np \n",
    "import matplotlib.pyplot as plt \n",
    "import os \n",
    "import sys \n",
    "path='../src/'\n",
    "if path not in sys.path: \n",
    "    sys.path.insert(1,path)\n",
    "from utils_OB import *\n",
    "from preposessing import *\n",
    "\n",
    "%load_ext autoreload\n",
    "%autoreload 2"
   ]
  },
  {
   "cell_type": "code",
   "execution_count": 2,
   "metadata": {},
   "outputs": [],
   "source": [
    "folder_path='D:/data_disk/5hz_covssi/'\n",
    "names=os.listdir(folder_path)\n",
    "names.sort()"
   ]
  },
  {
   "cell_type": "code",
   "execution_count": 3,
   "metadata": {},
   "outputs": [],
   "source": [
    "ts=import_converted_ts('D:/data_disk/5hz_covssi/',names[2])\n",
    "lambdas=ts.lambd\n",
    "phis=ts.phi"
   ]
  },
  {
   "cell_type": "code",
   "execution_count": 4,
   "metadata": {},
   "outputs": [
    {
     "name": "stdout",
     "output_type": "stream",
     "text": [
      "test\n",
      "test2\n",
      "test3\n"
     ]
    },
    {
     "data": {
      "text/plain": [
       "<Figure size 900x900 with 1 Axes>"
      ]
     },
     "execution_count": 4,
     "metadata": {},
     "output_type": "execute_result"
    }
   ],
   "source": [
    "plot_stab_from_KOMA(lambd=lambdas,xmax=0.5,display=True,true_w=True)"
   ]
  },
  {
   "cell_type": "code",
   "execution_count": 31,
   "metadata": {},
   "outputs": [
    {
     "name": "stdout",
     "output_type": "stream",
     "text": [
      "<class 'list'>\n"
     ]
    }
   ],
   "source": [
    "print(type(lambdas))\n",
    "diffs=[[] for i in range(len(lambdas))]\n",
    "\n",
    "for i,order in enumerate (lambdas[:-1]):\n",
    "    for j,lambd in enumerate (order):\n",
    "        temp=[]\n",
    "        for k,lambd_up in enumerate(lambdas[i+1]):\n",
    "            df=rel_diff(np.abs(lambd),np.abs(lambd_up))\n",
    "            mac=MAC(phis[i][:,j],phis[i+1][:,k])\n",
    "            diff = (df**2+(1-mac)**2)**0.5\n",
    "            temp.append(diff)\n",
    "        diff=np.amin(temp)\n",
    "        diffs[i].append(diff)\n",
    "        "
   ]
  },
  {
   "cell_type": "code",
   "execution_count": 5,
   "metadata": {},
   "outputs": [],
   "source": [
    "valid_range= { 'freq': [0, 62.8],'damping': [0,np.inf] }\n",
    "\n",
    "indicator='freq'\n",
    "s=5\n",
    "stabcrit = {'freq':0.9, 'damping': 0.9, 'mac': 0.9}\n",
    "prob_threshold = 0.95   #probability of pole to belong to \n",
    "# cluster, based on estimated \"probability\" density function\n",
    "\n",
    "min_cluster_size=50\n",
    "min_samples=20\n",
    "scaling={'mac':2, 'lambda_real':2, 'lambda_imag': 1}\n",
    "\n",
    "# ts.find_stable_poles(orders,s,stabcrit,valid_range,indicator)"
   ]
  },
  {
   "cell_type": "code",
   "execution_count": 6,
   "metadata": {},
   "outputs": [
    {
     "name": "stderr",
     "output_type": "stream",
     "text": [
      "c:\\Users\\olebj\\miniconda3\\lib\\site-packages\\koma\\clustering.py:46: RuntimeWarning: divide by zero encountered in divide\n",
      "  diff = (arr1-arr2)/scaling\n",
      "c:\\Users\\olebj\\miniconda3\\lib\\site-packages\\koma\\clustering.py:46: RuntimeWarning: invalid value encountered in divide\n",
      "  diff = (arr1-arr2)/scaling\n"
     ]
    }
   ],
   "source": [
    "ts.find_stable_poles(\n",
    "    s,stabcrit,valid_range,indicator)\n",
    "ts.cluster(prob_threshold,min_cluster_size,min_samples,scaling)"
   ]
  },
  {
   "cell_type": "code",
   "execution_count": 12,
   "metadata": {},
   "outputs": [
    {
     "name": "stdout",
     "output_type": "stream",
     "text": [
      "[-0.014245  +5.00199385j -0.00792448+4.44246977j -0.01633109+3.90764543j\n",
      " ... -0.00169982+0.32162032j -0.01069672+0.64839382j\n",
      " -0.02261868+0.12840503j]\n"
     ]
    }
   ],
   "source": [
    "print(ts.lambd_stab)"
   ]
  }
 ],
 "metadata": {
  "kernelspec": {
   "display_name": "Python 3",
   "language": "python",
   "name": "python3"
  },
  "language_info": {
   "codemirror_mode": {
    "name": "ipython",
    "version": 3
   },
   "file_extension": ".py",
   "mimetype": "text/x-python",
   "name": "python",
   "nbconvert_exporter": "python",
   "pygments_lexer": "ipython3",
   "version": "3.9.12"
  },
  "orig_nbformat": 4
 },
 "nbformat": 4,
 "nbformat_minor": 2
}
