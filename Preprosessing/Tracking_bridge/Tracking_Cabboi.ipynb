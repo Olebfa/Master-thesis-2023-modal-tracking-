{
 "cells": [
  {
   "cell_type": "code",
   "execution_count": 21,
   "metadata": {},
   "outputs": [
    {
     "name": "stdout",
     "output_type": "stream",
     "text": [
      "The autoreload extension is already loaded. To reload it, use:\n",
      "  %reload_ext autoreload\n"
     ]
    }
   ],
   "source": [
    "import numpy as np\n",
    "import matplotlib.pyplot as plt\n",
    "import matplotlib\n",
    "import sys\n",
    "import os\n",
    "src_path='../../src'\n",
    "if not src_path in sys.path:\n",
    "    sys.path.insert(1,src_path)\n",
    "from preposessing import *\n",
    "import matplotlib\n",
    "from utils_OB import *\n",
    "from _tracking import *\n",
    "%load_ext autoreload\n",
    "import pickle\n",
    "%autoreload 2\n",
    "from utils_JK import *\n",
    "from _postprocessing import *"
   ]
  },
  {
   "cell_type": "code",
   "execution_count": 3,
   "metadata": {},
   "outputs": [],
   "source": [
    "# folder_path='../../../5hz_clustered_int/'\n",
    "# omegas,phis,names=import_folder_for_tracking(folder_path)"
   ]
  },
  {
   "attachments": {},
   "cell_type": "markdown",
   "metadata": {},
   "source": [
    "## Tracking config"
   ]
  },
  {
   "cell_type": "code",
   "execution_count": 4,
   "metadata": {},
   "outputs": [],
   "source": [
    "# freqs=radtoHz(omegas)\n",
    "\n",
    "# traces=perform_tracking_continuous(freqs, phis, tcheck = 10, m = 5, df_max = 0.1, dmac_max = 0.1, update_ref = False, update_thresholds = False)\n",
    "\n"
   ]
  },
  {
   "cell_type": "code",
   "execution_count": 5,
   "metadata": {},
   "outputs": [],
   "source": [
    "# phys_traces_ix=np.where([i.isphysical for i in traces])[0]\n",
    "# print(type(traces))\n",
    "# phys_traces=[]\n",
    "# for ix in phys_traces_ix:\n",
    "#     phys_traces.append(traces[ix])"
   ]
  },
  {
   "attachments": {},
   "cell_type": "markdown",
   "metadata": {},
   "source": [
    "### Result inspection"
   ]
  },
  {
   "cell_type": "code",
   "execution_count": 12,
   "metadata": {},
   "outputs": [],
   "source": [
    "matplotlib.use('tkagg')\n",
    "fig=plt.figure()\n",
    "ax=plot_physical_traces(traces)\n",
    "ax.legend(handles=[])\n",
    "plt.show()\n",
    "\n"
   ]
  },
  {
   "cell_type": "code",
   "execution_count": 22,
   "metadata": {},
   "outputs": [],
   "source": [
    "folder_path='../../../../5hz_clustered_int/'\n",
    "omegas,phis,names=import_folder_for_tracking(folder_path)\n",
    "freqs=radtoHz(omegas)"
   ]
  },
  {
   "cell_type": "code",
   "execution_count": 23,
   "metadata": {},
   "outputs": [],
   "source": [
    "# traces=perform_tracking_continuous(freqs, phis, tcheck = 10,\n",
    "# m = 5, df_max = 0.1, dmac_max = 0.1, update_ref = False, update_thresholds = False)\n",
    "initial_modes=get_initial_modes(freqs[:20],phis[0:20])\n",
    "ref_mode_frequenciesHz=[]\n",
    "ref_mode_modeshapes=[]\n",
    "for trace in initial_modes:\n",
    "    ref_mode_frequenciesHz.append(trace.ref_frequency)\n",
    "    ref_mode_modeshapes.append(trace.ref_mode_shape)\n",
    "\n",
    "\n",
    "\n",
    "traces=perform_tracking()"
   ]
  },
  {
   "cell_type": "code",
   "execution_count": 24,
   "metadata": {},
   "outputs": [
    {
     "name": "stdout",
     "output_type": "stream",
     "text": [
      "Assigned  0\n",
      "    Ullensvang temp imported\n",
      "    Weather imported\n",
      "    Damping imported\n",
      "Assigned  1\n",
      "    Ullensvang temp imported\n",
      "    Weather imported\n",
      "    Damping imported\n",
      "Assigned  2\n",
      "    Ullensvang temp imported\n",
      "    Weather imported\n",
      "    Damping imported\n",
      "Assigned  3\n",
      "    Ullensvang temp imported\n",
      "    Weather imported\n",
      "    Damping imported\n",
      "Assigned  4\n",
      "    Ullensvang temp imported\n",
      "    Weather imported\n",
      "    Damping imported\n",
      "Assigned  5\n"
     ]
    },
    {
     "name": "stderr",
     "output_type": "stream",
     "text": [
      "c:\\Users\\olebfa\\AppData\\Local\\anaconda3\\lib\\site-packages\\numpy\\core\\fromnumeric.py:3432: RuntimeWarning: Mean of empty slice.\n",
      "  return _methods._mean(a, axis=axis, dtype=dtype,\n",
      "c:\\Users\\olebfa\\AppData\\Local\\anaconda3\\lib\\site-packages\\numpy\\core\\_methods.py:190: RuntimeWarning: invalid value encountered in double_scalars\n",
      "  ret = ret.dtype.type(ret / rcount)\n"
     ]
    },
    {
     "name": "stdout",
     "output_type": "stream",
     "text": [
      "    Ullensvang temp imported\n",
      "    Weather imported\n",
      "    Damping imported\n",
      "Assigned  6\n",
      "    Ullensvang temp imported\n",
      "    Weather imported\n",
      "    Damping imported\n",
      "Assigned  7\n"
     ]
    },
    {
     "name": "stderr",
     "output_type": "stream",
     "text": [
      "c:\\Users\\olebfa\\AppData\\Local\\anaconda3\\lib\\site-packages\\numpy\\core\\fromnumeric.py:3432: RuntimeWarning: Mean of empty slice.\n",
      "  return _methods._mean(a, axis=axis, dtype=dtype,\n",
      "c:\\Users\\olebfa\\AppData\\Local\\anaconda3\\lib\\site-packages\\numpy\\core\\_methods.py:190: RuntimeWarning: invalid value encountered in double_scalars\n",
      "  ret = ret.dtype.type(ret / rcount)\n"
     ]
    },
    {
     "name": "stdout",
     "output_type": "stream",
     "text": [
      "    Ullensvang temp imported\n",
      "    Weather imported\n",
      "    Damping imported\n",
      "Assigned  8\n",
      "    Ullensvang temp imported\n",
      "    Weather imported\n",
      "    Damping imported\n",
      "Assigned  9\n",
      "    Ullensvang temp imported\n",
      "    Weather imported\n",
      "    Damping imported\n",
      "Assigned  10\n",
      "    Ullensvang temp imported\n",
      "    Weather imported\n",
      "    Damping imported\n",
      "Assigned  11\n",
      "    Ullensvang temp imported\n",
      "    Weather imported\n",
      "    Damping imported\n",
      "Assigned  12\n",
      "    Ullensvang temp imported\n",
      "    Weather imported\n",
      "    Damping imported\n",
      "Assigned  13\n",
      "    Ullensvang temp imported\n",
      "    Weather imported\n",
      "    Damping imported\n",
      "Assigned  14\n",
      "    Ullensvang temp imported\n",
      "    Weather imported\n",
      "    Damping imported\n",
      "Assigned  15\n",
      "    Ullensvang temp imported\n",
      "    Weather imported\n",
      "    Damping imported\n",
      "Assigned  16\n",
      "    Ullensvang temp imported\n",
      "    Weather imported\n",
      "    Damping imported\n",
      "Assigned  17\n",
      "    Ullensvang temp imported\n",
      "    Weather imported\n",
      "    Damping imported\n",
      "Assigned  18\n",
      "    Ullensvang temp imported\n",
      "    Weather imported\n",
      "    Damping imported\n",
      "Assigned  19\n"
     ]
    },
    {
     "name": "stderr",
     "output_type": "stream",
     "text": [
      "c:\\Users\\olebfa\\AppData\\Local\\anaconda3\\lib\\site-packages\\numpy\\core\\fromnumeric.py:3432: RuntimeWarning: Mean of empty slice.\n",
      "  return _methods._mean(a, axis=axis, dtype=dtype,\n",
      "c:\\Users\\olebfa\\AppData\\Local\\anaconda3\\lib\\site-packages\\numpy\\core\\_methods.py:190: RuntimeWarning: invalid value encountered in double_scalars\n",
      "  ret = ret.dtype.type(ret / rcount)\n"
     ]
    },
    {
     "name": "stdout",
     "output_type": "stream",
     "text": [
      "    Ullensvang temp imported\n",
      "    Weather imported\n",
      "    Damping imported\n",
      "Assigned  20\n",
      "    Ullensvang temp imported\n",
      "    Weather imported\n",
      "    Damping imported\n",
      "Assigned  21\n",
      "    Ullensvang temp imported\n",
      "    Weather imported\n",
      "    Damping imported\n",
      "Assigned  22\n",
      "    Ullensvang temp imported\n",
      "    Weather imported\n",
      "    Damping imported\n",
      "Assigned  23\n",
      "    Ullensvang temp imported\n",
      "    Weather imported\n",
      "    Damping imported\n",
      "Assigned  24\n"
     ]
    },
    {
     "name": "stderr",
     "output_type": "stream",
     "text": [
      "c:\\Users\\olebfa\\AppData\\Local\\anaconda3\\lib\\site-packages\\numpy\\core\\fromnumeric.py:3432: RuntimeWarning: Mean of empty slice.\n",
      "  return _methods._mean(a, axis=axis, dtype=dtype,\n",
      "c:\\Users\\olebfa\\AppData\\Local\\anaconda3\\lib\\site-packages\\numpy\\core\\_methods.py:190: RuntimeWarning: invalid value encountered in double_scalars\n",
      "  ret = ret.dtype.type(ret / rcount)\n"
     ]
    },
    {
     "name": "stdout",
     "output_type": "stream",
     "text": [
      "    Ullensvang temp imported\n",
      "    Weather imported\n",
      "    Damping imported\n"
     ]
    }
   ],
   "source": [
    "phys_traces_ix=np.where([i.isphysical for i in traces])[0]\n",
    "# print(type(traces))\n",
    "phys_traces=[]\n",
    "for ix in phys_traces_ix:\n",
    "    phys_traces.append(traces[ix])\n",
    "\n",
    "\n",
    "\n",
    "for i,trace in enumerate(phys_traces):\n",
    "    Post_obj=Postprocessor()\n",
    "    Post_obj.assign_trace(phys_traces[i],names)\n",
    "    print('Assigned ',+i)\n",
    "    Post_obj.import_temp_fromUllensvang('../../../../../data/Temperaturdata 2 stasjoner.csv')\n",
    "    print('    Ullensvang temp imported')\n",
    "    Post_obj.import_weather(None)\n",
    "    print('    Weather imported')\n",
    "    Post_obj.get_damping_from_trace()\n",
    "    print('    Damping imported')\n",
    "    \n",
    "    #saving:\n",
    "    path='../../../../Tracking/Methode1/'\n",
    "    mean_freq=round(np.mean(Post_obj.trace.frequencies),3)\n",
    "    tot_path=path+'trace_'+str(mean_freq)+'.pkl'\n",
    "    with open(tot_path, 'wb') as fout:\n",
    "        pickle.dump(Post_obj, fout)"
   ]
  },
  {
   "cell_type": "code",
   "execution_count": null,
   "metadata": {},
   "outputs": [
    {
     "name": "stderr",
     "output_type": "stream",
     "text": [
      "c:\\Users\\olebj\\OneDrive - NTNU\\00Master - Onedrive\\OB ymse\\modal-tracking-thesis-spring-2023\\Preprosessing\\Tracking_bridge\\../../src\\_postprocessing.py:102: RuntimeWarning: Mean of empty slice\n",
      "  self.angle.append(np.nanmean(temp))\n",
      "c:\\Users\\olebj\\OneDrive - NTNU\\00Master - Onedrive\\OB ymse\\modal-tracking-thesis-spring-2023\\Preprosessing\\Tracking_bridge\\../../src\\_postprocessing.py:114: RuntimeWarning: Mean of empty slice\n",
      "  self.temp.append(np.nanmean(temp))\n",
      "c:\\Users\\olebj\\OneDrive - NTNU\\00Master - Onedrive\\OB ymse\\modal-tracking-thesis-spring-2023\\Preprosessing\\Tracking_bridge\\../../src\\_postprocessing.py:87: RuntimeWarning: Mean of empty slice\n",
      "  self.horisontal.append(np.nanmean(temp))\n"
     ]
    }
   ],
   "source": [
    "mode1=Postprocessor()\n",
    "mode1.assign_trace(phys_traces[8],names)\n",
    "# fnames,freqs=mode1.get_plot_data()\n",
    "\n",
    "# fig,ax=plt.subplots()\n",
    "# ax.plot(fnames,freqs)\n",
    "# ax.legend(handles=[])\n",
    "# plt.show()\n",
    "\n",
    "matplotlib.use('module://matplotlib_inline.backend_inline')\n",
    "\n",
    "mode1.import_temp_fromUllensvang('../../../../data/Temperaturdata 2 stasjoner.csv')\n",
    "mode1.import_weather(None)\n",
    "mode1.get_damping_from_trace()\n",
    "# print(mode1.ixs)\n",
    "mode1.plot_damping_wind()\n",
    "# mode1.plot_comparisons()"
   ]
  },
  {
   "cell_type": "code",
   "execution_count": 25,
   "metadata": {},
   "outputs": [
    {
     "name": "stdout",
     "output_type": "stream",
     "text": [
      "1470\n",
      "1470\n"
     ]
    }
   ],
   "source": [
    "trace1=traces[0]\n",
    "\n",
    "print(len(trace1.frequencies))\n",
    "print(len(trace1.time_seg))"
   ]
  },
  {
   "cell_type": "code",
   "execution_count": null,
   "metadata": {},
   "outputs": [
    {
     "name": "stdout",
     "output_type": "stream",
     "text": [
      "[<_postprocessing.Postprocessor object at 0x0000018A127800D0>]\n"
     ]
    }
   ],
   "source": [
    "list=import_folder_of_TracePostprocessors('../../../Postprocessors_test')\n",
    "print(list)"
   ]
  },
  {
   "cell_type": "code",
   "execution_count": null,
   "metadata": {},
   "outputs": [],
   "source": [
    "list[0].plot_damping_wind()"
   ]
  },
  {
   "cell_type": "code",
   "execution_count": null,
   "metadata": {},
   "outputs": [],
   "source": [
    "test_ts=import_converted_ts('../../../resampled_interpolated/',names[40])"
   ]
  },
  {
   "cell_type": "code",
   "execution_count": null,
   "metadata": {},
   "outputs": [
    {
     "name": "stdout",
     "output_type": "stream",
     "text": [
      "3100\n",
      "237.32399950619833\n"
     ]
    }
   ],
   "source": [
    "\n",
    "\n",
    "wind_vertical=['A1_vertical','A2_vertical','A3_vertical',\n",
    "               'A4_vertical', 'A6_vertical','A7_vertical',\n",
    "               'A8_vertical']\n",
    "\n",
    "wind_horizontal=[ 'A1_horizontal','A2_horizontal',\n",
    "                 'A3_horizontal', 'A4_horizontal', \n",
    "            'A6_horizontal','A7_horizontal','A8_horizontal',]\n",
    "\n",
    "temp_Atrributes=['A1_temperature','A2_temperature','A3_temperature',\n",
    "                 'A4_temperature','A6_temperature','A7_temperature',\n",
    "                 'A8_temperature']\n",
    "\n",
    "angel_attributes=['A1_angel','A2_angel','A3_angel',\n",
    "                  'A4_angel','A6_angel','A7_angel',\n",
    "                    'A8_angel' ]\n",
    "print(len(test_ts.__getattr__('A4_angel')))\n",
    "print(test_ts.__getattr__('A4_angel').mean(skipna=True))"
   ]
  }
 ],
 "metadata": {
  "kernelspec": {
   "display_name": "base",
   "language": "python",
   "name": "python3"
  },
  "language_info": {
   "codemirror_mode": {
    "name": "ipython",
    "version": 3
   },
   "file_extension": ".py",
   "mimetype": "text/x-python",
   "name": "python",
   "nbconvert_exporter": "python",
   "pygments_lexer": "ipython3",
   "version": "3.10.9"
  },
  "orig_nbformat": 4
 },
 "nbformat": 4,
 "nbformat_minor": 2
}
