{
 "cells": [
  {
   "cell_type": "code",
   "execution_count": 1,
   "metadata": {},
   "outputs": [
    {
     "ename": "ModuleNotFoundError",
     "evalue": "No module named 'mode_visulizer'",
     "output_type": "error",
     "traceback": [
      "\u001b[1;31m---------------------------------------------------------------------------\u001b[0m",
      "\u001b[1;31mModuleNotFoundError\u001b[0m                       Traceback (most recent call last)",
      "\u001b[1;32mc:\\Users\\olebj\\OneDrive - NTNU\\00Master - Onedrive\\OB ymse\\modal-tracking-thesis-spring-2023\\Visulization\\Visulizer_example.ipynb Cell 1\u001b[0m in \u001b[0;36m<cell line: 3>\u001b[1;34m()\u001b[0m\n\u001b[0;32m      <a href='vscode-notebook-cell:/c%3A/Users/olebj/OneDrive%20-%20NTNU/00Master%20-%20Onedrive/OB%20ymse/modal-tracking-thesis-spring-2023/Visulization/Visulizer_example.ipynb#W0sZmlsZQ%3D%3D?line=0'>1</a>\u001b[0m \u001b[39mimport\u001b[39;00m \u001b[39mnumpy\u001b[39;00m \u001b[39mas\u001b[39;00m \u001b[39mnp\u001b[39;00m \n\u001b[1;32m----> <a href='vscode-notebook-cell:/c%3A/Users/olebj/OneDrive%20-%20NTNU/00Master%20-%20Onedrive/OB%20ymse/modal-tracking-thesis-spring-2023/Visulization/Visulizer_example.ipynb#W0sZmlsZQ%3D%3D?line=2'>3</a>\u001b[0m \u001b[39mfrom\u001b[39;00m \u001b[39mmode_visulizer\u001b[39;00m \u001b[39mimport\u001b[39;00m mode_plot\n",
      "\u001b[1;31mModuleNotFoundError\u001b[0m: No module named 'mode_visulizer'"
     ]
    }
   ],
   "source": [
    "import numpy as np \n",
    "\n",
    "from mode_visulizer import mode_plot"
   ]
  },
  {
   "attachments": {},
   "cell_type": "markdown",
   "metadata": {},
   "source": [
    "Setting up the sensors and theire initial placement: \n"
   ]
  },
  {
   "cell_type": "code",
   "execution_count": null,
   "metadata": {},
   "outputs": [],
   "source": [
    "H1E=np.array([ 480.0, 6.33,-8.38])  # 0\n",
    "H1W=np.array([ 480.0,-6.64,-8.38])\n",
    "H2W=np.array([ 360.0,-6.64,-6.64]) \n",
    "H3E=np.array([ 240.0, 6.33,-4.45])\n",
    "H3W=np.array([ 240.0,-6.64,-4.45]) \n",
    "H4E=np.array([ 120.0, 6.33,-2.48]) \n",
    "H4W=np.array([ 120.0,-6.64,-2.48]) \n",
    "H5E=np.array([-7.0  , 6.33, -0.4]) \n",
    "H5W=np.array([-7.0  ,-6.64, -0.4]) \n",
    "H6E=np.array([-120.0, 6.33,-2.25]) \n",
    "H6W=np.array([-120.0,-6.64,-2.25]) \n",
    "H7E=np.array([-240.0, 6.33,-4.22]) \n",
    "H7W=np.array([-240.0,-6.64,-4.22]) \n",
    "H8E=np.array([-360.0, 6.33,-6.18]) \n",
    "H9E=np.array([-480.0, 6.33,-8.15]) \n",
    "H9W=np.array([-480.0,-6.64,-8.15]) # 15\n",
    "\n",
    "H10E=np.array([655  ,  4.5, 120.5]) \n",
    "H10W=np.array([655  , -4.5, 120.5]) \n",
    "H11E=np.array([-655 ,  4.5, 120.5]) \n",
    "H11W=np.array([-655,  -4.5, 120.5]) \n",
    "\n",
    "DOFs_sensors=np.array([H1E,H1W,H2W,H3E,H3W,H4E,H4W,H5E,H5W,H6E,H6W,H7E,H7W,H8E,H9E,H9W,H10E,H10W,H11E,H11W])"
   ]
  },
  {
   "attachments": {},
   "cell_type": "markdown",
   "metadata": {},
   "source": [
    "The aranging of sensors above gives a certain way PHI sould be constructed. Below is an example: "
   ]
  },
  {
   "cell_type": "code",
   "execution_count": null,
   "metadata": {},
   "outputs": [],
   "source": [
    "# PHI=\n",
    "# [H1E_x, H1E_y,  H1E_z,  H1W_x,  H1W_y,  H1W_z,  H2W_x,  H2W_y,  H2W_z, \n",
    "# H3E_x,  H3E_y,  H3E_z,  H3W_x,  H3W_y,  H3W_z,  H4E_x,  H4E_y,  H4E_z, \n",
    "# H4W_x,  H4W_y,  H4W_z,  H5E_x,  H5E_y,  H5E_z,  H5W_x,  H5W_y,  H5W_z, \n",
    "# H6E_x,  H6E_y,  H6E_z,  H6W_x,  H6W_y,  H6W_z,  H7E_x,  H7E_y,  H7E_z, \n",
    "# H7W_x,  H7W_y,  H7W_z,  H8E_x,  H8E_y,  H8E_z,  H9E_x,  H9E_y,  H9E_z, \n",
    "# H9W_x,  H9W_y,  H9W_z, H10E_x, H10E_y, H10E_z, H10W_x, H10W_y, H10W_z, \n",
    "# H11E_x, H11E_y, H11E_z,H11W_x, H11W_y, H11W_z]\n",
    "\n",
    "# H1-H9:   bridge deck\n",
    "# H10-H11: Towers\n",
    "\n",
    "# slicing axamples: \n",
    "#slicing:\n",
    "\n",
    "\n",
    "# bridge_west_side_x=phi[:16*3:3][[1,2,4,6,8,10,12,15]] #len=8\n",
    "# bridge_east_side_x=phi[:16*3:3][[0,3,5,7,9,11,13,14]] #len=8\n",
    "\n",
    "# bridge_west_side_y=phi[1:16*3:3][[1,2,4,6,8,10,12,15]] #len=8\n",
    "# bridge_east_side_y=phi[1:16*3:3][[0,3,5,7,9,11,13,14]] #len=8\n",
    "\n",
    "# bridge_west_side_z=phi[2:16*3:3][[1,2,4,6,8,10,12,15]] #len=8\n",
    "# bridge_east_side_z=phi[2:16*3:3][[0,3,5,7,9,11,13,14]] #len=8\n",
    "\n",
    "# tower_10=phi[16*3:18*3]\n",
    "# tower_11=phi[18*3:20*3]\n",
    "\n",
    "# print(bridge_west_side_x)\n",
    "# print(bridge_east_side_x)\n",
    "\n",
    "# print(bridge_west_side_y)\n",
    "# print(bridge_east_side_y)\n",
    "\n",
    "# print(bridge_west_side_z)\n",
    "# print(bridge_east_side_z)\n",
    "\n",
    "# print(tower_10)\n",
    "# print(tower_11)"
   ]
  },
  {
   "attachments": {},
   "cell_type": "markdown",
   "metadata": {},
   "source": [
    "Using the slicings from the cell above it is possible to construct a mode that only gives horisontal deformation in the bridge deck. "
   ]
  },
  {
   "cell_type": "code",
   "execution_count": null,
   "metadata": {},
   "outputs": [],
   "source": [
    "# creating phi: \n",
    "phi=np.zeros(60)\n",
    "y_shape0=np.sin(np.linspace(0,2*np.pi,11))\n",
    "y_shape=y_shape0[1:-1]\n",
    "\n",
    "phi[1:16*3:3][[1,2,4,6,8,10,12,15]]=y_shape[[0,1,2,3,4,5,6,8]] \n",
    "phi[1:16*3:3][[0,3,5,7,9,11,13,14]]=y_shape[[0,2,3,4,5,6,7,8]]"
   ]
  },
  {
   "attachments": {},
   "cell_type": "markdown",
   "metadata": {},
   "source": [
    "Running the visulizer:"
   ]
  },
  {
   "cell_type": "code",
   "execution_count": null,
   "metadata": {},
   "outputs": [],
   "source": [
    "test=mode_plot(phi)\n",
    "test.show()"
   ]
  },
  {
   "cell_type": "code",
   "execution_count": null,
   "metadata": {},
   "outputs": [
    {
     "name": "stdout",
     "output_type": "stream",
     "text": [
      "Help on class mode_plot in module mode_visulizer:\n",
      "\n",
      "class mode_plot(builtins.object)\n",
      " |  mode_plot(PHI)\n",
      " |  \n",
      " |  Class for pLotting an ineractive plot of a mode. \n",
      " |  \n",
      " |  Arguments: \n",
      " |      DOFs_sensors: 2darray\n",
      " |          Initial state coordintaes for each sensor. \n",
      " |          DOFs_sensors:arr[[x1,y1,z1],[x2,y2,z2],...]\n",
      " |                      = arr[H1E,H1W,H2W,H3E,..., H11W]\n",
      " |      phi: 1darray: \n",
      " |          len: 3*len DOFs_sensors\n",
      " |          Arr([dx1,dy1,dz1,dx2,dy2,dz2.....])\n",
      " |              =[H1E_x,H1E_y,H1E_z,H1W_x,...,H11W_z]\n",
      " |      \n",
      " |  Additional info on how PHI is bulit up: \n",
      " |          [H1E_x, H1E_y,  H1E_z,  H1W_x,  H1W_y,  H1W_z,  \n",
      " |          H2W_x,  H2W_y,  H2W_z, \n",
      " |          H3E_x,  H3E_y,  H3E_z,  H3W_x,  H3W_y,  H3W_z,\n",
      " |          H4E_x,  H4E_y,  H4E_z,  H4W_x,  H4W_y,  H4W_z,  \n",
      " |          H5E_x,  H5E_y,  H5E_z,  H5W_x,  H5W_y,  H5W_z, \n",
      " |          H6E_x,  H6E_y,  H6E_z,  H6W_x,  H6W_y,  H6W_z,  \n",
      " |          H7E_x,  H7E_y,  H7E_z,  H7W_x,  H7W_y,  H7W_z,\n",
      " |          H8E_x,  H8E_y,  H8E_z,  \n",
      " |          H9E_x,  H9E_y,  H9E_z,  H9W_x,  H9W_y,  H9W_z, \n",
      " |          H10E_x, H10E_y, H10E_z,H10W_x, H10W_y, H10W_z, \n",
      " |          H11E_x, H11E_y, H11E_z,H11W_x, H11W_y, H11W_z]\n",
      " |  \n",
      " |          H1-H9:   bridge deck\n",
      " |          H10-H11: Towers\n",
      " |  \n",
      " |          E= east side\n",
      " |          W= west side\n",
      " |  \n",
      " |          slicing axamples: \n",
      " |          #slicing:\n",
      " |  \n",
      " |          bridge_west_side_x=phi[:16*3:3][[1,2,4,6,8,10,12,15]] #len=8\n",
      " |          bridge_east_side_x=phi[:16*3:3][[0,3,5,7,9,11,13,14]] #len=8\n",
      " |  \n",
      " |          bridge_west_side_y=phi[1:16*3:3][[1,2,4,6,8,10,12,15]] #len=8\n",
      " |          bridge_east_side_y=phi[1:16*3:3][[0,3,5,7,9,11,13,14]] #len=8\n",
      " |  \n",
      " |          bridge_west_side_z=phi[2:16*3:3][[1,2,4,6,8,10,12,15]] #len=8\n",
      " |          bridge_east_side_z=phi[2:16*3:3][[0,3,5,7,9,11,13,14]] #len=8\n",
      " |  \n",
      " |          tower_10=phi[16*3:18*3]\n",
      " |          tower_11=phi[18*3:20*3]\n",
      " |  \n",
      " |  Methods defined here:\n",
      " |  \n",
      " |  __init__(self, PHI)\n",
      " |      Initialize self.  See help(type(self)) for accurate signature.\n",
      " |  \n",
      " |  change_mode(self, i)\n",
      " |  \n",
      " |  dummy_point(self, st, sb, z)\n",
      " |  \n",
      " |  play(self, event)\n",
      " |  \n",
      " |  show(self)\n",
      " |  \n",
      " |  sort_phi(self, phi)\n",
      " |  \n",
      " |  update_DOFs(self, event)\n",
      " |  \n",
      " |  ----------------------------------------------------------------------\n",
      " |  Data descriptors defined here:\n",
      " |  \n",
      " |  __dict__\n",
      " |      dictionary for instance variables (if defined)\n",
      " |  \n",
      " |  __weakref__\n",
      " |      list of weak references to the object (if defined)\n",
      "\n"
     ]
    }
   ],
   "source": [
    "help(mode_plot)"
   ]
  }
 ],
 "metadata": {
  "kernelspec": {
   "display_name": "Python 3",
   "language": "python",
   "name": "python3"
  },
  "language_info": {
   "codemirror_mode": {
    "name": "ipython",
    "version": 3
   },
   "file_extension": ".py",
   "mimetype": "text/x-python",
   "name": "python",
   "nbconvert_exporter": "python",
   "pygments_lexer": "ipython3",
   "version": "3.9.12"
  },
  "orig_nbformat": 4,
  "vscode": {
   "interpreter": {
    "hash": "982381247cc18afc3b617cb71ade8d707ab2591c1cea9f6b1b0a1c2143b8ff55"
   }
  }
 },
 "nbformat": 4,
 "nbformat_minor": 2
}
