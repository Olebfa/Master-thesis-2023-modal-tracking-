{
 "cells": [
  {
   "cell_type": "code",
   "execution_count": 1,
   "metadata": {},
   "outputs": [],
   "source": [
    "import sys \n",
    "import os\n",
    "path='../src'\n",
    "if path not in sys.path:\n",
    "    sys.path.insert(1,path)\n",
    "from mode_visulizer import *\n",
    "from preposessing import *\n",
    "import numpy as np\n",
    "%load_ext autoreload\n",
    "%autoreload 2"
   ]
  },
  {
   "attachments": {},
   "cell_type": "markdown",
   "metadata": {},
   "source": [
    "## importing some example data"
   ]
  },
  {
   "cell_type": "code",
   "execution_count": 23,
   "metadata": {},
   "outputs": [
    {
     "ename": "KeyboardInterrupt",
     "evalue": "",
     "output_type": "error",
     "traceback": [
      "\u001b[1;31m---------------------------------------------------------------------------\u001b[0m",
      "\u001b[1;31mKeyboardInterrupt\u001b[0m                         Traceback (most recent call last)",
      "\u001b[1;32mc:\\Users\\olebj\\OneDrive - NTNU\\00Master - Onedrive\\OB ymse\\modal-tracking-thesis-spring-2023\\Visulization\\Develop_printable_view.ipynb Cell 3\u001b[0m in \u001b[0;36m<cell line: 3>\u001b[1;34m()\u001b[0m\n\u001b[0;32m      <a href='vscode-notebook-cell:/c%3A/Users/olebj/OneDrive%20-%20NTNU/00Master%20-%20Onedrive/OB%20ymse/modal-tracking-thesis-spring-2023/Visulization/Develop_printable_view.ipynb#X11sZmlsZQ%3D%3D?line=1'>2</a>\u001b[0m tss\u001b[39m=\u001b[39m[]\n\u001b[0;32m      <a href='vscode-notebook-cell:/c%3A/Users/olebj/OneDrive%20-%20NTNU/00Master%20-%20Onedrive/OB%20ymse/modal-tracking-thesis-spring-2023/Visulization/Develop_printable_view.ipynb#X11sZmlsZQ%3D%3D?line=2'>3</a>\u001b[0m \u001b[39mfor\u001b[39;00m name \u001b[39min\u001b[39;00m names:\n\u001b[1;32m----> <a href='vscode-notebook-cell:/c%3A/Users/olebj/OneDrive%20-%20NTNU/00Master%20-%20Onedrive/OB%20ymse/modal-tracking-thesis-spring-2023/Visulization/Develop_printable_view.ipynb#X11sZmlsZQ%3D%3D?line=3'>4</a>\u001b[0m     tss\u001b[39m.\u001b[39mappend(import_converted_ts(\u001b[39m'\u001b[39;49m\u001b[39m../../5hz_resampled_int_trans_clustered/\u001b[39;49m\u001b[39m'\u001b[39;49m,name))\n\u001b[0;32m      <a href='vscode-notebook-cell:/c%3A/Users/olebj/OneDrive%20-%20NTNU/00Master%20-%20Onedrive/OB%20ymse/modal-tracking-thesis-spring-2023/Visulization/Develop_printable_view.ipynb#X11sZmlsZQ%3D%3D?line=4'>5</a>\u001b[0m ts\u001b[39m=\u001b[39mtss[\u001b[39m0\u001b[39m]\n\u001b[0;32m      <a href='vscode-notebook-cell:/c%3A/Users/olebj/OneDrive%20-%20NTNU/00Master%20-%20Onedrive/OB%20ymse/modal-tracking-thesis-spring-2023/Visulization/Develop_printable_view.ipynb#X11sZmlsZQ%3D%3D?line=5'>6</a>\u001b[0m plot\u001b[39m=\u001b[39mmode_plot(ts\u001b[39m.\u001b[39mPHI_median)\n",
      "File \u001b[1;32mc:\\Users\\olebj\\OneDrive - NTNU\\00Master - Onedrive\\OB ymse\\modal-tracking-thesis-spring-2023\\Visulization\\../src\\preposessing.py:148\u001b[0m, in \u001b[0;36mimport_converted_ts\u001b[1;34m(path, name)\u001b[0m\n\u001b[0;32m    146\u001b[0m     tot_path\u001b[39m=\u001b[39mpath\u001b[39m+\u001b[39mname\n\u001b[0;32m    147\u001b[0m \u001b[39melse\u001b[39;00m: tot_path\u001b[39m=\u001b[39mpath\u001b[39m+\u001b[39mname\u001b[39m+\u001b[39m\u001b[39m'\u001b[39m\u001b[39m.pkl\u001b[39m\u001b[39m'\u001b[39m\n\u001b[1;32m--> 148\u001b[0m \u001b[39mwith\u001b[39;00m \u001b[39mopen\u001b[39m(tot_path, \u001b[39m\"\u001b[39m\u001b[39mrb\u001b[39m\u001b[39m\"\u001b[39m) \u001b[39mas\u001b[39;00m file:\n\u001b[0;32m    149\u001b[0m     \u001b[39mreturn\u001b[39;00m pickle\u001b[39m.\u001b[39mload(file)\n",
      "\u001b[1;31mKeyboardInterrupt\u001b[0m: "
     ]
    }
   ],
   "source": [
    "names=os.listdir('../../5hz_resampled_int_trans_clustered/')\n",
    "tss=[]\n",
    "for name in names:\n",
    "    tss.append(import_converted_ts('../../5hz_resampled_int_trans_clustered/',name))\n",
    "ts=tss[0]\n",
    "plot=mode_plot(ts.PHI_median)\n",
    "\n",
    "freqs=np.asarray(ts.lambds_median[:5])/2/np.pi\n",
    "damps=(np.asarray(ts.xi_auto[:5],dtype=object))\n",
    "damps_med=[np.median(i) for i in damps]\n",
    "print(damps_med)\n",
    "\n",
    "plot.gan_report_figures_for_freqs(freqs,damps_med)"
   ]
  }
 ],
 "metadata": {
  "kernelspec": {
   "display_name": "base",
   "language": "python",
   "name": "python3"
  },
  "language_info": {
   "codemirror_mode": {
    "name": "ipython",
    "version": 3
   },
   "file_extension": ".py",
   "mimetype": "text/x-python",
   "name": "python",
   "nbconvert_exporter": "python",
   "pygments_lexer": "ipython3",
   "version": "3.9.12"
  },
  "orig_nbformat": 4
 },
 "nbformat": 4,
 "nbformat_minor": 2
}
