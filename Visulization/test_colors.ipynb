{
 "cells": [
  {
   "cell_type": "code",
   "execution_count": null,
   "metadata": {},
   "outputs": [],
   "source": []
  },
  {
   "cell_type": "code",
   "execution_count": 35,
   "metadata": {},
   "outputs": [
    {
     "name": "stdout",
     "output_type": "stream",
     "text": [
      "[[1.         0.         0.         1.        ]\n",
      " [0.         0.         1.         1.        ]\n",
      " [0.         0.50196078 0.         1.        ]\n",
      " [0.50196078 0.50196078 0.50196078 1.        ]\n",
      " [0.         0.         0.         1.        ]\n",
      " [1.         1.         0.         1.        ]]\n",
      "[(-30.0, -30.0, -0.009820640173160334), (-20.0, -30.0, -0.11963988960005345), (-10.0, -30.0, -0.5361887855972749), (0.0, -30.0, -0.8840258559249323), (10.0, -30.0, -0.5361887855964835), (20.0, -30.0, -0.11963988959915933)]\n",
      "[(-30.0, 20.0, 0.2905469769301693), (-20.0, 20.0, 0.4858374108380322), (-10.0, 20.0, -0.6287416759044318), (0.0, 20.0, 0.7285647283170361), (10.0, 20.0, 7.827402892223296), (20.0, 20.0, 10.040692146727256)]\n",
      "[(-30.0, -30.0, -0.009820640173160334), (-30.0, -20.0, -0.11963984343978461), (-30.0, -10.0, -0.5351720340095751), (-30.0, 0.0, -0.47383898939560376), (-30.0, 10.0, 2.4947049822399108), (-30.0, 20.0, 0.2905469769301693)]\n",
      "[(20.0, -30.0, -0.11963988959915933), (20.0, -20.0, -1.457510938561658), (20.0, -10.0, -6.503615443209662), (20.0, 0.0, 0.7285647283170361), (20.0, 10.0, 78.42876055284198), (20.0, 20.0, 10.040692146727256)]\n",
      "[[-30. -20. -10.   0.  10.  20.]\n",
      " [-30. -20. -10.   0.  10.  20.]\n",
      " [-30. -20. -10.   0.  10.  20.]\n",
      " [-30. -20. -10.   0.  10.  20.]\n",
      " [-30. -20. -10.   0.  10.  20.]\n",
      " [-30. -20. -10.   0.  10.  20.]]\n"
     ]
    }
   ],
   "source": [
    "from mpl_toolkits.mplot3d import axes3d\n",
    "import matplotlib.pyplot as plt\n",
    "import matplotlib\n",
    "import matplotlib.colors as mc\n",
    "matplotlib.use('tkagg')\n",
    "\n",
    "fig = plt.figure()\n",
    "ax = fig.add_subplot(projection='3d')\n",
    "\n",
    "cs=['red','blue','green','grey','black','yellow']\n",
    "cs_tup=mc.to_rgba_array(cs,alpha=1)\n",
    "print(cs_tup)\n",
    "# Grab some test data.\n",
    "X, Y, Z = axes3d.get_test_data(1)\n",
    "\n",
    "# Plot a basic wireframe.\n",
    "lines=ax.plot_wireframe(X, Y, Z, rstride=100, cstride=100,colors=cs_tup)\n",
    "for line in lines._segments3d:\n",
    "    print(line)\n",
    "    ax.scatter(line[0],line[-1])\n",
    "    # ax.plot(line[:][0],line[:][1])\n",
    "# print((lines._segments3d))\n",
    "# lines.set(color='red')\n",
    "print(X)\n",
    "plt.show()"
   ]
  }
 ],
 "metadata": {
  "kernelspec": {
   "display_name": "base",
   "language": "python",
   "name": "python3"
  },
  "language_info": {
   "codemirror_mode": {
    "name": "ipython",
    "version": 3
   },
   "file_extension": ".py",
   "mimetype": "text/x-python",
   "name": "python",
   "nbconvert_exporter": "python",
   "pygments_lexer": "ipython3",
   "version": "3.10.9"
  },
  "orig_nbformat": 4
 },
 "nbformat": 4,
 "nbformat_minor": 2
}
