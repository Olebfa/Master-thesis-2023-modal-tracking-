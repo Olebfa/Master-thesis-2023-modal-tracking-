{
 "cells": [
  {
   "cell_type": "code",
   "execution_count": 2,
   "metadata": {},
   "outputs": [
    {
     "name": "stdout",
     "output_type": "stream",
     "text": [
      "Could not import mat 73. Intall width \"pip install mat73\" if class \"import_file\" is to be used.\n"
     ]
    }
   ],
   "source": [
    "import numpy as np\n",
    "import matplotlib.pyplot as plt\n",
    "import matplotlib\n",
    "import sys\n",
    "from scipy import integrate as integ\n",
    "import os\n",
    "src_path='../src'\n",
    "if not src_path in sys.path:\n",
    "    sys.path.insert(1,src_path)\n",
    "from mode_visulizer import *\n",
    "from preposessing import *\n",
    "# from utils_OB import *\n",
    "# from _tracking import *\n",
    "%load_ext autoreload\n",
    "import pickle\n",
    "%autoreload 2\n",
    "# from utils_JK import *\n",
    "# from _postprocessing import *\n",
    "import seaborn as sns\n",
    "sns.set_theme(context='paper', style = 'ticks', color_codes='deep')\n",
    "matplotlib.use('module://matplotlib_inline.backend_inline')"
   ]
  },
  {
   "cell_type": "code",
   "execution_count": 3,
   "metadata": {},
   "outputs": [],
   "source": [
    "# 'C:/Users/nx301/OneDrive - NTNU/00Master - Onedrive/OB ymse/Remote_desktop/modal-tracking-thesis-spring-2023/test_data_hardanger/converted_ts/'\n",
    "file_path='c:/Users/nx301/OneDrive - NTNU/00Master - Onedrive/OB ymse/5hz_resampled_int_trans_clustered_3/'\n",
    "file_names=os.listdir(file_path)\n",
    "file=import_converted_ts(file_path,file_names[0])\n",
    "PHI=file.PHI_median"
   ]
  },
  {
   "cell_type": "code",
   "execution_count": 4,
   "metadata": {},
   "outputs": [],
   "source": [
    "\n",
    "# plot.show()\n"
   ]
  },
  {
   "cell_type": "code",
   "execution_count": 12,
   "metadata": {},
   "outputs": [],
   "source": [
    "plot=mode_plot(PHI)\n",
    "plot.create_GIF_mode(9,20,60)"
   ]
  },
  {
   "cell_type": "code",
   "execution_count": 4,
   "metadata": {},
   "outputs": [
    {
     "name": "stderr",
     "output_type": "stream",
     "text": [
      "Exception in Tkinter callback\n",
      "Traceback (most recent call last):\n",
      "  File \"c:\\Users\\nx301\\AppData\\Local\\anaconda3\\Lib\\tkinter\\__init__.py\", line 1948, in __call__\n",
      "    return self.func(*args)\n",
      "           ^^^^^^^^^^^^^^^^\n",
      "  File \"c:\\Users\\nx301\\AppData\\Local\\anaconda3\\Lib\\tkinter\\__init__.py\", line 861, in callit\n",
      "    func(*args)\n",
      "  File \"c:\\Users\\nx301\\AppData\\Local\\anaconda3\\Lib\\site-packages\\matplotlib\\backends\\_backend_tk.py\", line 271, in idle_draw\n",
      "    self.draw()\n",
      "  File \"c:\\Users\\nx301\\AppData\\Local\\anaconda3\\Lib\\site-packages\\matplotlib\\backends\\backend_tkagg.py\", line 10, in draw\n",
      "    super().draw()\n",
      "  File \"c:\\Users\\nx301\\AppData\\Local\\anaconda3\\Lib\\site-packages\\matplotlib\\backends\\backend_agg.py\", line 400, in draw\n",
      "    self.figure.draw(self.renderer)\n",
      "  File \"c:\\Users\\nx301\\AppData\\Local\\anaconda3\\Lib\\site-packages\\matplotlib\\artist.py\", line 95, in draw_wrapper\n",
      "    result = draw(artist, renderer, *args, **kwargs)\n",
      "             ^^^^^^^^^^^^^^^^^^^^^^^^^^^^^^^^^^^^^^^\n",
      "  File \"c:\\Users\\nx301\\AppData\\Local\\anaconda3\\Lib\\site-packages\\matplotlib\\artist.py\", line 72, in draw_wrapper\n",
      "    return draw(artist, renderer)\n",
      "           ^^^^^^^^^^^^^^^^^^^^^^\n",
      "  File \"c:\\Users\\nx301\\AppData\\Local\\anaconda3\\Lib\\site-packages\\matplotlib\\figure.py\", line 3139, in draw\n",
      "    self.patch.draw(renderer)\n",
      "  File \"c:\\Users\\nx301\\AppData\\Local\\anaconda3\\Lib\\site-packages\\matplotlib\\artist.py\", line 72, in draw_wrapper\n",
      "    return draw(artist, renderer)\n",
      "           ^^^^^^^^^^^^^^^^^^^^^^\n",
      "  File \"c:\\Users\\nx301\\AppData\\Local\\anaconda3\\Lib\\site-packages\\matplotlib\\patches.py\", line 590, in draw\n",
      "    affine = transform.get_affine()\n",
      "             ^^^^^^^^^^^^^^^^^^^^^^\n",
      "  File \"c:\\Users\\nx301\\AppData\\Local\\anaconda3\\Lib\\site-packages\\matplotlib\\transforms.py\", line 2442, in get_affine\n",
      "    self._a.get_affine().get_matrix()))\n",
      "    ^^^^^^^^^^^^^^^^^^^^\n",
      "  File \"c:\\Users\\nx301\\AppData\\Local\\anaconda3\\Lib\\site-packages\\matplotlib\\transforms.py\", line 2441, in get_affine\n",
      "    return Affine2D(np.dot(self._b.get_affine().get_matrix(),\n",
      "                    ^^^^^^^^^^^^^^^^^^^^^^^^^^^^^^^^^^^^^^^^^\n",
      "  File \"<__array_function__ internals>\", line 200, in dot\n",
      "KeyboardInterrupt\n"
     ]
    }
   ],
   "source": [
    "frames=[392,200,166,142,110,94,94,70,62,60]\n",
    "\n",
    "for mode_nr,frames in enumerate(frames):\n",
    "    plot=mode_plot(PHI)\n",
    "    plot.create_GIF_mode(mode_nr,20,frames)"
   ]
  }
 ],
 "metadata": {
  "kernelspec": {
   "display_name": "base",
   "language": "python",
   "name": "python3"
  },
  "language_info": {
   "codemirror_mode": {
    "name": "ipython",
    "version": 3
   },
   "file_extension": ".py",
   "mimetype": "text/x-python",
   "name": "python",
   "nbconvert_exporter": "python",
   "pygments_lexer": "ipython3",
   "version": "3.11.5"
  },
  "orig_nbformat": 4
 },
 "nbformat": 4,
 "nbformat_minor": 2
}
