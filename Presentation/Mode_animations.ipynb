{
 "cells": [
  {
   "cell_type": "code",
   "execution_count": 1,
   "metadata": {},
   "outputs": [
    {
     "name": "stdout",
     "output_type": "stream",
     "text": [
      "Could not import mat 73. Intall width \"pip install mat73\" if class \"import_file\" is to be used.\n"
     ]
    }
   ],
   "source": [
    "import numpy as np\n",
    "import matplotlib.pyplot as plt\n",
    "import matplotlib\n",
    "import sys\n",
    "from scipy import integrate as integ\n",
    "import os\n",
    "src_path='../src'\n",
    "if not src_path in sys.path:\n",
    "    sys.path.insert(1,src_path)\n",
    "from mode_visulizer import *\n",
    "from preposessing import *\n",
    "# from utils_OB import *\n",
    "# from _tracking import *\n",
    "%load_ext autoreload\n",
    "import pickle\n",
    "%autoreload 2\n",
    "# from utils_JK import *\n",
    "# from _postprocessing import *\n",
    "import seaborn as sns\n",
    "sns.set_theme(context='paper', style = 'ticks', color_codes='deep')\n",
    "matplotlib.use('module://matplotlib_inline.backend_inline')"
   ]
  },
  {
   "cell_type": "code",
   "execution_count": 5,
   "metadata": {},
   "outputs": [],
   "source": [
    "# 'C:/Users/nx301/OneDrive - NTNU/00Master - Onedrive/OB ymse/Remote_desktop/modal-tracking-thesis-spring-2023/test_data_hardanger/converted_ts/'\n",
    "file_path='c:/Users/nx301/OneDrive - NTNU/00Master - Onedrive/OB ymse/5hz_resampled_int_trans_clustered_3/'\n",
    "file_names=os.listdir(file_path)\n",
    "file=import_converted_ts(file_path,file_names[0])\n",
    "PHI=file.PHI_median"
   ]
  },
  {
   "cell_type": "code",
   "execution_count": 8,
   "metadata": {},
   "outputs": [],
   "source": [
    "plot=mode_plot(PHI)\n",
    "# plot.show()\n"
   ]
  },
  {
   "cell_type": "code",
   "execution_count": 10,
   "metadata": {},
   "outputs": [
    {
     "name": "stderr",
     "output_type": "stream",
     "text": [
      "Traceback (most recent call last):\n",
      "  File \"c:\\Users\\nx301\\AppData\\Local\\anaconda3\\Lib\\site-packages\\matplotlib\\cbook\\__init__.py\", line 304, in process\n",
      "    func(*args, **kwargs)\n",
      "  File \"c:\\Users\\nx301\\AppData\\Local\\anaconda3\\Lib\\site-packages\\matplotlib\\animation.py\", line 904, in _start\n",
      "    self._init_draw()\n",
      "  File \"c:\\Users\\nx301\\AppData\\Local\\anaconda3\\Lib\\site-packages\\matplotlib\\animation.py\", line 1748, in _init_draw\n",
      "    self._draw_frame(frame_data)\n",
      "  File \"c:\\Users\\nx301\\AppData\\Local\\anaconda3\\Lib\\site-packages\\matplotlib\\animation.py\", line 1767, in _draw_frame\n",
      "    self._drawn_artists = self._func(framedata, *self._args)\n",
      "                          ^^^^^^^^^^^^^^^^^^^^^^^^^^^^^^^^^^\n",
      "TypeError: 'NoneType' object is not callable\n"
     ]
    }
   ],
   "source": [
    "plot.create_GIF_mode(1,20,'mode_test.gif')"
   ]
  }
 ],
 "metadata": {
  "kernelspec": {
   "display_name": "base",
   "language": "python",
   "name": "python3"
  },
  "language_info": {
   "codemirror_mode": {
    "name": "ipython",
    "version": 3
   },
   "file_extension": ".py",
   "mimetype": "text/x-python",
   "name": "python",
   "nbconvert_exporter": "python",
   "pygments_lexer": "ipython3",
   "version": "3.11.4"
  },
  "orig_nbformat": 4
 },
 "nbformat": 4,
 "nbformat_minor": 2
}
