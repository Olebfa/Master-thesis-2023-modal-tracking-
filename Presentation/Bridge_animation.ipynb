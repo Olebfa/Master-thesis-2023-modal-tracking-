{
 "cells": [
  {
   "cell_type": "code",
   "execution_count": 1,
   "metadata": {},
   "outputs": [
    {
     "name": "stdout",
     "output_type": "stream",
     "text": [
      "Could not import mat 73. Intall width \"pip install mat73\" if class \"import_file\" is to be used.\n"
     ]
    }
   ],
   "source": [
    "import numpy as np\n",
    "import matplotlib.pyplot as plt\n",
    "import matplotlib\n",
    "import sys\n",
    "from scipy import integrate as integ\n",
    "import os\n",
    "src_path='../src'\n",
    "if not src_path in sys.path:\n",
    "    sys.path.insert(1,src_path)\n",
    "from mode_visulizer import *\n",
    "from preposessing import *\n",
    "# from utils_OB import *\n",
    "# from _tracking import *\n",
    "%load_ext autoreload\n",
    "import pickle\n",
    "%autoreload 2\n",
    "# from utils_JK import *\n",
    "# from _postprocessing import *\n",
    "import seaborn as sns\n",
    "sns.set_theme(context='paper', style = 'ticks', color_codes='deep')\n",
    "matplotlib.use('module://matplotlib_inline.backend_inline')"
   ]
  },
  {
   "cell_type": "code",
   "execution_count": 2,
   "metadata": {},
   "outputs": [
    {
     "name": "stdout",
     "output_type": "stream",
     "text": [
      "dict_keys(['H1_East_x', 'H1_East_y', 'H1_East_z', 'H1_Vest_x', 'H1_Vest_y', 'H1_Vest_z', 'H2_Vest_x', 'H2_Vest_y', 'H2_Vest_z', 'H3_East_x', 'H3_East_y', 'H3_East_z', 'H3_Vest_x', 'H3_Vest_y', 'H3_Vest_z', 'H4_East_x', 'H4_East_y', 'H4_East_z', 'H4_Vest_x', 'H4_Vest_y', 'H4_Vest_z', 'H5_East_x', 'H5_East_y', 'H5_East_z', 'H5_Vest_x', 'H5_Vest_y', 'H5_Vest_z', 'H6_East_x', 'H6_East_y', 'H6_East_z', 'H6_Vest_x', 'H6_Vest_y', 'H6_Vest_z', 'H7_East_x', 'H7_East_y', 'H7_East_z', 'H7_Vest_x', 'H7_Vest_y', 'H7_Vest_z', 'H8_East_x', 'H8_East_y', 'H8_East_z', 'H9_East_x', 'H9_East_y', 'H9_East_z', 'H9_Vest_x', 'H9_Vest_y', 'H9_Vest_z', 'H10_East_x', 'H10_East_y', 'H10_East_z', 'H10_Vest_x', 'H10_Vest_y', 'H10_Vest_z', 'H11_East_x', 'H11_East_y', 'H11_East_z', 'H11_Vest_x', 'H11_Vest_y', 'H11_Vest_z'])\n"
     ]
    }
   ],
   "source": [
    "# raw series to plot: \n",
    "file_path='C:/Users/nx301/OneDrive - NTNU/00Master - Onedrive/OB ymse/Remote_desktop/modal-tracking-thesis-spring-2023/test_data_hardanger/converted_ts/'\n",
    "file_path2='C:/Users/nx301/OneDrive - NTNU/00Master - Onedrive/OB ymse/resampl/'\n",
    "file_names=os.listdir(file_path)\n",
    "file=import_converted_ts(file_path,file_names[0])\n",
    "keys=file.ac_data.keys()\n",
    "length=len(file.ac_data.get(list(keys)[0]))\n",
    "print(file.ac_data.keys())\n",
    "\n"
   ]
  },
  {
   "cell_type": "code",
   "execution_count": 3,
   "metadata": {},
   "outputs": [
    {
     "name": "stdout",
     "output_type": "stream",
     "text": [
      "(60, 37200)\n",
      "(60, 3720)\n",
      "(3720, 60)\n"
     ]
    }
   ],
   "source": [
    "# timeseries=np.array([[0]*length]*len(keys))\n",
    "timeseries=np.ones((len(keys),length))\n",
    "\n",
    "for i, key in enumerate(keys): \n",
    "    # timeseries[i]=np.append(timeseries[i],file.ac_data.get(key))\n",
    "    timeseries[i]=file.ac_data.get(key)\n",
    "    \n",
    "timeseries=np.nan_to_num(timeseries,0)\n",
    "\n",
    "sparse_ts=timeseries[:,::10] \n",
    "print(np.shape(timeseries))\n",
    "print(np.shape(sparse_ts))\n",
    "print(np.shape(sparse_ts.T*100000))"
   ]
  },
  {
   "cell_type": "code",
   "execution_count": 29,
   "metadata": {},
   "outputs": [],
   "source": [
    "plot=mode_plot(timeseries.T[0]*100)\n",
    "# plot.show()"
   ]
  },
  {
   "cell_type": "code",
   "execution_count": 32,
   "metadata": {},
   "outputs": [],
   "source": [
    "plot.create_GIF_ts(timeseries.T[:1000:10]*15,200,'test.gif')\n",
    "# print(np.shape(sparse_ts.T[0]))"
   ]
  },
  {
   "cell_type": "code",
   "execution_count": 23,
   "metadata": {},
   "outputs": [
    {
     "name": "stdout",
     "output_type": "stream",
     "text": [
      "(60, 37198)\n"
     ]
    }
   ],
   "source": [
    "ts_v=integ.cumtrapz(timeseries,dx=1/200)\n",
    "ts_pos=integ.cumtrapz(ts_v,dx=1/200)\n",
    "print(np.shape(ts_pos))"
   ]
  },
  {
   "cell_type": "code",
   "execution_count": 28,
   "metadata": {},
   "outputs": [],
   "source": [
    "plot.create_GIF_ts(ts_pos.T[:1000:10],20,'test2.gif')"
   ]
  }
 ],
 "metadata": {
  "kernelspec": {
   "display_name": "base",
   "language": "python",
   "name": "python3"
  },
  "language_info": {
   "codemirror_mode": {
    "name": "ipython",
    "version": 3
   },
   "file_extension": ".py",
   "mimetype": "text/x-python",
   "name": "python",
   "nbconvert_exporter": "python",
   "pygments_lexer": "ipython3",
   "version": "3.11.4"
  },
  "orig_nbformat": 4
 },
 "nbformat": 4,
 "nbformat_minor": 2
}
